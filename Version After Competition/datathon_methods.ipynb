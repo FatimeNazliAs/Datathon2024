{
 "cells": [
  {
   "cell_type": "code",
   "execution_count": 1,
   "id": "97db21f5-c635-4dda-b514-45371568e755",
   "metadata": {},
   "outputs": [],
   "source": [
    "def find_columns_with_less_than_x_categories(data,cat_cols,num):\n",
    "    column_with_less_than_x_categories=[]\n",
    "    for i in cat_cols:\n",
    "        if len(data[i].unique())<=num:\n",
    "            column_with_less_than_x_categories.append(i)\n",
    "    return column_with_less_than_x_categories\n",
    "    \n",
    "    "
   ]
  },
  {
   "cell_type": "code",
   "execution_count": 2,
   "id": "e33a9d75-a569-4ca4-a98c-9040e08ae1b6",
   "metadata": {},
   "outputs": [],
   "source": [
    "def show_unique_values_of_columns_in_train_and_test_data(data,test_data,cols):\n",
    "    for i in cols:\n",
    "        print(\"Train Data\")\n",
    "        print(i,data[i].unique())\n",
    "        print(\"Train Data Isna()\")\n",
    "        print(len(data[data[i].isna()]))\n",
    "        print(\"--------------\")\n",
    "        print(\"Test Data\")\n",
    "        print(i,test_data[i].unique())\n",
    "        print(\"Test Data Isna()\")\n",
    "        print(len(test_data[test_data[i].isna()]))\n",
    "        print(\"--------------\")\n",
    "    "
   ]
  },
  {
   "cell_type": "code",
   "execution_count": 3,
   "id": "d624cd21-74c0-4cda-b049-368e64596e21",
   "metadata": {},
   "outputs": [],
   "source": [
    "def show_missing_data_count(data):\n",
    "    print( data.isnull().sum().sort_values(ascending=True))"
   ]
  },
  {
   "cell_type": "markdown",
   "id": "e633c000-342d-49d3-a50a-9cce3509830d",
   "metadata": {},
   "source": [
    "#### Function: `replace_month`\n",
    "\n",
    "This function replaces Turkish month names in a string with their English equivalents.\n",
    "\n",
    "#### Parameters:\n",
    "- **text**: A string potentially containing a month name.\n",
    "\n",
    "#### Process:\n",
    "1. Checks if the input is a string.\n",
    "2. Uses regex to extract alphabetic substrings.\n",
    "3. Replaces any found month name with its English equivalent from `month_map`.\n",
    "\n",
    "#### Returns:\n",
    "- The modified string with the replaced month name, or the original text if no match is found.\n"
   ]
  },
  {
   "cell_type": "code",
   "execution_count": 4,
   "id": "6e0f93ae-995d-4a53-a491-1e020710b200",
   "metadata": {},
   "outputs": [],
   "source": [
    "def replace_month(text):\n",
    "    if isinstance(text, str):\n",
    "        month = re.findall(r'[a-zA-Z]+', text)\n",
    "        if month:\n",
    "            month_name = month[0]\n",
    "            if month_name in month_map:\n",
    "                return text.replace(month_name, month_map[month_name])\n",
    "    return text"
   ]
  },
  {
   "cell_type": "markdown",
   "id": "05bfa138-7e6a-4d40-8b4b-7da7ea91e18d",
   "metadata": {},
   "source": [
    "#### Function: `replace_birth_dates`\n",
    "\n",
    "This function converts a birth date string into the format **DD.MM.YYYY**.\n",
    "\n",
    "#### Parameters:\n",
    "- **text**: A string representing a birth date, which may include mixed content.\n",
    "\n",
    "#### Process:\n",
    "1. Attempts to parse the date using `fuzzy_with_tokens` to handle various formats and content.\n",
    "2. If successful, it formats the date as **DD.MM.YYYY**.\n",
    "\n",
    "#### Returns:\n",
    "- The formatted date string if parsing is successful, or the original string if parsing fails.\n"
   ]
  },
  {
   "cell_type": "code",
   "execution_count": 5,
   "id": "4c08ee56-5ffa-4739-9192-d0aec7696442",
   "metadata": {},
   "outputs": [],
   "source": [
    "def replace_birth_dates(text):\n",
    "    try:\n",
    "        # Parse the date and format it as DD-MM-YYYY\n",
    "        dt, _ = parse(text, fuzzy_with_tokens=True)  # `fuzzy_with_tokens` allows handling mixed content\n",
    "        return dt.strftime('%d.%m.%Y')\n",
    "    except (ValueError, TypeError):\n",
    "        # Return the original value if parsing fails\n",
    "        return text"
   ]
  },
  {
   "cell_type": "markdown",
   "id": "4d2c9f38-bfe4-480b-8a6d-f33ea963bf62",
   "metadata": {},
   "source": [
    "#### Function: `find_age`\n",
    "\n",
    "This function calculates a person's age based on their birth date.\n",
    "\n",
    "#### Parameters:\n",
    "- **text**: A string representing the birth date in the format **DD.MM.YYYY**.\n",
    "\n",
    "#### Process:\n",
    "1. Checks if the input is missing (`NaN`). If so, returns `None`.\n",
    "2. Converts the string to a date object.\n",
    "3. Calculates the age by subtracting the birth year from the current year, adjusting for whether the birthday has occurred this year.\n",
    "4. Validates the calculated age, returning `None` for ages less than 0 or greater than 100.\n",
    "\n",
    "#### Returns:\n",
    "- The calculated age as an integer, or `None` if the input is invalid or the calculated age is out of bounds.\n",
    "\n",
    "#### Usage:\n",
    "- This function is applied to the `col` column in the DataFrame to create a new column `Yas` containing the calculated ages.\n"
   ]
  },
  {
   "cell_type": "code",
   "execution_count": 6,
   "id": "2053fc69-97f2-45f9-83f4-f47b24a5df65",
   "metadata": {},
   "outputs": [],
   "source": [
    "def find_age(text):\n",
    "    try:\n",
    "        if pd.isna(text):\n",
    "            return None\n",
    "        text = datetime.strptime(text, '%d.%m.%Y').date()\n",
    "        today = date.today()\n",
    "        # Calculate age\n",
    "        age = today.year - text.year - ((today.month, today.day) < (text.month, text.day))\n",
    "        if age<0 or age>100 :  \n",
    "            # print(f\"Invalid date entry are calculated: {text}\")\n",
    "            return None\n",
    "        return age\n",
    "    except (ValueError, TypeError):\n",
    "        # print(f\"Invalid format or missing data: {text}\")  # Log invalid formats\n",
    "        return None\n",
    "\n",
    "\n"
   ]
  },
  {
   "cell_type": "code",
   "execution_count": 7,
   "id": "b98a78e8-5daa-4a19-a815-6f0defe3634f",
   "metadata": {},
   "outputs": [],
   "source": [
    "def display_bar_plot_for_categorical_cols(data,cols):\n",
    "    total_categories = len(cols)\n",
    "    \n",
    "    # Her satırda kaç grafik gösterileceği\n",
    "    n_cols = 4\n",
    "    n_rows = (total_categories + n_cols - 1) // n_cols  # Gerekli satır sayısını hesapla\n",
    "    \n",
    "    # Subplots oluştur\n",
    "    fig, axs = plt.subplots(n_rows, n_cols, figsize=(20, n_rows * 5))\n",
    "    \n",
    "    # Grafikleri oluştur\n",
    "    for i, col in enumerate(cols):\n",
    "        ax = axs[i // n_cols, i % n_cols]  # Satır ve sütun indekslerini hesapla\n",
    "        sns.barplot(x=data[col].value_counts().index, y=data[col].value_counts(), ax=ax, width=0.3)\n",
    "        ax.set_title(col)\n",
    "        ax.tick_params(axis='x', rotation=45)  # X ekseni etiketlerini döndür\n",
    "    \n",
    "    # Kalan boş alt grafik alanlarını kaldır\n",
    "    for j in range(i + 1, n_rows * n_cols):\n",
    "        fig.delaxes(axs.flatten()[j])\n",
    "    \n",
    "    plt.tight_layout()\n",
    "    plt.show()\n"
   ]
  },
  {
   "cell_type": "markdown",
   "id": "30ee5228-baf1-4718-84c3-fd535c292588",
   "metadata": {},
   "source": [
    "#### 1. `match_cities_in_train_data_with_test_data`\n",
    "This function standardizes and matches city names between two datasets: `train_data` and `test_data`.\n",
    "\n",
    "- **Step 1**: Corrects spelling mistakes in city names (like Istanbul and Izmir) using the `replace_izmir_istanbul_cities_with_correct_spelling` function.\n",
    "- **Step 2**: Removes non-alphabetic characters (like '-', '/', ',') from `train_data` and matches cleaned names with `test_data` using `remove_non_alpha_characters_from_data_and_match_with_test_data`.\n",
    "- **Step 3**: Maps Istanbul districts to \"İstanbul\" using the `map_istanbul_districts` function.\n",
    "- **Step 4**: Matches similar city names between `train_data` and `test_data` using fuzzy matching in the `match_strings_with_its_similars` function.\n",
    "\n",
    "##### 2. `replace_izmir_istanbul_cities_with_correct_spelling`\n",
    "Corrects spelling variations of major city names (like 'Istanbul' and 'Izmir') by replacing them with their standardized Turkish forms ('İstanbul', 'İzmir').\n",
    "\n",
    "##### 3. `remove_non_alpha_characters_from_data_and_match_with_test_data`\n",
    "Removes non-alphabetic characters (such as `-`, `/`, `,`) from city names in `train_data`. Then, it splits the city names and matches each part with values in `test_data`.\n",
    "\n",
    "##### 4. `map_istanbul_districts`\n",
    "Maps Istanbul districts in `train_data` to the city name \"İstanbul\". It checks whether a string is one of the districts and replaces it accordingly.\n",
    "\n",
    "##### 5. `match_strings_with_its_similars`\n",
    "Uses fuzzy matching to find the closest match for each city name in `train_data` from `test_data`. If no close match is found (i.e., similarity score below 50), the string is replaced with \"Diğer\" (Other). Otherwise, the closest match is assigned to `train_data`.\n"
   ]
  },
  {
   "cell_type": "code",
   "execution_count": 8,
   "id": "ad601587-beff-4777-be2b-609a85f44637",
   "metadata": {},
   "outputs": [],
   "source": [
    "def match_cities_in_train_data_with_test_data(train_data,test_data,col):\n",
    "    train_data=map_other(train_data,col)\n",
    "    train_data = replace_izmir_istanbul_cities_with_correct_spelling(train_data, col)\n",
    "    train_data=remove_non_alpha_characters_from_data_and_match_with_test_data(train_data,test_data,col)\n",
    "    train_data[col]=train_data[col].apply(map_istanbul_districts)\n",
    "    matched_texts,train_data=match_strings_with_its_similars(train_data,col,test_data[col].unique().tolist())\n",
    "    return train_data"
   ]
  },
  {
   "cell_type": "code",
   "execution_count": 9,
   "id": "dd47b06e-13b9-444b-aab2-70c08b1085d6",
   "metadata": {},
   "outputs": [],
   "source": [
    "def map_other(data,col):\n",
    "    other_map={\n",
    "        'Diğer': 'Diger',\n",
    "        '------': 'Diger',\n",
    "         'Diger': 'Diger',\n",
    "        'Yok':'Diger'\n",
    "    }\n",
    "    data[col] = data[col].replace(other_map)\n",
    "    return data"
   ]
  },
  {
   "cell_type": "code",
   "execution_count": null,
   "id": "2d8a0c30-e932-4ff8-abf3-e01e8ccb5418",
   "metadata": {},
   "outputs": [],
   "source": []
  },
  {
   "cell_type": "markdown",
   "id": "4476dbf4-d4c7-435e-9319-be6555952bbd",
   "metadata": {},
   "source": [
    "#### Function: `replace_izmir_istanbul_cities_with_correct_spelling`\n",
    "\n",
    "This function standardizes city names in the specified column of the dataset. \n",
    "\n",
    "1. **Mapping**: Uses a dictionary to replace 'Istanbul' with 'İstanbul' and 'Izmir' with 'İzmir'.\n",
    "2. **Specific Replacements**: Checks for any occurrences of 'Istanbul' or 'Izmir' in strings and updates them accordingly.\n",
    "\n",
    "The function ensures consistent naming for major cities.\n"
   ]
  },
  {
   "cell_type": "code",
   "execution_count": 10,
   "id": "3e13ed97-019a-4453-a0da-38e66331ec17",
   "metadata": {},
   "outputs": [],
   "source": [
    "def replace_izmir_istanbul_cities_with_correct_spelling(data, col):\n",
    "    big_cities_map = {\n",
    "        'Istanbul': 'İstanbul',\n",
    "        'Izmir': 'İzmir',\n",
    "        'İzmi̇r':'İzmir',\n",
    "    }\n",
    "    # Replace values using the dictionary\n",
    "    data[col] = data[col].replace(big_cities_map)\n",
    "\n",
    "    # Apply more specific replacements\n",
    "    data[col] = data[col].apply(lambda x: 'İstanbul' if isinstance(x, str) and 'Istanbul' in x else x)\n",
    "    data[col] = data[col].apply(lambda x: 'İzmir' if isinstance(x, str) and 'Izmir' in x else x)\n",
    "    data[col] = data[col].apply(lambda x: 'İzmir' if isinstance(x, str) and 'İzmi̇r' in x else x)\n",
    "\n",
    "    return data"
   ]
  },
  {
   "cell_type": "markdown",
   "id": "26bbc74f-14ee-4fe4-86a8-76b35ee76a45",
   "metadata": {},
   "source": [
    "#### Function: `remove_non_alpha_characters_from_data_and_match_with_test_data`\n",
    "\n",
    "This function cleans the specified column in the training dataset by removing non-alphabetic characters and aligning the data with the test dataset. \n",
    "\n",
    "1. **Mask Creation**: Identifies entries containing non-alphabetic characters.\n",
    "2. **Data Splitting**: Splits these entries into individual components.\n",
    "3. **Matching**: Updates matched values from the test dataset.\n",
    "4. **Return**: Returns the cleaned training dataset.\n",
    "\n",
    "The function ensures consistency between the training and test datasets.\n"
   ]
  },
  {
   "cell_type": "code",
   "execution_count": 11,
   "id": "fc5e3678-1049-48da-8a73-b04992a9b700",
   "metadata": {},
   "outputs": [],
   "source": [
    "def remove_non_alpha_characters_from_data_and_match_with_test_data(train_data,test_data,col):\n",
    "    mask = train_data[col].apply(lambda x: isinstance(x, str) and any(char in x for char in ['-', '/', ',', '.', ' ']))\n",
    "    unique_test_values = set(test_data[col].unique())\n",
    "    for idx in train_data[mask].index:\n",
    "        splitted_data = re.split(r'[ \\-/,.]', train_data.at[idx, col])\n",
    "        # print(splitted_data)\n",
    "        for dt in splitted_data:\n",
    "            if dt in unique_test_values:\n",
    "                train_data.loc[idx,col] = dt\n",
    "                break\n",
    "               \n",
    "    return train_data\n"
   ]
  },
  {
   "cell_type": "markdown",
   "id": "8a58d15c-1109-43af-9dd7-e1fe11bf9064",
   "metadata": {},
   "source": [
    "#### `map_istanbul_districts` Function\n",
    "\n",
    "This function checks if a given string corresponds to a district in Istanbul, and if it does, it maps the string to \"İstanbul\". Otherwise, it returns the original text.\n",
    "\n",
    "#### Parameters:\n",
    "- **`text`**: A string representing a location name.\n",
    "\n",
    "#### Logic:\n",
    "- The function verifies if the input `text` is a string.\n",
    "- It compares the input `text` with a predefined list of **Istanbul district names** (`istanbul_districts`).\n",
    "- If the input matches any district name in the list, the function returns `\"İstanbul\"`.\n",
    "- If no match is found, it returns the original `text`."
   ]
  },
  {
   "cell_type": "code",
   "execution_count": 12,
   "id": "348aa60b-5df5-4bfd-ad55-df60b5ae9725",
   "metadata": {},
   "outputs": [],
   "source": [
    "istanbul_districts = [\n",
    "    \"Adalar\", \"Arnavutköy\", \"Ataşehir\", \"Avcılar\", \"Bağcılar\", \"Bahçelievler\", \n",
    "    \"Bakırköy\", \"Başakşehir\", \"Bayrampaşa\", \"Beşiktaş\", \"Beykoz\", \"Beylikdüzü\", \n",
    "    \"Beyoğlu\", \"Büyükçekmece\", \"Çatalca\", \"Çekmeköy\", \"Esenler\", \"Esenyurt\", \n",
    "    \"Eyüpsultan\", \"Fatih\", \"Gaziosmanpaşa\", \"Güngören\", \"Kadıköy\", \"Kağıthane\", \n",
    "    \"Kartal\", \"Küçükçekmece\", \"Maltepe\", \"Pendik\", \"Sancaktepe\", \"Sarıyer\", \n",
    "    \"Şile\", \"Silivri\", \"Şişli\", \"Sultanbeyli\", \"Sultangazi\", \"Tuzla\", \"Ümraniye\", \n",
    "    \"Üsküdar\", \"Zeytinburnu\"\n",
    "]"
   ]
  },
  {
   "cell_type": "code",
   "execution_count": 13,
   "id": "057d2e29-fc5f-4112-98c8-97a54180bb61",
   "metadata": {},
   "outputs": [],
   "source": [
    "def map_istanbul_districts(text):\n",
    "    if isinstance(text,str):\n",
    "        if text in istanbul_districts:\n",
    "            # print(text)\n",
    "            return 'İstanbul'\n",
    "        else:\n",
    "            return text"
   ]
  },
  {
   "cell_type": "markdown",
   "id": "866452f6-6199-48e7-b51e-09478bed2268",
   "metadata": {},
   "source": [
    "#### Function: `match_strings_with_its_similars`\n",
    "\n",
    "This function matches each string in a specified column with its most similar reference text, using fuzzy string matching.\n",
    "\n",
    "#### Parameters:\n",
    "- **data**: The DataFrame containing the column to be processed.\n",
    "- **col**: The column name in the DataFrame where the strings are located.\n",
    "- **reference_texts**: A list of strings to match against (e.g., standardized names).\n",
    "- **min**: The minimum similarity score required for a match.\n",
    "- **maxx**: The maximum similarity score allowed.\n",
    "\n",
    "#### Process:\n",
    "1. Loops through each entry in the `col` column.\n",
    "2. For each string, it uses fuzzy matching (`fuzz.token_sort_ratio`) to find the top 5 similar strings from `reference_texts`.\n",
    "3. Selects the best match from the top 5. If the similarity score is below 50, the string is replaced with \"Diğer\".\n",
    "4. Records the best matches in `matched_texts` for reference and updates the column with the matched string.\n",
    "\n",
    "#### Returns:\n",
    "- A list of matched texts along with the updated DataFrame.\n",
    "\n",
    "#### Usage:\n",
    "- This function is useful for normalizing text data by matching similar but slightly varied entries to a common reference text.\n"
   ]
  },
  {
   "cell_type": "code",
   "execution_count": 14,
   "id": "c13eb712-b7f1-4a99-85fa-a45019733f1f",
   "metadata": {},
   "outputs": [],
   "source": [
    "def match_strings_with_its_similars(data,col,reference_texts):\n",
    "    # Limiting to top 5 matches\n",
    "    mapped_texts = []\n",
    "    matched_texts=[]\n",
    "    reference_texts = reference_texts\n",
    "    for i in range(len(data[col].values)):\n",
    "        dep=data[col][i]\n",
    "        if isinstance(dep, str):\n",
    "            # Extract the top 5 closest matches\n",
    "            matches = process.extract(dep, reference_texts, scorer=fuzz.token_sort_ratio, limit=5)            \n",
    "            # Choose the best match from the top 5\n",
    "            best_match = max(matches, key=lambda x: x[1]) \n",
    "            if best_match[1]<50:\n",
    "                data.loc[i, col]= 'Diger'\n",
    "            else:\n",
    "                m_c=[dep,best_match[:2]]\n",
    "                if m_c not in matched_texts:\n",
    "                    matched_texts.append(m_c)                \n",
    "                data.loc[i, col]= best_match[0]\n",
    "    return matched_texts,data            "
   ]
  },
  {
   "cell_type": "code",
   "execution_count": null,
   "id": "8736b40a-febb-492c-9826-edaf9f299579",
   "metadata": {},
   "outputs": [],
   "source": []
  },
  {
   "cell_type": "markdown",
   "id": "6c2fa4e0-5f06-4e2d-8c12-24f7cb30b518",
   "metadata": {},
   "source": [
    "#### Function: `call_replace_methods`\n",
    "\n",
    "This function orchestrates a series of string replacement operations on a specified column of a dataset. It integrates multiple replacement methods to standardize data entries.\n",
    "\n",
    "#### Parameters:\n",
    "- **data**: The dataset (e.g., DataFrame) that contains the column to be modified.\n",
    "- **col**: The name of the column in which string replacements will occur.\n",
    "- **different_pairs**: A list of tuples containing pairs of values for replacement where each tuple consists of an `old_value` (to be replaced) and a `new_value` (replacement).\n",
    "- **same_pairs**: A list of values that should remain unchanged or be standardized.\n",
    "\n",
    "#### Process:\n",
    "1. **Different Substring Replacement**: \n",
    "   - Calls `replace_string_with_different_substring` to replace specified `old_value` substrings with `new_value` in the column.\n",
    "   \n",
    "2. **Same Substring Replacement**:\n",
    "   - Calls `replace_string_with_same_substring` to replace specific substrings with identical values.\n",
    "   \n",
    "3. **Other Value Handling**:\n",
    "   - Calls `replace_string_with_other` to change any remaining values in the column that do not match the specified `same_pairs` to \"Diger,\".\n",
    "#### Returns:\n",
    "- The modified dataset after applying all replacement methods.\n"
   ]
  },
  {
   "cell_type": "code",
   "execution_count": 15,
   "id": "bf0ca8b9-e394-486f-b6da-bc31203f635b",
   "metadata": {},
   "outputs": [],
   "source": [
    "def call_replace_methods(data,col,different_pairs,same_pairs):\n",
    "    data=replace_string_with_different_substring(data,col,different_pairs)\n",
    "    data=replace_string_with_same_substring(data,col,same_pairs)\n",
    "    data=replace_string_with_other(data, col, same_pairs)\n",
    "    return data\n",
    "    "
   ]
  },
  {
   "cell_type": "code",
   "execution_count": 16,
   "id": "b75851f6-c52d-4b6a-811f-f728c5d578fa",
   "metadata": {},
   "outputs": [],
   "source": [
    "def replace_string_with_different_substring(data, col, different_pairs):\n",
    "    for old_value, new_value in different_pairs:\n",
    "        data[col] = data[col].apply(lambda x: new_value if isinstance(x, str) and old_value in x else x)\n",
    "    return data"
   ]
  },
  {
   "cell_type": "code",
   "execution_count": 17,
   "id": "c11a65f1-df33-4213-bb72-9a5b51a3b184",
   "metadata": {},
   "outputs": [],
   "source": [
    "def replace_string_with_same_substring(data,col,same_pairs):\n",
    "    for sub in same_pairs:        \n",
    "        data[col] =data[col].apply(lambda x:sub if isinstance(x, str) and  sub in x else x)\n",
    "    return data    "
   ]
  },
  {
   "cell_type": "code",
   "execution_count": 18,
   "id": "4b3ff9fb-9495-416c-a59c-9a720f90f34a",
   "metadata": {},
   "outputs": [],
   "source": [
    "def replace_string_with_other(data, col, same_pairs):\n",
    "    data[col] = data[col].apply(lambda x: \"Diger\" if isinstance(x, str) and x==\"------\" or x not in same_pairs else x)\n",
    "    return data"
   ]
  },
  {
   "cell_type": "markdown",
   "id": "c0fa8e58-c05b-4afd-a2a3-e3c8b8b67acb",
   "metadata": {},
   "source": [
    "#### Function `replace_high_school_departments_with_correct_versions` \n",
    "\n",
    "This function standardizes high school department names by replacing them with their correct Turkish versions.\n",
    "\n",
    "#### Parameters:\n",
    "- **`data`**: The DataFrame that contains the data.\n",
    "- **`col`**: The column in the DataFrame where department names are stored.\n",
    "\n",
    "#### Logic:\n",
    "1. **Initial Mapping**: \n",
    "   - A dictionary named `high_school_department` maps abbreviated or incorrect department names (e.g., `'Ea'`, `'Mf'`) to their full Turkish counterparts (e.g., `'Eşit Ağırlık'`, `'Sayısal'`).\n",
    "   - The `.replace()` method applies these mappings directly to the column.\n",
    "\n",
    "2. **Further Specific Replacements**:\n",
    "   - If a department name contains `'Sosyal'`, it is replaced with `'Sözel'`.\n",
    "   - If it contains `'Türkçe'`, it is replaced with `'Eşit Ağırlık'`.\n",
    "   - If it contains `'Fen'`, it is replaced with `'Sayısal'`.\n",
    "\n",
    "#### Example:\n",
    "- Input: `\"Ea\"` → Output: `\"Eşit Ağırlık\"`\n",
    "- Input: `\"Sosyal Bilimler\"` → Output: `\"Sözel\"`\n"
   ]
  },
  {
   "cell_type": "code",
   "execution_count": 19,
   "id": "47987f9a-a849-4179-8529-56195179546c",
   "metadata": {},
   "outputs": [],
   "source": [
    "def replace_high_school_departments_with_correct_versions(data, col):\n",
    "    high_school_department={\n",
    "        'Ea':'Eşit Ağırlık',\n",
    "        'Tm':'Eşit Ağırlık',\n",
    "        'Ts': 'Sözel',\n",
    "        'Mf': 'Sayısal',\n",
    "        'Fm':'Sayısal',\n",
    "        'Yabancı Di̇l':'Dil',\n",
    "         'Ingilizce': 'Dil',\n",
    "        \n",
    "    }\n",
    "    data[col]=data[col].replace(high_school_department)\n",
    "\n",
    "    # Apply more specific replacements\n",
    "    data[col] = data[col].apply(lambda x: 'Sözel' if isinstance(x, str) and 'Sosyal' in x else x)\n",
    "    data[col] = data[col].apply(lambda x: 'Eşit Ağırlık' if isinstance(x, str) and  'Türkçe' in x else x)\n",
    "    data[col] = data[col].apply(lambda x: 'Sayısal' if isinstance(x, str) and 'Fen' in x else x)\n",
    "\n",
    "    return data"
   ]
  },
  {
   "cell_type": "code",
   "execution_count": 20,
   "id": "c6a556b8-80d1-4ddb-9c47-f4fcba2c98cb",
   "metadata": {},
   "outputs": [],
   "source": [
    "def find_cities_that_contain_non_alpha_characters(data,col):\n",
    "    non_alpha_cities=set()\n",
    "    train_data[col].apply(lambda x: non_alpha_cities.add(x) if isinstance(x, str) and any(char in x for char in ['-', '/', ',', '.', ' ']) else x)\n",
    "    non_alpha_cities=list(non_alpha_cities)\n",
    "    return non_alpha_cities"
   ]
  },
  {
   "cell_type": "code",
   "execution_count": 21,
   "id": "0ab94273-e11e-42f6-bf0e-aeb45ab1b5b9",
   "metadata": {},
   "outputs": [],
   "source": [
    "def check_categorical_columns(train_data,test_data,cols):\n",
    "    for i in cols:\n",
    "        print(i)    \n",
    "        print(train_data[i].unique())\n",
    "        print(test_data[i].unique())\n",
    "        "
   ]
  }
 ],
 "metadata": {
  "kernelspec": {
   "display_name": "Python 3 (ipykernel)",
   "language": "python",
   "name": "python3"
  },
  "language_info": {
   "codemirror_mode": {
    "name": "ipython",
    "version": 3
   },
   "file_extension": ".py",
   "mimetype": "text/x-python",
   "name": "python",
   "nbconvert_exporter": "python",
   "pygments_lexer": "ipython3",
   "version": "3.12.4"
  }
 },
 "nbformat": 4,
 "nbformat_minor": 5
}
