{
 "cells": [
  {
   "cell_type": "markdown",
   "id": "dd568439-2711-4e30-aee9-e9599b10a8aa",
   "metadata": {},
   "source": [
    "# Exploratory Data Analysis"
   ]
  },
  {
   "cell_type": "code",
   "execution_count": 1,
   "id": "f9085b70-e52c-4b1c-822e-5bddaac1ad30",
   "metadata": {},
   "outputs": [],
   "source": [
    "def show_object_data(data):\n",
    "    print(data.select_dtypes(include=['object']).info())"
   ]
  },
  {
   "cell_type": "code",
   "execution_count": 2,
   "id": "2c9c30fb-baa5-42ae-ba3e-8202d5e0b752",
   "metadata": {},
   "outputs": [],
   "source": [
    "def show_missing_data_count(data):\n",
    "    print( data.isnull().sum().sort_values(ascending=True))"
   ]
  },
  {
   "cell_type": "code",
   "execution_count": 3,
   "id": "fe8d5328-aa2f-42d7-8663-441a898894c9",
   "metadata": {},
   "outputs": [],
   "source": [
    "def fill_missing_value_in_columns_with_mode_value(data, col):\n",
    "    data[col]=data[col].fillna(data[col].mode()[0])\n"
   ]
  },
  {
   "cell_type": "code",
   "execution_count": 4,
   "id": "4f01501d-7195-491e-a6ba-ba21fe33d446",
   "metadata": {},
   "outputs": [],
   "source": [
    "def lower_string_in_column(data,col):\n",
    "    data[col]=data[col].str.lower()"
   ]
  },
  {
   "cell_type": "code",
   "execution_count": 5,
   "id": "083c8c07-f9e5-4b07-9e83-48d5c8590579",
   "metadata": {},
   "outputs": [],
   "source": [
    "def drop_columns_from_train_test(train_data, test_data, col):\n",
    "    train_data = train_data.drop(columns=[col])\n",
    "    test_data = test_data.drop(columns=[col])\n",
    "    return train_data, test_data\n"
   ]
  },
  {
   "cell_type": "markdown",
   "id": "af3c44e7-408f-4cda-a4f7-31adc0d9f218",
   "metadata": {
    "jp-MarkdownHeadingCollapsed": true
   },
   "source": [
    "# EDA for Numerical Columns"
   ]
  },
  {
   "cell_type": "code",
   "execution_count": 6,
   "id": "2d6b0672-3946-4676-bcf3-a44e7314539f",
   "metadata": {},
   "outputs": [],
   "source": [
    "def show_numeric_columns_in_hist_and_boxplot(data,num_cols):\n",
    "    for col in num_cols:\n",
    "        if col=='id':\n",
    "            continue\n",
    "        plt.figure(figsize = (8, 5))\n",
    "        plt.subplot(1, 2, 1)\n",
    "        plt.title(col)\n",
    "        train_data[col].hist( bins=25, grid=False, color='#86bf91', zorder=5, rwidth=0.8)\n",
    "        plt.ylabel('Count')\n",
    "        plt.subplot(1, 2, 2)\n",
    "        sns.boxplot(x=train_data[col],color='#86bf91')\n",
    "        plt.show() \n"
   ]
  },
  {
   "cell_type": "markdown",
   "id": "11a3b01c-db35-49af-8478-e25a404ff4c3",
   "metadata": {},
   "source": [
    "# EDA for Categorical Columns"
   ]
  },
  {
   "cell_type": "code",
   "execution_count": 7,
   "id": "cf0815ab-74c1-400e-853e-0e0cc89557a0",
   "metadata": {},
   "outputs": [],
   "source": [
    "def lower_strings_and_fill_missing_values_with_mode_value(data,col):\n",
    "    data[col]=data[col].str.lower()\n",
    "    data[col]=data[col].fillna(data[col].mode()[0])"
   ]
  },
  {
   "cell_type": "code",
   "execution_count": 8,
   "id": "18548ada-59e2-4b24-a8be-6a9366af9991",
   "metadata": {},
   "outputs": [],
   "source": [
    "def count_non_alpha_strings_in_column(data,col):\n",
    "    count=0\n",
    "    for col in data[col]:\n",
    "        if  not col.isalpha():\n",
    "            #print(col)\n",
    "            count+=1\n",
    "    return count\n",
    "    "
   ]
  },
  {
   "cell_type": "code",
   "execution_count": 9,
   "id": "d88d158b-4976-4d76-8e1c-317bdc9bec1f",
   "metadata": {},
   "outputs": [],
   "source": [
    "def map_cleaned_data_into_column(data, col):        \n",
    "    cleaned_data_map = {}    \n",
    "    non_alpha_words = find_non_alpha_strings_in_column(data, col)\n",
    "    print(f\"Found {len(non_alpha_words)} non-alpha entries.\")\n",
    "\n",
    "    for item in non_alpha_words:\n",
    "        # Fazla boşlukları kaldır\n",
    "        strip_item = re.sub(r'\\s+', ' ', item.strip())\n",
    "        \n",
    "        # Non-alpha karakterlerle ikiye böl (\"/\" veya \"-\")\n",
    "        split_data = re.split(r'[/-]', strip_item)\n",
    "        \n",
    "        # Temizlenmiş veriyi listeye ekle\n",
    "        cleaned_data = [part.strip() for part in split_data]\n",
    "        \n",
    "        # Her bir parçayı kontrol et, Türkiye şehri mi?\n",
    "        for city in cleaned_data:\n",
    "            if city.lower() in turkey_cities:\n",
    "                cleaned_data_map[item] = city  # Orijinal veri ve Türkiye şehri\n",
    "                break  # İlk Türkiye şehri bulunduğunda dur\n",
    "    \n",
    "    # Sonucu kontrol et\n",
    "    # for key, value in cleaned_data_map.items():\n",
    "    #     print(f\"Orijinal: {key} --> Türkiye Şehri: {value}\")\n",
    "\n",
    "    return cleaned_data_map"
   ]
  },
  {
   "cell_type": "code",
   "execution_count": 10,
   "id": "c49eeccb-f62d-46e9-846b-7187b189d1b6",
   "metadata": {},
   "outputs": [],
   "source": [
    "# Non-alpha karakter bulucu fonksiyon\n",
    "def find_non_alpha_strings_in_column(data, col):\n",
    "    words_that_are_non_alpha = []\n",
    "    for entry in data[col]:\n",
    "        if isinstance(entry, str) and not entry.isalpha():  # Entry is not purely alphabetical\n",
    "            if entry not in words_that_are_non_alpha:  # Unique kontrolü\n",
    "                words_that_are_non_alpha.append(entry)\n",
    "    return words_that_are_non_alpha"
   ]
  },
  {
   "cell_type": "code",
   "execution_count": 11,
   "id": "b5e802f6-29de-4ffb-bba1-2fb6afef3864",
   "metadata": {},
   "outputs": [],
   "source": [
    "def clean_lise_bolumu(deger):\n",
    "    deger = deger.lower()  # Küçük harfe çevir\n",
    "    if any(keyword in deger for keyword in ['sayısal', 'mf', 'fen', 'matematik']):\n",
    "        return 'sayısal'\n",
    "    elif any(keyword in deger for keyword in ['eşit', 'tm']):\n",
    "        return 'eşit ağırlık'\n",
    "    elif any(keyword in deger for keyword in ['sözel', 'ts']):\n",
    "        return 'sözel'\n",
    "    elif any(keyword in deger for keyword in ['yabancı', 'dil']):\n",
    "        return 'dil'\n",
    "    else:\n",
    "        return np.nan"
   ]
  },
  {
   "cell_type": "code",
   "execution_count": 12,
   "id": "f0f96058-8cd3-4867-9998-38d40bb3c7e3",
   "metadata": {},
   "outputs": [],
   "source": [
    "def replace_scholarships(value, replace_dict):\n",
    "    if pd.isna(value):  # Check for NaN values directly\n",
    "        return np.nan\n",
    "    for key, variations in replace_dict.items():\n",
    "        if value in variations:\n",
    "            return key\n",
    "    return value"
   ]
  },
  {
   "cell_type": "code",
   "execution_count": 13,
   "id": "bec3ae70-713d-4bf1-b20a-fd8d911dcdf3",
   "metadata": {},
   "outputs": [],
   "source": [
    "def clean_amount(amount):\n",
    "    if isinstance(amount, str):\n",
    "        amount = amount.lower().replace('tl', '').replace('₺', '').replace(' ', '').replace(',', '.')\n",
    "        match = re.match(r'(\\d+\\.?\\d*)', amount)\n",
    "        if match:\n",
    "            return float(match.group(1))\n",
    "    return None\n",
    "\n"
   ]
  },
  {
   "cell_type": "code",
   "execution_count": 14,
   "id": "4088228c-da42-44a4-85d1-130f52c6a6df",
   "metadata": {},
   "outputs": [],
   "source": [
    "def categorize_amount(amount):\n",
    "    if pd.isna(amount):\n",
    "        return '-'\n",
    "    elif amount < 500:\n",
    "        return '0 - 499₺'\n",
    "    elif amount < 1000:\n",
    "        return '500₺ - 999₺'\n",
    "    else:\n",
    "        return '1000₺ ve üstü'"
   ]
  },
  {
   "cell_type": "code",
   "execution_count": 15,
   "id": "cfc8e9d3-b199-41dc-970c-b34145420215",
   "metadata": {},
   "outputs": [],
   "source": [
    "def show_all_one_hot_encoding_categories_for_train_and_test(one_hot_encoding_columns):\n",
    "    for col in one_hot_encoding_columns:\n",
    "        print(col)\n",
    "        print(train_data[col].unique())\n",
    "        print(test_data[col].unique())"
   ]
  },
  {
   "cell_type": "code",
   "execution_count": null,
   "id": "297cc80c-b93e-4876-a93f-46b6a71896b7",
   "metadata": {},
   "outputs": [],
   "source": []
  },
  {
   "cell_type": "code",
   "execution_count": null,
   "id": "637ee3e7-85ec-48e6-a550-c46624d4ca9d",
   "metadata": {},
   "outputs": [],
   "source": []
  },
  {
   "cell_type": "code",
   "execution_count": 16,
   "id": "e3e0d4c7-9734-4550-b56d-0f093c8304f6",
   "metadata": {},
   "outputs": [],
   "source": [
    "def frequency_encoding(data, columns):\n",
    "    for column in columns:\n",
    "        freq = data[column].value_counts()\n",
    "        data[column] = data[column].map(freq)\n",
    "    return data"
   ]
  },
  {
   "cell_type": "markdown",
   "id": "fdff0574-83bd-4ffd-9b17-f2411ba5fe9b",
   "metadata": {},
   "source": [
    "## Check Data Columns"
   ]
  },
  {
   "cell_type": "code",
   "execution_count": 17,
   "id": "218ec63d-c402-4b31-8b75-0bba3e596456",
   "metadata": {},
   "outputs": [],
   "source": [
    "def check_column_in_train(train_data,col):\n",
    "    print(\"Train Data Uniqueness\")\n",
    "    print(train_data[col].unique())\n",
    "    print(\"--------------------\")\n",
    "    print(\"Train Data Isna()\")\n",
    "    print(len(train_data[train_data[col].isna()]))"
   ]
  },
  {
   "cell_type": "code",
   "execution_count": 18,
   "id": "aee65132-8d8f-45bc-b755-61fa911461ce",
   "metadata": {},
   "outputs": [],
   "source": [
    "def check_columns_in_train(train_data,col):\n",
    "    for i in col:\n",
    "        print(\"Train Data Uniqueness\")\n",
    "        print(train_data[i].unique())\n",
    "        print(\"--------------------\")\n",
    "        print(\"Train Data Isna()\")\n",
    "        print(len(train_data[train_data[i].isna()]))"
   ]
  },
  {
   "cell_type": "code",
   "execution_count": 19,
   "id": "16fbf985-5445-4e44-8a4e-eeb946cb340f",
   "metadata": {},
   "outputs": [],
   "source": [
    "def check_column_in_train_test(train_data,test_data,col):\n",
    "    print(\"Train Data Uniqueness\")\n",
    "    print(train_data[col].unique())\n",
    "    print(\"--------------------\")\n",
    "    print(\"Test Data Uniqueness\")\n",
    "    print(test_data[col].unique())\n",
    "    print(\"---------------------\")\n",
    "    print(\"---------------------\")\n",
    "    print(\"Train Data Isna()\")\n",
    "    print(len(train_data[train_data[col].isna()]))\n",
    "    print(\"---------------------\")\n",
    "    print(\"Test Data Isna()\")\n",
    "    print(len(test_data[test_data[col].isna()]))\n"
   ]
  },
  {
   "cell_type": "markdown",
   "id": "186be85a-ee98-4c2b-8f0d-40b141172023",
   "metadata": {
    "jp-MarkdownHeadingCollapsed": true
   },
   "source": [
    "## Plotting Graphs"
   ]
  },
  {
   "cell_type": "code",
   "execution_count": 20,
   "id": "4e2c6126-33a9-48b0-a1a9-2315aef3e160",
   "metadata": {},
   "outputs": [],
   "source": [
    "def plot_categorical_columns_in_bar_plots(data,col):\n",
    "    plt.figure(figsize=(4, 3))\n",
    "    sns.countplot(x=col, data=data, palette='viridis',legend=False,hue=col)\n",
    "    plt.xlabel(col)\n",
    "    plt.ylabel('Count')\n",
    "    plt.xticks(rotation=45)  \n",
    "    plt.show()"
   ]
  },
  {
   "cell_type": "code",
   "execution_count": 21,
   "id": "65b335ca-0a2a-42f6-9324-0b4326165579",
   "metadata": {},
   "outputs": [],
   "source": [
    "def plot_categorical_columns_that_have_more_than_thousand_unique_values(data,col):\n",
    "    data_count=pd.value_counts(data[col])    \n",
    "    top_n=20\n",
    "    top_values=data_count[:top_n]\n",
    "    plt.figure(figsize=(7, 4))\n",
    "    sns.barplot(x=top_values.values, y=top_values.index, palette='viridis')\n",
    "    \n",
    "    # Add labels\n",
    "    plt.title(f'Top {top_n} Categories in Categorical Column')\n",
    "    plt.xlabel('Frequency')\n",
    "    plt.ylabel(col)\n",
    "    plt.show()"
   ]
  }
 ],
 "metadata": {
  "kernelspec": {
   "display_name": "Python 3 (ipykernel)",
   "language": "python",
   "name": "python3"
  },
  "language_info": {
   "codemirror_mode": {
    "name": "ipython",
    "version": 3
   },
   "file_extension": ".py",
   "mimetype": "text/x-python",
   "name": "python",
   "nbconvert_exporter": "python",
   "pygments_lexer": "ipython3",
   "version": "3.12.4"
  }
 },
 "nbformat": 4,
 "nbformat_minor": 5
}
