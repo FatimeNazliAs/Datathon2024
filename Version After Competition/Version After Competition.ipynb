{
 "cells": [
  {
   "cell_type": "markdown",
   "id": "ef658a18-59ed-425e-b145-11f1fede09a4",
   "metadata": {},
   "source": [
    "# Importing libraries and data"
   ]
  },
  {
   "cell_type": "code",
   "execution_count": 1,
   "id": "53a6c1e6-7ba3-4a5c-a672-1ed4c6805397",
   "metadata": {},
   "outputs": [],
   "source": [
    "import pandas as pd\n",
    "import numpy as np\n",
    "import matplotlib.pyplot as plt\n",
    "import seaborn as sns\n",
    "from sklearn.model_selection import train_test_split\n",
    "import re\n",
    "from datetime import datetime, date \n",
    "from  dateutil.parser import parse\n",
    "\n",
    "from sklearn.linear_model import LinearRegression, Ridge, Lasso, ElasticNet, BayesianRidge, Lars, LassoLars\n",
    "from sklearn.ensemble import GradientBoostingRegressor, RandomForestRegressor, ExtraTreesRegressor, AdaBoostRegressor\n",
    "from sklearn.tree import DecisionTreeRegressor\n",
    "from sklearn.neighbors import KNeighborsRegressor\n",
    "from sklearn.linear_model import HuberRegressor\n",
    "from sklearn.linear_model import OrthogonalMatchingPursuit\n",
    "from sklearn.dummy import DummyRegressor\n",
    "import xgboost as xgb\n",
    "import lightgbm as lgb\n",
    "from rapidfuzz import process, fuzz\n",
    "\n",
    "from catboost import CatBoostRegressor\n",
    "import sklearn.ensemble \n",
    "from sklearn.metrics import mean_squared_error \n",
    "from sklearn.metrics import mean_squared_error as root_mean_squared_error\n",
    "%run datathon_methods.ipynb\n",
    "from  dateutil.parser import parse\n",
    "import calendar\n",
    "from sklearn import preprocessing \n",
    "from sklearn.preprocessing import TargetEncoder\n",
    "from category_encoders import TargetEncoder\n",
    "from sklearn.ensemble import HistGradientBoostingRegressor\n",
    "from sklearn.model_selection import KFold\n",
    "\n"
   ]
  },
  {
   "cell_type": "code",
   "execution_count": 2,
   "id": "3271e968-8308-462a-a128-84c66144e6a4",
   "metadata": {},
   "outputs": [],
   "source": [
    "# pip install xgboost"
   ]
  },
  {
   "cell_type": "code",
   "execution_count": 3,
   "id": "30e90819-e27f-42df-9050-fc361738c612",
   "metadata": {},
   "outputs": [],
   "source": [
    "# pip install lightgbm"
   ]
  },
  {
   "cell_type": "code",
   "execution_count": 4,
   "id": "30fcfef1-6874-4d02-8c0a-7b41fa16db17",
   "metadata": {},
   "outputs": [],
   "source": [
    "# pip install catboost"
   ]
  },
  {
   "cell_type": "code",
   "execution_count": 5,
   "id": "851377b0-f280-40c0-b145-60e2472b59f6",
   "metadata": {},
   "outputs": [],
   "source": [
    "train_data=pd.read_csv(r\"C:\\Users\\Naz\\Desktop\\CS\\Competitions\\Datathon\\data\\train.csv\",low_memory=False)\n",
    "test_data = pd.read_csv(r\"C:\\Users\\Naz\\Desktop\\CS\\Competitions\\Datathon\\data\\test_x.csv\")"
   ]
  },
  {
   "cell_type": "markdown",
   "id": "9b6d931a-c599-4236-8567-da48036426a6",
   "metadata": {},
   "source": [
    "# Quick Analysis"
   ]
  },
  {
   "cell_type": "code",
   "execution_count": 6,
   "id": "dc27c299-5730-4461-8200-e9d2dbddf0ac",
   "metadata": {},
   "outputs": [
    {
     "data": {
      "text/plain": [
       "Index(['Basvuru Yili', 'Degerlendirme Puani', 'Cinsiyet', 'Dogum Tarihi',\n",
       "       'Dogum Yeri', 'Ikametgah Sehri', 'Universite Adi', 'Universite Turu',\n",
       "       'Burslu ise Burs Yuzdesi', 'Burs Aliyor mu?', 'Bölüm',\n",
       "       'Universite Kacinci Sinif', 'Universite Not Ortalamasi',\n",
       "       'Daha Once Baska Bir Universiteden Mezun Olmus', 'Lise Adi',\n",
       "       'Lise Adi Diger', 'Lise Sehir', 'Lise Turu', 'Lise Bolumu',\n",
       "       'Lise Bolum Diger', 'Lise Mezuniyet Notu',\n",
       "       'Baska Bir Kurumdan Burs Aliyor mu?', 'Burs Aldigi Baska Kurum',\n",
       "       'Baska Kurumdan Aldigi Burs Miktari', 'Anne Egitim Durumu',\n",
       "       'Anne Calisma Durumu', 'Anne Sektor', 'Baba Egitim Durumu',\n",
       "       'Baba Calisma Durumu', 'Baba Sektor', 'Kardes Sayisi',\n",
       "       'Girisimcilik Kulupleri Tarzi Bir Kulube Uye misiniz?',\n",
       "       'Uye Oldugunuz Kulubun Ismi',\n",
       "       'Profesyonel Bir Spor Daliyla Mesgul musunuz?',\n",
       "       'Spor Dalindaki Rolunuz Nedir?', 'Aktif olarak bir STK üyesi misiniz?',\n",
       "       'Hangi STK'nin Uyesisiniz?', 'Stk Projesine Katildiniz Mi?',\n",
       "       'Girisimcilikle Ilgili Deneyiminiz Var Mi?',\n",
       "       'Girisimcilikle Ilgili Deneyiminizi Aciklayabilir misiniz?',\n",
       "       'Ingilizce Biliyor musunuz?', 'Ingilizce Seviyeniz?',\n",
       "       'Daha Önceden Mezun Olunduysa, Mezun Olunan Üniversite', 'id'],\n",
       "      dtype='object')"
      ]
     },
     "execution_count": 6,
     "metadata": {},
     "output_type": "execute_result"
    }
   ],
   "source": [
    "train_data.columns"
   ]
  },
  {
   "cell_type": "code",
   "execution_count": 7,
   "id": "a768330f-7e7a-4e5f-b139-3d0b9a79b438",
   "metadata": {},
   "outputs": [
    {
     "data": {
      "text/plain": [
       "(65125, 44)"
      ]
     },
     "execution_count": 7,
     "metadata": {},
     "output_type": "execute_result"
    }
   ],
   "source": [
    "train_data.shape"
   ]
  },
  {
   "cell_type": "code",
   "execution_count": 8,
   "id": "58990c3c-2a6c-4889-9489-e16ed44f8c69",
   "metadata": {},
   "outputs": [
    {
     "name": "stdout",
     "output_type": "stream",
     "text": [
      "<class 'pandas.core.frame.DataFrame'>\n",
      "RangeIndex: 65125 entries, 0 to 65124\n",
      "Data columns (total 44 columns):\n",
      " #   Column                                                     Non-Null Count  Dtype  \n",
      "---  ------                                                     --------------  -----  \n",
      " 0   Basvuru Yili                                               65125 non-null  int64  \n",
      " 1   Degerlendirme Puani                                        65124 non-null  float64\n",
      " 2   Cinsiyet                                                   64956 non-null  object \n",
      " 3   Dogum Tarihi                                               64948 non-null  object \n",
      " 4   Dogum Yeri                                                 64334 non-null  object \n",
      " 5   Ikametgah Sehri                                            63088 non-null  object \n",
      " 6   Universite Adi                                             64993 non-null  object \n",
      " 7   Universite Turu                                            64870 non-null  object \n",
      " 8   Burslu ise Burs Yuzdesi                                    22440 non-null  float64\n",
      " 9   Burs Aliyor mu?                                            65125 non-null  object \n",
      " 10  Bölüm                                                      64894 non-null  object \n",
      " 11  Universite Kacinci Sinif                                   64751 non-null  object \n",
      " 12  Universite Not Ortalamasi                                  62372 non-null  object \n",
      " 13  Daha Once Baska Bir Universiteden Mezun Olmus              27780 non-null  object \n",
      " 14  Lise Adi                                                   64741 non-null  object \n",
      " 15  Lise Adi Diger                                             4733 non-null   object \n",
      " 16  Lise Sehir                                                 64071 non-null  object \n",
      " 17  Lise Turu                                                  64278 non-null  object \n",
      " 18  Lise Bolumu                                                64116 non-null  object \n",
      " 19  Lise Bolum Diger                                           1526 non-null   object \n",
      " 20  Lise Mezuniyet Notu                                        59208 non-null  object \n",
      " 21  Baska Bir Kurumdan Burs Aliyor mu?                         64894 non-null  object \n",
      " 22  Burs Aldigi Baska Kurum                                    21148 non-null  object \n",
      " 23  Baska Kurumdan Aldigi Burs Miktari                         20963 non-null  object \n",
      " 24  Anne Egitim Durumu                                         64719 non-null  object \n",
      " 25  Anne Calisma Durumu                                        53229 non-null  object \n",
      " 26  Anne Sektor                                                30588 non-null  object \n",
      " 27  Baba Egitim Durumu                                         64118 non-null  object \n",
      " 28  Baba Calisma Durumu                                        52507 non-null  object \n",
      " 29  Baba Sektor                                                44747 non-null  object \n",
      " 30  Kardes Sayisi                                              63993 non-null  object \n",
      " 31  Girisimcilik Kulupleri Tarzi Bir Kulube Uye misiniz?       63296 non-null  object \n",
      " 32  Uye Oldugunuz Kulubun Ismi                                 16434 non-null  object \n",
      " 33  Profesyonel Bir Spor Daliyla Mesgul musunuz?               64010 non-null  object \n",
      " 34  Spor Dalindaki Rolunuz Nedir?                              32850 non-null  object \n",
      " 35  Aktif olarak bir STK üyesi misiniz?                        52283 non-null  object \n",
      " 36  Hangi STK'nin Uyesisiniz?                                  15607 non-null  object \n",
      " 37  Stk Projesine Katildiniz Mi?                               36817 non-null  object \n",
      " 38  Girisimcilikle Ilgili Deneyiminiz Var Mi?                  52285 non-null  object \n",
      " 39  Girisimcilikle Ilgili Deneyiminizi Aciklayabilir misiniz?  14599 non-null  object \n",
      " 40  Ingilizce Biliyor musunuz?                                 58671 non-null  object \n",
      " 41  Ingilizce Seviyeniz?                                       28592 non-null  object \n",
      " 42  Daha Önceden Mezun Olunduysa, Mezun Olunan Üniversite      419 non-null    object \n",
      " 43  id                                                         65125 non-null  int64  \n",
      "dtypes: float64(2), int64(2), object(40)\n",
      "memory usage: 21.9+ MB\n"
     ]
    }
   ],
   "source": [
    "train_data.info()"
   ]
  },
  {
   "cell_type": "code",
   "execution_count": 9,
   "id": "a42a2882-f839-4b18-a3cc-403b4a8fd3ef",
   "metadata": {},
   "outputs": [
    {
     "data": {
      "text/plain": [
       "44"
      ]
     },
     "execution_count": 9,
     "metadata": {},
     "output_type": "execute_result"
    }
   ],
   "source": [
    "len(train_data.isnull().sum().sort_values(ascending=True))"
   ]
  },
  {
   "cell_type": "code",
   "execution_count": 10,
   "id": "4c2f6865-4952-4e3e-aeeb-82c8d3846fb3",
   "metadata": {},
   "outputs": [
    {
     "data": {
      "text/plain": [
       "43"
      ]
     },
     "execution_count": 10,
     "metadata": {},
     "output_type": "execute_result"
    }
   ],
   "source": [
    "len(test_data.isnull().sum().sort_values(ascending=True))"
   ]
  },
  {
   "cell_type": "markdown",
   "id": "4db1ec1f-430f-462e-b398-4e4514e4afcb",
   "metadata": {},
   "source": [
    "### Column Removal Justifications\n",
    "\n",
    "#### 1. **Daha Önceden Mezun Olunduysa, Mezun Olunan Üniversite**\n",
    "This column is mostly empty and has a corresponding **yes/no** column: **Daha Once Baska Bir Universiteden Mezun Olmus** (Have you graduated from another university?). Since this column essentially duplicates information, we will remove it.\n",
    "\n",
    "#### 2. **Lise Adi Diger** & **Lise Bolum Diger**\n",
    "Both columns (**Other High School Name**, **Other High School Department**) are mostly empty and have equivalent alternatives: **Lise Adi** (High School Name) and **Lise Bolumu** (High School Department). As these alternatives cover the similar information, we will delete the empty ones.\n",
    "\n",
    "#### 3. **Girisimcilikle Ilgili Deneyiminizi Aciklayabilir misiniz?**\n",
    "This column, which asks for a detailed explanation of entrepreneurship experience, could be useful. However, it is filled with long sentences and is largely empty. Given the inconsistent data, we will remove this column.\n",
    "\n",
    "#### 4. **Hangi STK'nin Uyesisiniz?**\n",
    "This column asks for specific NGOs that the individual is a member of, but it is also largely empty. We have an alternative column, **Stk Projesine Katildiniz Mi?** (Have you participated in an NGO project?), which provides similar information in a more concise format. Therefore, we will delete this column.\n",
    "\n",
    "#### 5. **Uye Oldugunuz Kulubun Ismi**\n",
    "This column, asking for the name of a club the person is a member of, is mostly empty. There is a related **yes/no** column, **Girisimcilik Kulupleri Tarzi Bir Kulube Uye misiniz?** (Are you a member of an entrepreneurship club?). Since this serves a similar purpose, we will remove this column.\n"
   ]
  },
  {
   "cell_type": "code",
   "execution_count": 11,
   "id": "30ed5ffc-14ed-42a0-a68a-8d05ec21e9a1",
   "metadata": {},
   "outputs": [],
   "source": [
    "train_dropped_columns=[\"Daha Önceden Mezun Olunduysa, Mezun Olunan Üniversite\",\n",
    "                \"Lise Bolum Diger\",\"Lise Adi Diger\",\"Girisimcilikle Ilgili Deneyiminizi Aciklayabilir misiniz?\",\n",
    "                \"Hangi STK'nin Uyesisiniz?\",\"Uye Oldugunuz Kulubun Ismi\",\"id\"]\n",
    "                \n",
    "train_data=train_data.drop(columns=train_dropped_columns)\n",
    "test_data=test_data.drop(columns=train_dropped_columns)"
   ]
  },
  {
   "cell_type": "code",
   "execution_count": 12,
   "id": "ec5096db-db33-46b2-a754-ad572b5a23a4",
   "metadata": {},
   "outputs": [
    {
     "data": {
      "text/plain": [
       "(65125, 37)"
      ]
     },
     "execution_count": 12,
     "metadata": {},
     "output_type": "execute_result"
    }
   ],
   "source": [
    "train_data.shape"
   ]
  },
  {
   "cell_type": "code",
   "execution_count": 13,
   "id": "bd2ef435-873a-4f4a-b775-6e3d0fbe989e",
   "metadata": {},
   "outputs": [
    {
     "data": {
      "text/plain": [
       "(11049, 36)"
      ]
     },
     "execution_count": 13,
     "metadata": {},
     "output_type": "execute_result"
    }
   ],
   "source": [
    "test_data.shape"
   ]
  },
  {
   "cell_type": "markdown",
   "id": "47b1e02e-e398-40e9-aaaa-dcc2d26d1013",
   "metadata": {},
   "source": [
    "### Column Removal Justifications for `test_data`\r\n",
    "\r\n",
    "#### 1. **Ingilizce Seviyeniz?** (Your English Proficiency Level)\r\n",
    "This column, which collects information about English proficiency, does not contain any data in the `test_data` set. Therefore, it is redundant and will be removed.\r\n",
    "\r\n",
    "#### 2. **Daha Once Baska Bir Universiteden Mezun Olmus** (Have you Graduated from Another University?)\r\n",
    "Although this column asks if the individual has graduated from another university, it is completely empty in the `test_data`. As there is no information to work with, we will delete it.\r\n",
    "\r\n",
    "#### 3. **Stk Projesine Katildiniz Mi?** (Have you Participated in an NGO Project?)\r\n",
    "This column, which asks about participation in NGO projects, is also devoid of data in the `test_data` set. Since there is no data present, we will remove this column as well.\r\n",
    "\r\n",
    "#### 4. **Burslu ise Burs Yuzdesi** (Scholarship Percentage)\r\n",
    "This column, indicating the percentage of a scholarship if applicable, contains no data in the `test_data`. Therefore, it is irrelevant to the analysis and will be deleted.\r\n"
   ]
  },
  {
   "cell_type": "code",
   "execution_count": 14,
   "id": "4df2132c-1e47-4304-8b70-891479f6c6cf",
   "metadata": {},
   "outputs": [],
   "source": [
    "test_dropped_columns=[\"Ingilizce Seviyeniz?\",\"Daha Once Baska Bir Universiteden Mezun Olmus\",\n",
    "                      \"Stk Projesine Katildiniz Mi?\",\"Burslu ise Burs Yuzdesi\"]\n",
    "\n",
    "train_data=train_data.drop(columns=test_dropped_columns)\n",
    "test_data=test_data.drop(columns=test_dropped_columns)"
   ]
  },
  {
   "cell_type": "code",
   "execution_count": 15,
   "id": "b4200f6a-a6a1-4781-b95a-bf4dc8c02a25",
   "metadata": {},
   "outputs": [
    {
     "data": {
      "text/plain": [
       "(65125, 33)"
      ]
     },
     "execution_count": 15,
     "metadata": {},
     "output_type": "execute_result"
    }
   ],
   "source": [
    "train_data.shape"
   ]
  },
  {
   "cell_type": "code",
   "execution_count": 16,
   "id": "566c4023-09f4-4f72-b1fc-3a4151c2908f",
   "metadata": {},
   "outputs": [
    {
     "data": {
      "text/plain": [
       "(11049, 32)"
      ]
     },
     "execution_count": 16,
     "metadata": {},
     "output_type": "execute_result"
    }
   ],
   "source": [
    "test_data.shape"
   ]
  },
  {
   "cell_type": "markdown",
   "id": "4c241d65-f89e-44d2-8cd4-19467ec4fe3f",
   "metadata": {},
   "source": [
    "## Explorative Data Analysis"
   ]
  },
  {
   "cell_type": "code",
   "execution_count": 17,
   "id": "11e718ff-1043-464d-aced-1de605842990",
   "metadata": {},
   "outputs": [
    {
     "data": {
      "text/plain": [
       "['Basvuru Yili', 'Degerlendirme Puani']"
      ]
     },
     "execution_count": 17,
     "metadata": {},
     "output_type": "execute_result"
    }
   ],
   "source": [
    "num_cols=train_data.select_dtypes(np.number).columns.tolist()\n",
    "num_cols"
   ]
  },
  {
   "cell_type": "code",
   "execution_count": 18,
   "id": "6b3ef580-b818-43d4-969c-8d251d4cf672",
   "metadata": {},
   "outputs": [],
   "source": [
    "cat_cols=train_data.select_dtypes('object').columns.tolist()\n",
    "# cat_cols"
   ]
  },
  {
   "cell_type": "markdown",
   "id": "2345aa56-6782-4308-ad96-023f204d9eb7",
   "metadata": {},
   "source": [
    "## EDA for Numerical Columns"
   ]
  },
  {
   "cell_type": "code",
   "execution_count": 19,
   "id": "4d413593-1a25-4c49-a3c8-c2cc2cddb82b",
   "metadata": {},
   "outputs": [
    {
     "data": {
      "text/plain": [
       "<seaborn.axisgrid.FacetGrid at 0x22507f707d0>"
      ]
     },
     "execution_count": 19,
     "metadata": {},
     "output_type": "execute_result"
    },
    {
     "data": {
      "image/png": "[encoded data removed]",
      "text/plain": [
       "<Figure size 500x500 with 1 Axes>"
      ]
     },
     "metadata": {},
     "output_type": "display_data"
    }
   ],
   "source": [
    "sns.displot(train_data['Degerlendirme Puani'],bins=25,kde=True)"
   ]
  },
  {
   "cell_type": "code",
   "execution_count": 20,
   "id": "638ed61a-4841-4c7c-abd7-378600383eef",
   "metadata": {},
   "outputs": [],
   "source": [
    "train_data=train_data.drop(train_data[train_data['Degerlendirme Puani'].isna()].index)"
   ]
  },
  {
   "cell_type": "code",
   "execution_count": 21,
   "id": "3d051af6-52b5-47e7-ab48-6432703d7c39",
   "metadata": {},
   "outputs": [],
   "source": [
    "# sns.kdeplot(train_data['Degerlendirme Puani'],fill=True);"
   ]
  },
  {
   "cell_type": "code",
   "execution_count": 22,
   "id": "5ca5dcd8-5e74-4570-bcbd-cd1ef2d570eb",
   "metadata": {},
   "outputs": [],
   "source": [
    "# sns.kdeplot(train_data['Basvuru Yili'],fill=True);"
   ]
  },
  {
   "cell_type": "code",
   "execution_count": 23,
   "id": "43cc7dfd-f16a-40ff-819d-2721de4f7774",
   "metadata": {},
   "outputs": [],
   "source": [
    "# sns.boxplot(x=\"Basvuru Yili\",y='Degerlendirme Puani',data=train_data);"
   ]
  },
  {
   "cell_type": "markdown",
   "id": "adf1d7b6-30d5-43c6-ade8-0e519dd12984",
   "metadata": {},
   "source": [
    "**Even though 2018 is the least applied year, 2006 is the peak year for \"degerlendirme puani\" (target variable)**"
   ]
  },
  {
   "cell_type": "markdown",
   "id": "2def0a2b-84dd-4e49-a1a8-1321f5c6f2ec",
   "metadata": {},
   "source": [
    "## EDA For Categorical Columns"
   ]
  },
  {
   "cell_type": "code",
   "execution_count": 24,
   "id": "8814d9cd-c297-4915-958d-110ae1e6cfee",
   "metadata": {},
   "outputs": [
    {
     "data": {
      "text/plain": [
       "['Cinsiyet',\n",
       " 'Dogum Tarihi',\n",
       " 'Dogum Yeri',\n",
       " 'Ikametgah Sehri',\n",
       " 'Universite Adi',\n",
       " 'Universite Turu',\n",
       " 'Burs Aliyor mu?',\n",
       " 'Bölüm',\n",
       " 'Universite Kacinci Sinif',\n",
       " 'Universite Not Ortalamasi',\n",
       " 'Lise Adi',\n",
       " 'Lise Sehir',\n",
       " 'Lise Turu',\n",
       " 'Lise Bolumu',\n",
       " 'Lise Mezuniyet Notu',\n",
       " 'Baska Bir Kurumdan Burs Aliyor mu?',\n",
       " 'Burs Aldigi Baska Kurum',\n",
       " 'Baska Kurumdan Aldigi Burs Miktari',\n",
       " 'Anne Egitim Durumu',\n",
       " 'Anne Calisma Durumu',\n",
       " 'Anne Sektor',\n",
       " 'Baba Egitim Durumu',\n",
       " 'Baba Calisma Durumu',\n",
       " 'Baba Sektor',\n",
       " 'Kardes Sayisi',\n",
       " 'Girisimcilik Kulupleri Tarzi Bir Kulube Uye misiniz?',\n",
       " 'Profesyonel Bir Spor Daliyla Mesgul musunuz?',\n",
       " 'Spor Dalindaki Rolunuz Nedir?',\n",
       " 'Aktif olarak bir STK üyesi misiniz?',\n",
       " 'Girisimcilikle Ilgili Deneyiminiz Var Mi?',\n",
       " 'Ingilizce Biliyor musunuz?']"
      ]
     },
     "execution_count": 24,
     "metadata": {},
     "output_type": "execute_result"
    }
   ],
   "source": [
    "cat_cols"
   ]
  },
  {
   "cell_type": "markdown",
   "id": "fb176cc5-287a-461b-ab49-44613224caf8",
   "metadata": {},
   "source": [
    "### Columns with less than 10 categories"
   ]
  },
  {
   "cell_type": "code",
   "execution_count": 25,
   "id": "00da652c-d47a-485f-999b-dd946ac37b54",
   "metadata": {},
   "outputs": [],
   "source": [
    "column_with_less_than_10_categories=find_columns_with_less_than_x_categories(train_data,cat_cols,10)"
   ]
  },
  {
   "cell_type": "code",
   "execution_count": 26,
   "id": "b4b2b3d3-5d5f-4928-a754-dae5db98250d",
   "metadata": {},
   "outputs": [
    {
     "data": {
      "text/plain": [
       "['Cinsiyet',\n",
       " 'Universite Turu',\n",
       " 'Burs Aliyor mu?',\n",
       " 'Baska Bir Kurumdan Burs Aliyor mu?',\n",
       " 'Anne Calisma Durumu',\n",
       " 'Anne Sektor',\n",
       " 'Baba Calisma Durumu',\n",
       " 'Baba Sektor',\n",
       " 'Girisimcilik Kulupleri Tarzi Bir Kulube Uye misiniz?',\n",
       " 'Profesyonel Bir Spor Daliyla Mesgul musunuz?',\n",
       " 'Spor Dalindaki Rolunuz Nedir?',\n",
       " 'Aktif olarak bir STK üyesi misiniz?',\n",
       " 'Girisimcilikle Ilgili Deneyiminiz Var Mi?',\n",
       " 'Ingilizce Biliyor musunuz?']"
      ]
     },
     "execution_count": 26,
     "metadata": {},
     "output_type": "execute_result"
    }
   ],
   "source": [
    "column_with_less_than_10_categories"
   ]
  },
  {
   "cell_type": "code",
   "execution_count": 27,
   "id": "c11e19c7-e319-48a5-9827-b1e6fffc4d95",
   "metadata": {},
   "outputs": [],
   "source": [
    "# show_unique_values_of_columns_in_train_and_test_data(train_data,test_data,column_with_less_than_10_categories)"
   ]
  },
  {
   "cell_type": "markdown",
   "id": "9fcbc531-fac2-411e-b430-d670057cb621",
   "metadata": {},
   "source": [
    "### Column Title Adjustments for Consistency with `test_data`\n",
    "\n",
    "To ensure consistency and reduce potential confusion between datasets, the following columns need to be properly titled: **Cinsiyet**, **Universite Turu**, **Burs Aliyor mu?**, **Anne Sektor**, **Baba Sektor**, and **Spor Dalindaki Rolunuz Nedir?**. Standardizing these column titles will help align the `test_data` with other datasets, making the data easier to manage and reducing discrepancies during analysis. By applying clear and consistent titles, we can enhance both the accuracy of the data processing and the clarity of our workflow.\n"
   ]
  },
  {
   "cell_type": "code",
   "execution_count": 28,
   "id": "2732c12b-bcb5-4f09-9ada-f50ba189b987",
   "metadata": {},
   "outputs": [],
   "source": [
    "train_titled_cols=[\"Cinsiyet\", \"Universite Turu\",\"Burs Aliyor mu?\",\"Anne Sektor\",\"Baba Sektor\",\"Spor Dalindaki Rolunuz Nedir?\"]\n",
    "for col in train_titled_cols:\n",
    "    train_data[col]=train_data[col].str.title()  \n"
   ]
  },
  {
   "cell_type": "code",
   "execution_count": 29,
   "id": "06bea7eb-ba94-485a-90a8-490db5233fc4",
   "metadata": {},
   "outputs": [],
   "source": [
    "test_data[\"Cinsiyet\"]=test_data[\"Cinsiyet\"].str.title()  "
   ]
  },
  {
   "cell_type": "code",
   "execution_count": 30,
   "id": "d742ca78-a967-4b64-9120-6a219d343ab7",
   "metadata": {},
   "outputs": [],
   "source": [
    "# display_bar_plot_for_categorical_cols(train_data,column_with_less_than_10_categories)"
   ]
  },
  {
   "cell_type": "code",
   "execution_count": 31,
   "id": "0b5ebd64-cd6a-4305-bd6e-a23bd58cc358",
   "metadata": {},
   "outputs": [],
   "source": [
    "# display_bar_plot_for_categorical_cols(test_data,column_with_less_than_10_categories)"
   ]
  },
  {
   "cell_type": "markdown",
   "id": "0a05144d-4b0b-41ed-beaa-b75be230cefa",
   "metadata": {
    "jp-MarkdownHeadingCollapsed": true
   },
   "source": [
    "### Mapping for `Calisma Durumu`\n",
    "\n",
    "To align with the `test_data`, we mapped `'Emekli'` (Retired) to `'Hayır'` (No) in the **Anne Calisma Durumu** and **Baba Calisma Durumu** columns in `train_data`. This ensures consistency between both datasets.\n"
   ]
  },
  {
   "cell_type": "code",
   "execution_count": 32,
   "id": "6d43db33-1d0d-48c9-8ecc-549c72320052",
   "metadata": {},
   "outputs": [],
   "source": [
    "calisma_durumu_map={\n",
    "    'Emekli':'Hayır'\n",
    "}\n",
    "train_data['Anne Calisma Durumu'] = train_data['Anne Calisma Durumu'].replace(calisma_durumu_map)\n",
    "train_data['Baba Calisma Durumu'] = train_data['Baba Calisma Durumu'].replace(calisma_durumu_map)\n"
   ]
  },
  {
   "cell_type": "markdown",
   "id": "040f70fa-a205-4b0a-b27d-82c1af5e07ac",
   "metadata": {},
   "source": [
    "### Mapping for `Sektor` Columns\n",
    "\n",
    "To standardize sector names between the `train` and `test` datasets, we applied the following mapping in the **Anne Sektor** (Mother's Sector) and **Baba Sektor** (Father's Sector) columns:\n",
    "\n",
    "- `'Di̇ğer'` and `'Diğer'` mapped to `'Diğer'`\n",
    "- `'0'` mapped to `'-'`\n",
    "\n",
    "This ensures consistency across both datasets.\n"
   ]
  },
  {
   "cell_type": "code",
   "execution_count": 33,
   "id": "da366427-1aba-4077-afc9-ec669823dda1",
   "metadata": {},
   "outputs": [],
   "source": [
    "sektor_map={\n",
    "     'Diğer':'Diger',\n",
    "    'Di̇ğer':'Diger',\n",
    "    '0':'-',\n",
    "   \n",
    "}\n",
    "train_data['Anne Sektor'] = train_data['Anne Sektor'].replace(sektor_map)\n",
    "train_data['Baba Sektor'] = train_data['Baba Sektor'].replace(sektor_map)\n",
    "\n",
    "\n",
    "test_data['Anne Sektor'] = test_data['Anne Sektor'].replace(sektor_map)\n",
    "test_data['Baba Sektor'] = test_data['Baba Sektor'].replace(sektor_map)"
   ]
  },
  {
   "cell_type": "markdown",
   "id": "988dc98d-f8c2-40d7-acf6-3835981fd116",
   "metadata": {},
   "source": [
    "### Mapping for `Spor Dalindaki Rolunuz Nedir?`\n",
    "\n",
    "To harmonize the roles between the `train` and `test` datasets, we applied the following mapping in the **Spor Dalindaki Rolunuz Nedir?** (Your Role in Sports) column:\n",
    "\n",
    "- `'0'` mapped to `'-'`\n",
    "- `'Kaptan'` and `'Kaptan / Li̇der'` mapped to `'Lider/Kaptan'`\n",
    "- `'Diğer'` and `'Di̇ğer'` mapped to `'Diger'`\n",
    "- `'Bireysel'` mapped to `'Bireysel Spor'`\n",
    "\n",
    "This ensures that all roles are standardized for consistency across both datasets.\n"
   ]
  },
  {
   "cell_type": "code",
   "execution_count": 34,
   "id": "090fa4a5-4c18-42cc-9765-d63bff645b75",
   "metadata": {},
   "outputs": [],
   "source": [
    "spor_dalindaki_rolunuz_nedir_map={\n",
    "    '0': '-',\n",
    "    'Kaptan':'Lider/Kaptan',\n",
    "    'Kaptan / Li̇der':'Lider/Kaptan',\n",
    "    'Diğer':'Diger',\n",
    "   'Di̇ğer':'Diger',\n",
    "   'Bireysel':'Bireysel Spor',\n",
    "    'Takım Oyuncusu':'Takım Oyuncusu'       \n",
    "}\n",
    "train_data['Spor Dalindaki Rolunuz Nedir?']=train_data['Spor Dalindaki Rolunuz Nedir?'].replace(spor_dalindaki_rolunuz_nedir_map)\n",
    "\n",
    "test_data['Spor Dalindaki Rolunuz Nedir?']=test_data['Spor Dalindaki Rolunuz Nedir?'].replace(spor_dalindaki_rolunuz_nedir_map)\n"
   ]
  },
  {
   "cell_type": "markdown",
   "id": "93823740-b217-4dcf-a819-3e0dfe6a7df1",
   "metadata": {},
   "source": [
    "### Columns with more than 10 and less than 35 categories"
   ]
  },
  {
   "cell_type": "code",
   "execution_count": 35,
   "id": "0927efae-6f5b-42ef-9e5a-78fbd97b12ad",
   "metadata": {},
   "outputs": [],
   "source": [
    "column_with_more_than_10_and_less_than_35_categories=[]\n",
    "for i in cat_cols:\n",
    "    if i not in column_with_less_than_10_categories and len(train_data[i].unique())<35:\n",
    "        column_with_more_than_10_and_less_than_35_categories.append(i)\n",
    "        "
   ]
  },
  {
   "cell_type": "code",
   "execution_count": 36,
   "id": "82fcab2f-2412-4e85-8c7f-081797e09bb6",
   "metadata": {},
   "outputs": [
    {
     "data": {
      "text/plain": [
       "['Universite Kacinci Sinif',\n",
       " 'Universite Not Ortalamasi',\n",
       " 'Lise Turu',\n",
       " 'Lise Mezuniyet Notu',\n",
       " 'Anne Egitim Durumu',\n",
       " 'Baba Egitim Durumu',\n",
       " 'Kardes Sayisi']"
      ]
     },
     "execution_count": 36,
     "metadata": {},
     "output_type": "execute_result"
    }
   ],
   "source": [
    "column_with_more_than_10_and_less_than_35_categories"
   ]
  },
  {
   "cell_type": "markdown",
   "id": "6c2dd0a9-6690-4670-b56f-b7c597958bfe",
   "metadata": {},
   "source": [
    "### Ordinal Mapping for Specific Columns\n",
    "\n",
    "The following columns in the dataset require ordinal mapping to convert categorical values into a ranked numerical format:\n",
    "\n",
    "- **Universite Kacinci Sinif** (University Year)\n",
    "- **Universite Not Ortalamasi** (University GPA)\n",
    "- **Lise Turu** (High School Type)\n",
    "- **Lise Mezuniyet Notu** (High School Graduation Score)\n",
    "- **Anne Egitim Durumu** (Mother's Education Level)\n",
    "- **Baba Egitim Durumu** (Father's Education Level)\n",
    "- **Kardes Sayisi** (Number of Siblings)\n",
    "\n",
    "These mappings will ensure that the ordinal relationships between categories are preserved, allowing for more accurate analysis and modeling.\n"
   ]
  },
  {
   "cell_type": "code",
   "execution_count": 37,
   "id": "89f057e4-5137-44e0-a522-cfba8a6a3401",
   "metadata": {},
   "outputs": [
    {
     "name": "stderr",
     "output_type": "stream",
     "text": [
      "C:\\Users\\Naz\\AppData\\Local\\Temp\\ipykernel_10720\\2306006054.py:15: FutureWarning: Downcasting behavior in `replace` is deprecated and will be removed in a future version. To retain the old behavior, explicitly call `result.infer_objects(copy=False)`. To opt-in to the future behavior, set `pd.set_option('future.no_silent_downcasting', True)`\n",
      "  train_data['Universite Kacinci Sinif'] = train_data['Universite Kacinci Sinif'].replace(uni_kacinci_sinif_ordinal_mapping)\n",
      "C:\\Users\\Naz\\AppData\\Local\\Temp\\ipykernel_10720\\2306006054.py:16: FutureWarning: Downcasting behavior in `replace` is deprecated and will be removed in a future version. To retain the old behavior, explicitly call `result.infer_objects(copy=False)`. To opt-in to the future behavior, set `pd.set_option('future.no_silent_downcasting', True)`\n",
      "  test_data['Universite Kacinci Sinif'] = test_data['Universite Kacinci Sinif'].replace(uni_kacinci_sinif_ordinal_mapping)\n"
     ]
    }
   ],
   "source": [
    "uni_kacinci_sinif_ordinal_mapping = {\n",
    "    'Hazırlık': 0,\n",
    "    'hazırlık':0,\n",
    "    '0':0,\n",
    "    '1': 1,\n",
    "    '2': 2,\n",
    "    '3': 3,\n",
    "    '4': 4,\n",
    "    '5': 5,\n",
    "    '6': 6,\n",
    "    'Mezun': 7,\n",
    "    'Yüksek Lisans': 7,\n",
    "     'Tez': 7\n",
    "}\n",
    "train_data['Universite Kacinci Sinif'] = train_data['Universite Kacinci Sinif'].replace(uni_kacinci_sinif_ordinal_mapping)\n",
    "test_data['Universite Kacinci Sinif'] = test_data['Universite Kacinci Sinif'].replace(uni_kacinci_sinif_ordinal_mapping)"
   ]
  },
  {
   "cell_type": "code",
   "execution_count": 38,
   "id": "278ed2bd-58ee-42b8-900d-6c5cd08bc3b5",
   "metadata": {},
   "outputs": [
    {
     "name": "stderr",
     "output_type": "stream",
     "text": [
      "C:\\Users\\Naz\\AppData\\Local\\Temp\\ipykernel_10720\\1555697822.py:26: FutureWarning: Downcasting behavior in `replace` is deprecated and will be removed in a future version. To retain the old behavior, explicitly call `result.infer_objects(copy=False)`. To opt-in to the future behavior, set `pd.set_option('future.no_silent_downcasting', True)`\n",
      "  train_data['Universite Not Ortalamasi'] = train_data['Universite Not Ortalamasi'].replace(uni_not_ort_map)\n",
      "C:\\Users\\Naz\\AppData\\Local\\Temp\\ipykernel_10720\\1555697822.py:27: FutureWarning: Downcasting behavior in `replace` is deprecated and will be removed in a future version. To retain the old behavior, explicitly call `result.infer_objects(copy=False)`. To opt-in to the future behavior, set `pd.set_option('future.no_silent_downcasting', True)`\n",
      "  test_data['Universite Not Ortalamasi'] = test_data['Universite Not Ortalamasi'].replace(uni_not_ort_map)\n"
     ]
    }
   ],
   "source": [
    "uni_not_ort_map = {\n",
    "    '4.00 - 3.50': 9,\n",
    "    '3.50 - 4.00': 9,\n",
    "    '4.0-3.5': 9,\n",
    "    '4-3.5': 9,\n",
    "    '3.00 - 4.00':8,\n",
    "    '3.50 - 3.00': 8,\n",
    "    '3.00 - 3.50': 8,\n",
    "    '3.00 - 3.49': 8,\n",
    "    '3.00 - 2.50': 7,\n",
    "    '3.00-2.50':7,\n",
    "    '3.50-3': 7,\n",
    "    '2.50 - 3.00': 6,\n",
    "    '2.50 -3.00': 6,\n",
    "    '2.50 - 2.99': 6,\n",
    "    '2.00 - 2.50': 5,\n",
    "    '2.50 ve altı': 5,\n",
    "    '1.80 - 2.49': 4,\n",
    "    '1.00 - 2.50': 4,\n",
    "    '0 - 1.79': 3,\n",
    "    'Ortalama bulunmuyor': np.nan,\n",
    "    'ORTALAMA BULUNMUYOR': np.nan,\n",
    "     'Not ortalaması yok': np.nan,\n",
    "    'Hazırlığım':np.nan\n",
    "}\n",
    "train_data['Universite Not Ortalamasi'] = train_data['Universite Not Ortalamasi'].replace(uni_not_ort_map)\n",
    "test_data['Universite Not Ortalamasi'] = test_data['Universite Not Ortalamasi'].replace(uni_not_ort_map)"
   ]
  },
  {
   "cell_type": "code",
   "execution_count": 39,
   "id": "0a6de87a-466c-4c47-aa4f-11d4bd1cf58e",
   "metadata": {},
   "outputs": [],
   "source": [
    "train_data['Lise Turu']=train_data['Lise Turu'].str.title()\n",
    "lise_turu_map={\n",
    "    'Meslek':'Meslek Lisesi',\n",
    "     'Özel Lisesi':'Özel Lise',\n",
    "     'Özel':'Özel Lise',\n",
    "    'Devlet':'Anadolu Lisesi'\n",
    "    \n",
    "}\n",
    "train_data['Lise Turu'] = train_data['Lise Turu'].replace(lise_turu_map)\n",
    "lise_turu_map_devlet_ozel={\n",
    "    'Anadolu Lisesi':'Devlet',\n",
    "    'Meslek Lisesi':'Devlet',\n",
    "    'Fen Lisesi':'Devlet',\n",
    "     'Düz Lise':'Devlet',\n",
    "    'İmam Hatip Lisesi':'Devlet',\n",
    "    'Diğer':'Özel',\n",
    "     'Özel Lise':'Özel'    \n",
    "   \n",
    "}\n",
    "train_data['Lise Turu'] = train_data['Lise Turu'].replace(lise_turu_map_devlet_ozel)"
   ]
  },
  {
   "cell_type": "code",
   "execution_count": 40,
   "id": "b23b6db5-e6d9-4e6a-ad9d-4d3c1ac9510f",
   "metadata": {},
   "outputs": [],
   "source": [
    "lise_mezuniyet_notu_map = {\n",
    "    '3.50-3': '50 - 74',\n",
    "    '3.00 - 4.00': '75 - 100',\n",
    "    '3.00-2.50': '25 - 49',\n",
    "    '2.50 ve altı': '25 - 49',\n",
    "    '4.00-3.50': '75 - 100',\n",
    "    '3.50-3.00': '50 - 74',\n",
    "    '69-55': '50 - 74',\n",
    "    '100-85': '75 - 100',\n",
    "    '84-70': '75 - 100',\n",
    "    '54-45': '50 - 74',\n",
    "    '44-0': '25 - 49',\n",
    "    '75 - 100': '75 - 100',\n",
    "    '50 - 75': '50 - 74',\n",
    "    'not ortalaması yok': np.nan,  # Keep as is\n",
    "    '25 - 50': '25 - 49',\n",
    "    '0 - 25': '25 - 49',\n",
    "    '50 - 74': '50 - 74',\n",
    "    '25 - 49': '25 - 49',\n",
    "    '0 - 24': '25 - 49'\n",
    "}\n",
    "train_data['Lise Mezuniyet Notu'] = train_data['Lise Mezuniyet Notu'].map(lise_mezuniyet_notu_map)\n",
    "test_data['Lise Mezuniyet Notu'] = test_data['Lise Mezuniyet Notu'].map(lise_mezuniyet_notu_map)\n"
   ]
  },
  {
   "cell_type": "code",
   "execution_count": 41,
   "id": "063c2d0a-5e53-4cb1-9177-37ed376ded13",
   "metadata": {},
   "outputs": [],
   "source": [
    "lise_mezuniyet_ordinal_map={\n",
    "    '50 - 74':2,\n",
    "    '75 - 100' :3,\n",
    "    '25 - 49':1\n",
    "}\n",
    "train_data['Lise Mezuniyet Notu'] = train_data['Lise Mezuniyet Notu'].map(lise_mezuniyet_ordinal_map)\n",
    "test_data['Lise Mezuniyet Notu'] = test_data['Lise Mezuniyet Notu'].map(lise_mezuniyet_ordinal_map)"
   ]
  },
  {
   "cell_type": "code",
   "execution_count": 42,
   "id": "242e9a3f-9290-4347-8c4b-97d5768f25b0",
   "metadata": {},
   "outputs": [],
   "source": [
    "train_data['Anne Egitim Durumu']=train_data['Anne Egitim Durumu'].str.title()\n",
    "train_data[ 'Baba Egitim Durumu']=train_data[ 'Baba Egitim Durumu'].str.title()\n",
    "\n",
    "egitim_durumu_map = {\n",
    "    'Üniversite': 'Üniversite',\n",
    "    'Üniversite Mezunu': 'Üniversite',\n",
    "    'Üni̇versi̇te': 'Üniversite',\n",
    "    'İlkokul': 'İlkokul',\n",
    "    'İlkokul Mezunu': 'İlkokul',\n",
    "    'Lise': 'Lise',\n",
    "    'Lise Mezunu': 'Lise',\n",
    "    'Li̇se': 'Lise',\n",
    "    'Ortaokul': 'Ortaokul',\n",
    "    'Ortaokul Mezunu': 'Ortaokul',\n",
    "    'Yüksek Lisans': 'Yüksek Lisans',\n",
    "    'Yüksek Li̇sans':'Yüksek Lisans',\n",
    "    'Yüksek Lisans / Doktora': 'Yüksek Lisans',\n",
    "    'Yüksek Lisans / Doktara': 'Yüksek Lisans',\n",
    "    'Doktora': 'Doktora',\n",
    "    'Eğitim Yok': 'Eğitimi yok',\n",
    "    'Eği̇ti̇m Yok': 'Eğitimi yok',\n",
    "    'Eğitimi Yok': 'Eğitimi yok',\n",
    "    '0':'Eğitimi yok'\n",
    "}\n",
    "train_data['Anne Egitim Durumu']=train_data['Anne Egitim Durumu'].replace(egitim_durumu_map)\n",
    "train_data['Baba Egitim Durumu']=train_data['Baba Egitim Durumu'].replace(egitim_durumu_map)\n"
   ]
  },
  {
   "cell_type": "code",
   "execution_count": 43,
   "id": "94b2bd9c-f76d-49c1-a5a1-e7ced777da22",
   "metadata": {},
   "outputs": [
    {
     "name": "stderr",
     "output_type": "stream",
     "text": [
      "C:\\Users\\Naz\\AppData\\Local\\Temp\\ipykernel_10720\\3558116154.py:10: FutureWarning: Downcasting behavior in `replace` is deprecated and will be removed in a future version. To retain the old behavior, explicitly call `result.infer_objects(copy=False)`. To opt-in to the future behavior, set `pd.set_option('future.no_silent_downcasting', True)`\n",
      "  train_data['Anne Egitim Durumu']=train_data['Anne Egitim Durumu'].replace(egitim_durumu_ordinal_map)\n",
      "C:\\Users\\Naz\\AppData\\Local\\Temp\\ipykernel_10720\\3558116154.py:11: FutureWarning: Downcasting behavior in `replace` is deprecated and will be removed in a future version. To retain the old behavior, explicitly call `result.infer_objects(copy=False)`. To opt-in to the future behavior, set `pd.set_option('future.no_silent_downcasting', True)`\n",
      "  train_data['Baba Egitim Durumu']=train_data['Baba Egitim Durumu'].replace(egitim_durumu_ordinal_map)\n",
      "C:\\Users\\Naz\\AppData\\Local\\Temp\\ipykernel_10720\\3558116154.py:12: FutureWarning: Downcasting behavior in `replace` is deprecated and will be removed in a future version. To retain the old behavior, explicitly call `result.infer_objects(copy=False)`. To opt-in to the future behavior, set `pd.set_option('future.no_silent_downcasting', True)`\n",
      "  test_data['Anne Egitim Durumu']=test_data['Anne Egitim Durumu'].replace(egitim_durumu_ordinal_map)\n",
      "C:\\Users\\Naz\\AppData\\Local\\Temp\\ipykernel_10720\\3558116154.py:13: FutureWarning: Downcasting behavior in `replace` is deprecated and will be removed in a future version. To retain the old behavior, explicitly call `result.infer_objects(copy=False)`. To opt-in to the future behavior, set `pd.set_option('future.no_silent_downcasting', True)`\n",
      "  test_data['Baba Egitim Durumu']=test_data['Baba Egitim Durumu'].replace(egitim_durumu_ordinal_map)\n"
     ]
    }
   ],
   "source": [
    "egitim_durumu_ordinal_map={\n",
    "'Eğitimi yok':0,\n",
    "     'İlkokul':1,\n",
    "    'Ortaokul':2,    \n",
    "     'Lise' :3,\n",
    "    'Üniversite' :4,\n",
    "    'Yüksek Lisans':5,\n",
    "    'Doktora':6\n",
    "}\n",
    "train_data['Anne Egitim Durumu']=train_data['Anne Egitim Durumu'].replace(egitim_durumu_ordinal_map)\n",
    "train_data['Baba Egitim Durumu']=train_data['Baba Egitim Durumu'].replace(egitim_durumu_ordinal_map)\n",
    "test_data['Anne Egitim Durumu']=test_data['Anne Egitim Durumu'].replace(egitim_durumu_ordinal_map)\n",
    "test_data['Baba Egitim Durumu']=test_data['Baba Egitim Durumu'].replace(egitim_durumu_ordinal_map)\n"
   ]
  },
  {
   "cell_type": "code",
   "execution_count": 44,
   "id": "1c82beea-c8b4-4c27-98af-eacebba200f0",
   "metadata": {},
   "outputs": [],
   "source": [
    "kardes_sayisi_map={\n",
    "     'Kardeş Sayısı 1 Ek Bilgi Aile Hk. Anne Vefat':'1'\n",
    "}\n",
    "train_data['Kardes Sayisi']=train_data['Kardes Sayisi'].replace(egitim_durumu_ordinal_map)\n",
    "train_data['Kardes Sayisi'] = pd.to_numeric(train_data['Kardes Sayisi'], errors='coerce')\n"
   ]
  },
  {
   "cell_type": "code",
   "execution_count": 45,
   "id": "35abd423-41e8-4d41-9766-edbd5eb51648",
   "metadata": {},
   "outputs": [],
   "source": [
    "# for i in column_with_more_than_10_and_less_than_35_categories:\n",
    "#     print(i)\n",
    "#     print(\"Train Data\")    \n",
    "#     print(len(train_data[i].unique()))\n",
    "#     print(train_data[i].unique())\n",
    "#     print(\"Test Data\")\n",
    "#     print(len(test_data[i].unique()))\n",
    "#     print(test_data[i].unique())\n",
    "#     print(\"-------------\")\n"
   ]
  },
  {
   "cell_type": "markdown",
   "id": "ad4e9863-9a11-44d1-bfef-2cdd4cadfb84",
   "metadata": {
    "jp-MarkdownHeadingCollapsed": true
   },
   "source": [
    "### Columns with more than 35 categories"
   ]
  },
  {
   "cell_type": "code",
   "execution_count": 46,
   "id": "9007d0d9-c6fc-4555-adb0-9c8c71af9e23",
   "metadata": {},
   "outputs": [],
   "source": [
    "columns_with_more_than_35_categories=[]\n",
    "for i in cat_cols:\n",
    "    if i not in column_with_less_than_10_categories and i not in column_with_more_than_10_and_less_than_35_categories:\n",
    "        columns_with_more_than_35_categories.append(i)\n",
    "        "
   ]
  },
  {
   "cell_type": "code",
   "execution_count": 47,
   "id": "da01a3b1-c7cf-4c4c-80a2-30589e4471d7",
   "metadata": {},
   "outputs": [
    {
     "data": {
      "text/plain": [
       "['Dogum Tarihi',\n",
       " 'Dogum Yeri',\n",
       " 'Ikametgah Sehri',\n",
       " 'Universite Adi',\n",
       " 'Bölüm',\n",
       " 'Lise Adi',\n",
       " 'Lise Sehir',\n",
       " 'Lise Bolumu',\n",
       " 'Burs Aldigi Baska Kurum',\n",
       " 'Baska Kurumdan Aldigi Burs Miktari']"
      ]
     },
     "execution_count": 47,
     "metadata": {},
     "output_type": "execute_result"
    }
   ],
   "source": [
    "columns_with_more_than_35_categories"
   ]
  },
  {
   "cell_type": "code",
   "execution_count": 48,
   "id": "3f0584da-7db0-463c-ac30-812f1d7cf774",
   "metadata": {},
   "outputs": [],
   "source": [
    "# for i in columns_with_more_than_35_categories:\n",
    "#     print(i)\n",
    "#     print(\"Train Data\")    \n",
    "#     print(len(train_data[i].unique()))\n",
    "#     print(\"Test Data\")\n",
    "#     print(len(test_data[i].unique()))\n",
    "#     print(\"----------------------------------------------------------------\")"
   ]
  },
  {
   "cell_type": "markdown",
   "id": "9de28d51-364c-408d-89dd-27858265a25e",
   "metadata": {},
   "source": [
    "### Handling `Doğum Tarihi` (Birth Date) Column\n",
    "\n",
    "The **Doğum Tarihi** (Birth Date) column contains both English and Turkish date formats, with some months written in Turkish (e.g., \"Mayis\" for May, \"Kasim\" for November). To standardize the data and ensure consistency, we will first translate the Turkish month names into English. After that, the dates will be converted into a uniform format (e.g., `YYYY-MM-DD`). \n",
    "\n",
    "Once this is done, we will calculate the age of each individual based on their birthdate, ensuring that this column is ready for further analysis.\n"
   ]
  },
  {
   "cell_type": "code",
   "execution_count": 49,
   "id": "b5f2f874-f28f-41bd-8846-14abf6296af0",
   "metadata": {},
   "outputs": [],
   "source": [
    "col=\"Dogum Tarihi\""
   ]
  },
  {
   "cell_type": "code",
   "execution_count": 50,
   "id": "8eacb76b-81f0-4651-bb64-dff1d77cc8bd",
   "metadata": {},
   "outputs": [],
   "source": [
    "month_set=set()\n",
    "train_data[col].apply(lambda x: month_set.add(re.findall(r'[a-zA-Z]+', x)[0]) if isinstance(x, str) and re.findall(r'[a-zA-Z]+', x) else x)\n",
    "month_list = list(month_set)\n"
   ]
  },
  {
   "cell_type": "code",
   "execution_count": 51,
   "id": "b2f1fa6e-1688-4766-916c-fe5b9704dda0",
   "metadata": {},
   "outputs": [
    {
     "name": "stdout",
     "output_type": "stream",
     "text": [
      "['Feb', 'Aug', 'Kasim', 'Oct', 'Jul', 'Aralik', 'Nisan', 'Apr', 'Jan', 'Mar', 'Sep', 'Mayis', 'Jun']\n"
     ]
    }
   ],
   "source": [
    "print(month_list)"
   ]
  },
  {
   "cell_type": "code",
   "execution_count": 52,
   "id": "d0fe98ad-8b6e-439c-aeae-ee195c8ad8eb",
   "metadata": {},
   "outputs": [],
   "source": [
    "month_map={\n",
    "    'Aralik':'December',\n",
    "    'Kasim':'November',\n",
    "    'Mayis': 'May',\n",
    "    'Jun':'June',\n",
    "    'Aug': 'August',\n",
    "    'Mar':'March',\n",
    "    'Jan':'January',\n",
    "    'Oct':'October',\n",
    "    'Feb':'February',\n",
    "    'Jul': 'July',\n",
    "    'Sep':'September',\n",
    "    'Apr':'April',\n",
    "    'Nisan':'April'\n",
    "}"
   ]
  },
  {
   "cell_type": "code",
   "execution_count": 53,
   "id": "6d07276d-571a-4635-bd9e-6139f29df750",
   "metadata": {},
   "outputs": [],
   "source": [
    "train_data[col] = train_data[col].apply(replace_month)"
   ]
  },
  {
   "cell_type": "code",
   "execution_count": 54,
   "id": "14b37e2c-9d59-4e12-ab43-e5442b28852f",
   "metadata": {},
   "outputs": [],
   "source": [
    "train_data[col] = train_data[col].apply(replace_birth_dates)\n",
    "test_data[col] = test_data[col].apply(replace_birth_dates)"
   ]
  },
  {
   "cell_type": "code",
   "execution_count": 55,
   "id": "d8d9bdda-f5d0-4b28-aa46-dec2152691db",
   "metadata": {},
   "outputs": [],
   "source": [
    "# Apply the function again\n",
    "train_data['Yas'] = train_data[col].apply(find_age)\n",
    "test_data['Yas'] = test_data[col].apply(find_age)"
   ]
  },
  {
   "cell_type": "markdown",
   "id": "67b101d8-f069-4a83-ae01-12f61fe28403",
   "metadata": {},
   "source": [
    "##### Removing the Birth Date Column\n",
    "\n",
    "Since we have derived an **`age`** column from the birth date information, the **`birth date`** column can now be removed. \n",
    "\n"
   ]
  },
  {
   "cell_type": "code",
   "execution_count": 56,
   "id": "e1485e0a-9d3e-467e-88e1-e9676cb8eeed",
   "metadata": {},
   "outputs": [],
   "source": [
    "col=\"Dogum Tarihi\"\n",
    "train_data=train_data.drop(columns=col)\n",
    "test_data=test_data.drop(columns=col)"
   ]
  },
  {
   "cell_type": "markdown",
   "id": "aa6aafcb-c248-43b0-a87b-c800ae176067",
   "metadata": {},
   "source": [
    "#### 1. `match_cities_in_train_data_with_test_data`\n",
    "This function standardizes and matches city names between two datasets: `train_data` and `test_data`.\n",
    "\n",
    "- **Step 1**: Corrects spelling mistakes in city names (like Istanbul and Izmir) using the `replace_izmir_istanbul_cities_with_correct_spelling` function.\n",
    "- **Step 2**: Removes non-alphabetic characters (like '-', '/', ',') from `train_data` and matches cleaned names with `test_data` using `remove_non_alpha_characters_from_data_and_match_with_test_data`.\n",
    "- **Step 3**: Maps Istanbul districts to \"İstanbul\" using the `map_istanbul_districts` function.\n",
    "- **Step 4**: Matches similar city names between `train_data` and `test_data` using fuzzy matching in the `match_strings_with_its_similars` function.\n",
    "\n",
    "##### 2. `replace_izmir_istanbul_cities_with_correct_spelling`\n",
    "Corrects spelling variations of major city names (like 'Istanbul' and 'Izmir') by replacing them with their standardized Turkish forms ('İstanbul', 'İzmir').\n",
    "\n",
    "##### 3. `remove_non_alpha_characters_from_data_and_match_with_test_data`\n",
    "Removes non-alphabetic characters (such as `-`, `/`, `,`) from city names in `train_data`. Then, it splits the city names and matches each part with values in `test_data`.\n",
    "\n",
    "##### 4. `map_istanbul_districts`\n",
    "Maps Istanbul districts in `train_data` to the city name \"İstanbul\". It checks whether a string is one of the districts and replaces it accordingly.\n",
    "\n",
    "##### 5. `match_strings_with_its_similars`\n",
    "Uses fuzzy matching to find the closest match for each city name in `train_data` from `test_data`. If no close match is found (i.e., similarity score below 50), the string is replaced with \"Diğer\" (Other). Otherwise, the closest match is assigned to `train_data`.\n"
   ]
  },
  {
   "cell_type": "code",
   "execution_count": 57,
   "id": "e93afc38-15b0-4d5d-b288-15b778488d3c",
   "metadata": {
    "scrolled": true
   },
   "outputs": [],
   "source": [
    "col='Dogum Yeri'\n",
    "train_data[col]=train_data[col].str.title()"
   ]
  },
  {
   "cell_type": "code",
   "execution_count": 58,
   "id": "09869952-86dc-4fd1-af20-ecdf7d0b34e5",
   "metadata": {},
   "outputs": [],
   "source": [
    "istanbul_districts = [\n",
    "    \"Adalar\", \"Arnavutköy\", \"Ataşehir\", \"Avcılar\", \"Bağcılar\", \"Bahçelievler\", \n",
    "    \"Bakırköy\", \"Başakşehir\", \"Bayrampaşa\", \"Beşiktaş\", \"Beykoz\", \"Beylikdüzü\", \n",
    "    \"Beyoğlu\", \"Büyükçekmece\", \"Çatalca\", \"Çekmeköy\", \"Esenler\", \"Esenyurt\", \n",
    "    \"Eyüpsultan\", \"Fatih\", \"Gaziosmanpaşa\", \"Güngören\", \"Kadıköy\", \"Kağıthane\", \n",
    "    \"Kartal\", \"Küçükçekmece\", \"Maltepe\", \"Pendik\", \"Sancaktepe\", \"Sarıyer\", \n",
    "    \"Şile\", \"Silivri\", \"Şişli\", \"Sultanbeyli\", \"Sultangazi\", \"Tuzla\", \"Ümraniye\", \n",
    "    \"Üsküdar\", \"Zeytinburnu\"]"
   ]
  },
  {
   "cell_type": "code",
   "execution_count": 59,
   "id": "46101bcb-f381-4585-b184-c2b456adc659",
   "metadata": {},
   "outputs": [],
   "source": [
    "train_data=match_cities_in_train_data_with_test_data(train_data,test_data,col)       "
   ]
  },
  {
   "cell_type": "code",
   "execution_count": 60,
   "id": "9fc8865e-8b6f-44b0-b3c7-d9b174d64a98",
   "metadata": {},
   "outputs": [],
   "source": [
    "col='Ikametgah Sehri'\n",
    "train_data[col]=train_data[col].str.title()"
   ]
  },
  {
   "cell_type": "code",
   "execution_count": 61,
   "id": "f2814b50-84aa-4943-9147-3d14010b8408",
   "metadata": {},
   "outputs": [],
   "source": [
    "train_data=match_cities_in_train_data_with_test_data(train_data,test_data,col)       "
   ]
  },
  {
   "cell_type": "code",
   "execution_count": 62,
   "id": "5582ec33-ce16-43a9-8b3f-3ee4ae2f6e62",
   "metadata": {},
   "outputs": [],
   "source": [
    "col='Universite Adi'\n",
    "train_data[col]=train_data[col].str.title()\n"
   ]
  },
  {
   "cell_type": "code",
   "execution_count": 63,
   "id": "485d1937-1a9e-4067-9620-48e451284abc",
   "metadata": {},
   "outputs": [],
   "source": [
    "train_data=map_other(train_data,col)\n",
    "test_data=map_other(test_data,col)"
   ]
  },
  {
   "cell_type": "code",
   "execution_count": 64,
   "id": "2fec6c2d-6da8-4df9-9444-b39b9bf7a324",
   "metadata": {},
   "outputs": [],
   "source": [
    "matched_texts,train_data=match_strings_with_its_similars(train_data,col,test_data[col].unique().tolist())"
   ]
  },
  {
   "cell_type": "code",
   "execution_count": 65,
   "id": "58192dec-ae4c-4dbb-9370-4372878d7bc6",
   "metadata": {},
   "outputs": [],
   "source": [
    "col='Bölüm'\n",
    "train_data[col]=train_data[col].str.title()\n"
   ]
  },
  {
   "cell_type": "code",
   "execution_count": 66,
   "id": "1e12a3dc-8893-4566-8e71-65ef1d04fcef",
   "metadata": {},
   "outputs": [],
   "source": [
    "train_data=map_other(train_data,col)\n",
    "test_data=map_other(test_data,col)"
   ]
  },
  {
   "cell_type": "code",
   "execution_count": 67,
   "id": "90dd25ba-fcf5-4aed-823c-e7012311a0ab",
   "metadata": {},
   "outputs": [],
   "source": [
    "matched_texts,train_data=match_strings_with_its_similars(train_data,col,test_data[col].unique().tolist())"
   ]
  },
  {
   "cell_type": "code",
   "execution_count": 68,
   "id": "c5162179-5266-4e21-92f0-3b3137c14d25",
   "metadata": {},
   "outputs": [],
   "source": [
    "# for i in matched_texts:\n",
    "#     if i[1][1]!=100:\n",
    "#         print(i)"
   ]
  },
  {
   "cell_type": "markdown",
   "id": "363801eb-4e1f-43f9-b98a-e8b3b16ef41e",
   "metadata": {},
   "source": [
    "#### Function: `call_replace_methods`\n",
    "\n",
    "This function orchestrates a series of string replacement operations on a specified column of a dataset. It integrates multiple replacement methods to standardize data entries.\n",
    "\n",
    "#### Parameters:\n",
    "- **data**: The dataset (e.g., DataFrame) that contains the column to be modified.\n",
    "- **col**: The name of the column in which string replacements will occur.\n",
    "- **different_pairs**: A list of tuples containing pairs of values for replacement where each tuple consists of an `old_value` (to be replaced) and a `new_value` (replacement).\n",
    "- **same_pairs**: A list of values that should remain unchanged or be standardized.\n",
    "\n",
    "#### Process:\n",
    "1. **Different Substring Replacement**: \n",
    "   - Calls `replace_string_with_different_substring` to replace specified `old_value` substrings with `new_value` in the column.\n",
    "   \n",
    "2. **Same Substring Replacement**:\n",
    "   - Calls `replace_string_with_same_substring` to replace specific substrings with identical values.\n",
    "   \n",
    "3. **Other Value Handling**:\n",
    "   - Calls `replace_string_with_other` to change any remaining values in the column that do not match the specified `same_pairs` to \"Diger,\".\n",
    "#### Returns:\n",
    "- The modified dataset after applying all replacement methods.\n"
   ]
  },
  {
   "cell_type": "code",
   "execution_count": 69,
   "id": "c2d50fd6-44da-4087-87ee-c4e3e77f702a",
   "metadata": {},
   "outputs": [],
   "source": [
    "col='Lise Adi'\n",
    "train_data[col]=train_data[col].str.title()\n",
    "test_data[col]=test_data[col].str.title()"
   ]
  },
  {
   "cell_type": "code",
   "execution_count": 70,
   "id": "de2780b3-fffc-4ccc-8168-e9eaed003e66",
   "metadata": {},
   "outputs": [],
   "source": [
    "train_data=map_other(train_data,col)\n",
    "test_data=map_other(test_data,col)"
   ]
  },
  {
   "cell_type": "code",
   "execution_count": 71,
   "id": "a637a69d-05d6-43e7-b847-90765ca2a127",
   "metadata": {},
   "outputs": [],
   "source": [
    "# different_pairs-> (old_value, new_value)\n",
    "different_pairs = [('Imam', 'İmam'), ('Açik', 'Açık')]\n",
    "same_pairs=[\"Anadolu\" ,\"Meslek\",\"Fen\",\"Temel\",\"Açık\",\"Kolej\",\"Asker\",\"İmam\",\"Sosyal\",\"Sanat\",\"Özel\",\"Kız\",\"Erkek\"]"
   ]
  },
  {
   "cell_type": "code",
   "execution_count": 72,
   "id": "8ce898b0-d36f-4184-97d5-e9403b901307",
   "metadata": {},
   "outputs": [],
   "source": [
    "train_data=call_replace_methods(train_data,col,different_pairs,same_pairs)\n",
    "test_data=call_replace_methods(test_data,col,different_pairs,same_pairs)"
   ]
  },
  {
   "cell_type": "code",
   "execution_count": 73,
   "id": "755e1d97-ce14-4c79-a2c0-7604cbe0e835",
   "metadata": {},
   "outputs": [],
   "source": [
    "col='Lise Sehir'\n",
    "train_data[col]=train_data[col].str.title()"
   ]
  },
  {
   "cell_type": "code",
   "execution_count": 74,
   "id": "3e77c0e1-5f7b-4b1a-b245-6f6d345776a9",
   "metadata": {},
   "outputs": [],
   "source": [
    "train_data=match_cities_in_train_data_with_test_data(train_data,test_data,col)       "
   ]
  },
  {
   "cell_type": "code",
   "execution_count": 75,
   "id": "36a1bb65-466a-45c7-a08b-c4e26ae65ad2",
   "metadata": {},
   "outputs": [],
   "source": [
    "col='Lise Bolumu'\n",
    "train_data[col]=train_data[col].str.title()\n",
    "test_data[col]=test_data[col].str.title()"
   ]
  },
  {
   "cell_type": "code",
   "execution_count": 76,
   "id": "180b4843-23a5-421d-967e-93c5ab9b07da",
   "metadata": {},
   "outputs": [],
   "source": [
    "# train_data[col].unique()"
   ]
  },
  {
   "cell_type": "code",
   "execution_count": 77,
   "id": "fef0edf8-eae9-4071-a2af-1daa7f524963",
   "metadata": {},
   "outputs": [],
   "source": [
    "train_data=map_other(train_data,col)\n",
    "test_data=map_other(test_data,col)"
   ]
  },
  {
   "cell_type": "markdown",
   "id": "69d980a8-28e5-4ec0-8995-984411c1171d",
   "metadata": {},
   "source": [
    "\n"
   ]
  },
  {
   "cell_type": "code",
   "execution_count": 78,
   "id": "f853f393-1f8c-4373-b55a-34f27f4bda9c",
   "metadata": {},
   "outputs": [],
   "source": [
    "train_data=replace_high_school_departments_with_correct_versions(train_data, col)"
   ]
  },
  {
   "cell_type": "code",
   "execution_count": 79,
   "id": "5475753e-32b6-4a1b-83c4-a52903c8f0fe",
   "metadata": {},
   "outputs": [],
   "source": [
    "matched_texts,train_data=match_strings_with_its_similars(train_data,col,test_data[col].unique().tolist())"
   ]
  },
  {
   "cell_type": "markdown",
   "id": "b95afcb6-6a4c-4fb8-992f-b2a7e2f7f323",
   "metadata": {},
   "source": [
    "### Dropping Columns with Excessive Missing Data\r\n",
    "\r\n",
    "The columns **`Burs Aldigi Baska Kurum`** (Other Institution Scholarship) and **`Baska Kurumdan Aldigi Burs Miktari`** (Amount of Scholarship from Other Institution) were removed from the dataset due to a high percentage of missing values. This decision was made to maintain data quality and streamline analysis.\r\n",
    "\r\n",
    "If these columns are later deemed essential for specific analyses, they can be reintroduced or considered in future data processing stages.\r\n"
   ]
  },
  {
   "cell_type": "code",
   "execution_count": 80,
   "id": "ee61a420-f788-48c0-ba0a-ab1251685d33",
   "metadata": {},
   "outputs": [],
   "source": [
    "train_dropped_columns=['Burs Aldigi Baska Kurum','Baska Kurumdan Aldigi Burs Miktari']\n",
    "train_data=train_data.drop(columns=train_dropped_columns)\n",
    "test_data=test_data.drop(columns=train_dropped_columns)"
   ]
  },
  {
   "cell_type": "markdown",
   "id": "903e4138-813d-44c8-80f1-74c1b306ade1",
   "metadata": {},
   "source": [
    "## Checking Categorical Columns Before Data Manipulation"
   ]
  },
  {
   "cell_type": "code",
   "execution_count": 81,
   "id": "3d73821b-4c65-49fd-974c-a989032b5c52",
   "metadata": {},
   "outputs": [],
   "source": [
    "# check_categorical_columns(train_data,test_data,column_with_less_than_10_categories)"
   ]
  },
  {
   "cell_type": "code",
   "execution_count": 82,
   "id": "61b1972b-e1d8-4043-94cd-bf9235bed70c",
   "metadata": {},
   "outputs": [],
   "source": [
    "# check_categorical_columns(train_data,test_data,column_with_more_than_10_and_less_than_35_categories)"
   ]
  },
  {
   "cell_type": "code",
   "execution_count": 83,
   "id": "404a0b5a-207b-49b9-9b85-7cf6a755c099",
   "metadata": {},
   "outputs": [],
   "source": [
    "    # for i in columns_with_more_than_35_categories:\n",
    "    #     print(i)    \n",
    "    #     print(len(train_data[i].unique()))\n",
    "    #     print(len(test_data[i].unique()))"
   ]
  },
  {
   "cell_type": "markdown",
   "id": "22725dbe-57ee-41fd-9e39-9fcd6596fde2",
   "metadata": {},
   "source": [
    "## Data Manipulation"
   ]
  },
  {
   "cell_type": "markdown",
   "id": "ff09d70a-7965-4c40-90a4-c78bfd876a80",
   "metadata": {},
   "source": [
    "### Imputation of Missing Values\r\n",
    "\r\n",
    "To handle missing values in our dataset, we used two main imputation strategies based on the nature of each column:\r\n",
    "\r\n",
    "1. **Mode-based Imputation**: For categorical columns and certain ordinal values, missing entries were filled with the **mode (most frequent value)** within each column. This method is useful for columns where the most common value likely represents a default or typical answer. Here are the columns where mode-based imputation was applied:\r\n",
    "   - `Universite Adi`\r\n",
    "   - `Baska Bir Kurumdan Burs Aliyor mu?`\r\n",
    "   - `Universite Turu`\r\n",
    "   - `Universite Kacinci Sinif`\r\n",
    "   - `Lise Turu`\r\n",
    "   - `Profesyonel Bir Spor Daliyla Mesgul musunuz?`\r\n",
    "   - `Kardes Sayisi`\r\n",
    "   - `Girisimcilik Kulupleri Tarzi Bir Kulube Uye misiniz?`\r\n",
    "   - `Lise Mezuniyet Notu`\r\n",
    "   - `Universite Not Ortalamasi`\r\n",
    "   - `Anne Calisma Durumu`\r\n",
    "   - `Baba Calisma Durumu`\r\n",
    "   - `Girisimcilikle Ilgili Deneyiminiz Var Mi?`\r\n",
    "   - `Aktif olarak bir STK üyesi misiniz?`\r\n",
    "\r\n",
    "2. **Custom Value Imputation**: For columns where a specific value would best represent missing information, custom values were used. For example, `Cinsiyet` (Gender) is filled with \"Belirtmek istemiyorum\" (\"Prefer not to say\"), and `Lise Bolumu` (High School Department) is filled with \"Diger\" (\"Other\"). Here are the columns and their corresponding custom values:\r\n",
    "   - `Cinsiyet` : \"Belirtmek istemiyorum\"\r\n",
    "   - `Bölüm` : \"Diger\"\r\n",
    "   - `Anne Egitim Durumu` : 0\r\n",
    "   - `Dogum Yeri` : \"Diger\"\r\n",
    "   - `Baba Egitim Durumu` : 0\r\n",
    "   - `Lise Bolumu` : \"Diger\"\r\n",
    "   - `Lise Sehir` : \"Diger\"\r\n",
    "   - `Ikametgah Sehri` : \"Diger\"\r\n",
    "   - `Baba Sektor` : \"-\"\r\n",
    "   - `Spor Dalindaki Rolunuz Nedir?` : \"-\"\r\n",
    "   - `Anne Sektor` : \"-\"\r\n",
    "\r\n",
    "3. **Mode Imputation and Threshold Adjustment for `Yas` (Age)**: Missing values in the `Yas` column were imputed using the mode, and any ages greater than 50 (considered outliers) were replaced with the mode. This approach ensures the data remains within a realistic range for analysis.\r\n",
    "\r\n",
    "Using these imputation techniques helps maintain data consistency and provides more accurate results in subsequent analyses or modeling.\r\n"
   ]
  },
  {
   "cell_type": "code",
   "execution_count": 84,
   "id": "f33c6aaf-5471-4bf5-8436-3198617601c7",
   "metadata": {},
   "outputs": [],
   "source": [
    "mode_fill_columns = [\n",
    "    'Universite Adi', 'Baska Bir Kurumdan Burs Aliyor mu?', 'Universite Turu', \n",
    "    'Universite Kacinci Sinif', 'Lise Turu', 'Profesyonel Bir Spor Daliyla Mesgul musunuz?', \n",
    "    'Kardes Sayisi', 'Girisimcilik Kulupleri Tarzi Bir Kulube Uye misiniz?', \n",
    "    'Lise Mezuniyet Notu', 'Universite Not Ortalamasi', 'Anne Calisma Durumu', \n",
    "    'Baba Calisma Durumu', 'Girisimcilikle Ilgili Deneyiminiz Var Mi?','Ingilizce Biliyor musunuz?' ,\n",
    "    'Aktif olarak bir STK üyesi misiniz?']\n",
    "\n",
    "for col in mode_fill_columns:\n",
    "    train_data[col] = train_data[col].fillna(train_data[col].mode()[0])\n"
   ]
  },
  {
   "cell_type": "code",
   "execution_count": 85,
   "id": "861e327d-9e25-400e-bee1-a064e0e8f99d",
   "metadata": {},
   "outputs": [],
   "source": [
    "custom_fill_values = {\n",
    "    'Cinsiyet': 'Belirtmek Istemiyorum',\n",
    "    'Bölüm': 'Diger',\n",
    "    'Anne Egitim Durumu': 0,\n",
    "    'Dogum Yeri': 'Diger',\n",
    "    'Baba Egitim Durumu': 0,\n",
    "    'Lise Bolumu': 'Diger',\n",
    "    'Lise Sehir': 'Diger',\n",
    "    'Ikametgah Sehri': 'Diger',\n",
    "    'Baba Sektor': '-',\n",
    "    'Spor Dalindaki Rolunuz Nedir?': '-',\n",
    "    'Anne Sektor': '-'}\n",
    "\n",
    "for col, value in custom_fill_values.items():\n",
    "    train_data[col] = train_data[col].fillna(value)\n",
    "\n",
    "# Mode imputation for 'Yas'\n",
    "yas_mode = train_data['Yas'].mode()[0]\n",
    "train_data['Yas'] = train_data['Yas'].fillna(yas_mode)\n",
    "train_data.loc[train_data['Yas'] > 50, 'Yas'] = yas_mode"
   ]
  },
  {
   "cell_type": "code",
   "execution_count": 86,
   "id": "ab7c9da7-5f36-40e8-8ec3-67ed1073dbbf",
   "metadata": {},
   "outputs": [],
   "source": [
    "col=\"Universite Not Ortalamasi\"\n",
    "test_data[col] = test_data[col].fillna(test_data[col].mode()[0])\n",
    "\n",
    "yas_mode = test_data['Yas'].mode()[0]\n",
    "test_data['Yas'] = test_data['Yas'].fillna(yas_mode)\n",
    "test_data.loc[test_data['Yas'] > 50, 'Yas'] = yas_mode"
   ]
  },
  {
   "cell_type": "code",
   "execution_count": 87,
   "id": "7f9d0a93-9713-4fe3-b03f-267d3da7401d",
   "metadata": {},
   "outputs": [],
   "source": [
    "#train_data.isnull().sum().sort_values(ascending=True)"
   ]
  },
  {
   "cell_type": "code",
   "execution_count": 88,
   "id": "1f914029-3781-43d7-b63d-fb25ba444b33",
   "metadata": {},
   "outputs": [],
   "source": [
    "# test_data.isnull().sum().sort_values(ascending=True)"
   ]
  },
  {
   "cell_type": "markdown",
   "id": "2da2180c-058b-4973-a1a4-c761fd7088af",
   "metadata": {},
   "source": [
    "## Encoding Data"
   ]
  },
  {
   "cell_type": "code",
   "execution_count": 89,
   "id": "da061fb2-134d-4631-8bdb-81ef50b43e40",
   "metadata": {},
   "outputs": [],
   "source": [
    "cat_cols_after_manipulation=train_data.select_dtypes('object').columns.tolist()"
   ]
  },
  {
   "cell_type": "code",
   "execution_count": 90,
   "id": "2e333552-378e-420b-b9cf-968341d02988",
   "metadata": {},
   "outputs": [],
   "source": [
    "num_cols_after_manipulation=train_data.select_dtypes(np.number).columns.tolist()"
   ]
  },
  {
   "cell_type": "code",
   "execution_count": 91,
   "id": "48047b7a-a94e-4848-b2d0-e85bb6c1fb93",
   "metadata": {},
   "outputs": [
    {
     "data": {
      "text/plain": [
       "['Basvuru Yili',\n",
       " 'Degerlendirme Puani',\n",
       " 'Universite Kacinci Sinif',\n",
       " 'Universite Not Ortalamasi',\n",
       " 'Lise Mezuniyet Notu',\n",
       " 'Anne Egitim Durumu',\n",
       " 'Baba Egitim Durumu',\n",
       " 'Kardes Sayisi',\n",
       " 'Yas']"
      ]
     },
     "execution_count": 91,
     "metadata": {},
     "output_type": "execute_result"
    }
   ],
   "source": [
    "num_cols_after_manipulation"
   ]
  },
  {
   "cell_type": "markdown",
   "id": "d4b637d3-d53a-4379-b8ef-e0f3ec886949",
   "metadata": {},
   "source": [
    "### Encoding Strategy for Categorical Variables\n",
    "\n",
    "To prepare the dataset for machine learning, we use different encoding methods based on the nature and uniqueness of the categorical variables. This approach ensures the features are compatible with the model and that the encoding choice aligns with the specific characteristics of each variable. Below is a breakdown of the encoding strategies applied:\n",
    "\n",
    "1. **One-Hot Encoding**  \n",
    "   Columns with a limited number of distinct categories, such as gender or specific roles, benefit from one-hot encoding, which creates binary columns for each unique value. This is ideal for nominal categories without inherent order. The following columns are one-hot encoded:\n",
    "   \n",
    "   - `Cinsiyet`\n",
    "   - `Lise Bolumu`\n",
    "   - `Anne Sektor`\n",
    "   - `Baba Sektor`\n",
    "   - `Spor Dalindaki Rolunuz Nedir?`\n",
    "\n",
    "2. **Label Encoding**  \n",
    "   Ordinal categories or those with a small number of distinct values are label encoded. This method assigns an integer to each category, conserving dimensionality for features with a potential hierarchy or small unique set. Label encoding is applied to:\n",
    "\n",
    "   - `Universite Turu`\n",
    "   - `Burs Aliyor mu?`\n",
    "   - `Lise Turu`\n",
    "   - `Baska Bir Kurumdan Burs Aliyor mu?`\n",
    "   - `Girisimcilik Kulupleri Tarzi Bir Kulube Uye misiniz?`\n",
    "   - `Profesyonel Bir Spor Daliyla Mesgul musunuz?`\n",
    "   - `Aktif olarak bir STK üyesi misiniz?`\n",
    "   - `Girisimcilikle Ilgili Deneyiminiz Var Mi?`\n",
    "   - `Anne Calisma Durumu`\n",
    "   - `Baba Calisma Durumu`\n",
    "   - `Ingilizce Biliyor musunuz?`\n",
    "\n",
    "3. **Target Encoding**  \n",
    "   High-cardinality categorical variables, such as location or university names, are target encoded. This technique assigns a numerical value based on the target variable's mean for each category, which helps avoid the high-dimensionality issue associated with one-hot encoding. Target encoding is used for:\n",
    "\n",
    "   - `Dogum Yeri`\n",
    "   - `Ikametgah Sehri`\n",
    "   - `Universite Adi`\n",
    "   - `Bölüm`\n",
    "   - `Lise Adi`\n",
    "   - `Lise Sehir`\n",
    "\n",
    "By using this tailored approach, the model can leverage each feature effectively while minimizing the risk of dimensionality issues and overfitting.\n"
   ]
  },
  {
   "cell_type": "code",
   "execution_count": 92,
   "id": "a04090ca-bd4f-4213-8e64-8511e4370d3b",
   "metadata": {},
   "outputs": [],
   "source": [
    "one_hot_encoding_columns=[\"Cinsiyet\",\"Lise Bolumu\",\"Anne Sektor\",\"Baba Sektor\",\"Spor Dalindaki Rolunuz Nedir?\"]\n",
    "\n",
    "label_encoding_columns=[\"Universite Turu\",\"Burs Aliyor mu?\",\"Lise Turu\",\n",
    "                        \"Baska Bir Kurumdan Burs Aliyor mu?\",\"Girisimcilik Kulupleri Tarzi Bir Kulube Uye misiniz?\",\n",
    "                       \"Profesyonel Bir Spor Daliyla Mesgul musunuz?\",\"Aktif olarak bir STK üyesi misiniz?\",\"Girisimcilikle Ilgili Deneyiminiz Var Mi?\",                        \n",
    "                       \"Anne Calisma Durumu\",\"Baba Calisma Durumu\",\"Girisimcilikle Ilgili Deneyiminiz Var Mi?\" ,'Ingilizce Biliyor musunuz?'          ]\n",
    "\n",
    "target_encoding_columns=[\"Dogum Yeri\",\"Ikametgah Sehri\",\"Universite Adi\",\"Bölüm\",\n",
    "       \"Lise Adi\",\"Lise Sehir\"]"
   ]
  },
  {
   "cell_type": "code",
   "execution_count": 93,
   "id": "50cadee5-8e87-44df-be0b-2b29604b7e3f",
   "metadata": {},
   "outputs": [],
   "source": [
    "train_data = pd.get_dummies(train_data, columns=one_hot_encoding_columns)\n",
    "test_data = pd.get_dummies(test_data, columns=one_hot_encoding_columns)\n"
   ]
  },
  {
   "cell_type": "code",
   "execution_count": 94,
   "id": "7142a049-5768-4852-9716-a0e8bd6fed1f",
   "metadata": {},
   "outputs": [],
   "source": [
    "label_encoder =preprocessing.LabelEncoder() \n",
    "  \n",
    "for column in label_encoding_columns:\n",
    "    train_data[column] = label_encoder.fit_transform(train_data[column])\n",
    "    test_data[column] = label_encoder.fit_transform(test_data[column])"
   ]
  },
  {
   "cell_type": "code",
   "execution_count": 95,
   "id": "356c2386-1a8f-4c64-a422-609fedf94e57",
   "metadata": {},
   "outputs": [],
   "source": [
    "\n",
    "# Initialize the target encoder\n",
    "encoder = TargetEncoder(cols=target_encoding_columns)\n",
    "\n",
    "# Fit the encoder on the training data\n",
    "train_data[target_encoding_columns] = encoder.fit_transform(train_data[target_encoding_columns], train_data['Degerlendirme Puani'])\n",
    "\n",
    "# Transform the test data without fitting again (using the same mapping as training)\n",
    "test_data[target_encoding_columns] = encoder.transform(test_data[target_encoding_columns])\n"
   ]
  },
  {
   "cell_type": "code",
   "execution_count": 96,
   "id": "9568c0f8-8772-4b28-bb44-2c11749dd29c",
   "metadata": {},
   "outputs": [
    {
     "data": {
      "text/plain": [
       "{'Degerlendirme Puani', 'Lise Bolumu_Diger'}"
      ]
     },
     "execution_count": 96,
     "metadata": {},
     "output_type": "execute_result"
    }
   ],
   "source": [
    "missing_in_test = set(train_data.columns) - set(test_data.columns)\n",
    "missing_in_test"
   ]
  },
  {
   "cell_type": "markdown",
   "id": "a6e2cf74-ae5d-44f4-9bc4-400410876bb2",
   "metadata": {},
   "source": [
    "#### Handling the \"Diger\" Category in the `Lise Bolumu` Column\n",
    "\n",
    "During model training and prediction, an issue was observed: rows labeled as **\"Diger\"** in the training set but absent in the test set caused errors when performing one-hot encoding, as this category was not represented in the test data.\n",
    "\n",
    "To resolve this, rows with \"Diger\" in the `Lise Bolumu` column will be removed from the training data. This step eliminates the discrepancy, ensuring smooth one-hot encoding and more reliable predictions."
   ]
  },
  {
   "cell_type": "code",
   "execution_count": 97,
   "id": "37ec5127-6240-4622-8cd8-aabe09f26e59",
   "metadata": {},
   "outputs": [],
   "source": [
    "train_data=train_data.drop(columns=[\"Lise Bolumu_Diger\"])"
   ]
  },
  {
   "cell_type": "markdown",
   "id": "83e8df24-ca1e-46f3-ab78-4c938af8d1a9",
   "metadata": {},
   "source": [
    "## Splitting Data"
   ]
  },
  {
   "cell_type": "code",
   "execution_count": 98,
   "id": "09d6ce38-82a3-4762-a41b-9a704cc04765",
   "metadata": {},
   "outputs": [],
   "source": [
    "X = train_data.drop(['Degerlendirme Puani'], axis=1)  # Features\n",
    "y = train_data['Degerlendirme Puani']  # Target"
   ]
  },
  {
   "cell_type": "code",
   "execution_count": 99,
   "id": "b193aeeb-9494-4254-8645-8d850b8c2103",
   "metadata": {},
   "outputs": [
    {
     "name": "stdout",
     "output_type": "stream",
     "text": [
      "TRAIN: [    0     1     2 ... 65121 65122 65123] TEST: [   39    52    54 ... 65090 65103 65111]\n",
      "TRAIN: [    0     1     2 ... 65121 65122 65123] TEST: [    4     6     7 ... 65086 65094 65115]\n",
      "TRAIN: [    0     1     2 ... 65121 65122 65123] TEST: [   31    38    49 ... 65081 65088 65106]\n",
      "TRAIN: [    0     2     4 ... 65121 65122 65123] TEST: [    1     3    11 ... 65082 65105 65108]\n",
      "TRAIN: [    1     2     3 ... 65121 65122 65123] TEST: [    0    17    25 ... 65107 65113 65118]\n",
      "TRAIN: [    0     1     2 ... 65119 65120 65123] TEST: [    8    14    29 ... 65110 65121 65122]\n",
      "TRAIN: [    0     1     2 ... 65120 65121 65122] TEST: [   18    19    24 ... 65104 65112 65123]\n",
      "TRAIN: [    0     1     2 ... 65121 65122 65123] TEST: [    5    15    20 ... 65116 65117 65119]\n",
      "TRAIN: [    0     1     3 ... 65121 65122 65123] TEST: [    2    10    12 ... 65067 65091 65101]\n",
      "TRAIN: [    0     1     2 ... 65121 65122 65123] TEST: [    9    55    60 ... 65092 65093 65120]\n"
     ]
    }
   ],
   "source": [
    "kf =KFold(n_splits=10, shuffle=True, random_state=42)\n",
    "\n",
    "for train_index, test_index in kf.split(X):\n",
    "    print(\"TRAIN:\", train_index, \"TEST:\", test_index)\n",
    "    X_train, X_val = X.iloc[train_index], X.iloc[test_index]\n",
    "    y_train, y_val = y.iloc[train_index], y.iloc[test_index]"
   ]
  },
  {
   "cell_type": "code",
   "execution_count": 100,
   "id": "8d78e2be-8d5c-45cd-8514-a98fe1b8159b",
   "metadata": {},
   "outputs": [],
   "source": [
    "# Initialize variables to track the best model\n",
    "best_model = None\n",
    "best_rmse = float('inf')\n",
    "\n",
    "# Initialize the submission DataFrame with 'id' column\n",
    "submission_df = pd.DataFrame()\n",
    "submission_df['id'] = test_data.index  # 'id' column is created from the test data index\n"
   ]
  },
  {
   "cell_type": "markdown",
   "id": "8b1b9b2c-503e-464b-bbe2-108f6e32f582",
   "metadata": {},
   "source": [
    "## Defining Models"
   ]
  },
  {
   "cell_type": "code",
   "execution_count": 101,
   "id": "db9e9798-c5cb-4e6e-a4dc-d99dbe802cd2",
   "metadata": {},
   "outputs": [],
   "source": [
    "# Define your models\n",
    "models = {\n",
    "    'Linear Regression': LinearRegression(),\n",
    "    'Ridge Regression': Ridge(),\n",
    "    'Lasso Regression': Lasso(),\n",
    "    'Elastic Net': ElasticNet(),\n",
    "    'Bayesian Ridge': BayesianRidge(),\n",
    "    'Least Angle Regression': Lars(),\n",
    "    'Lasso Least Angle Regression': LassoLars(),\n",
    "    'Gradient Boosting Regressor': GradientBoostingRegressor(),\n",
    "    'Random Forest Regressor': RandomForestRegressor(),\n",
    "    'Extra Trees Regressor': ExtraTreesRegressor(),\n",
    "    'AdaBoost Regressor': AdaBoostRegressor(),\n",
    "    'Decision Tree Regressor': DecisionTreeRegressor(),\n",
    "    'K Neighbors Regressor': KNeighborsRegressor(),\n",
    "    'Huber Regressor': HuberRegressor(),\n",
    "    'Orthogonal Matching Pursuit': OrthogonalMatchingPursuit(),\n",
    "    'Dummy Regressor': DummyRegressor(strategy='mean'),\n",
    "    'Extreme Gradient Boosting': xgb.XGBRegressor(),\n",
    "    'Light Gradient Boosting Machine': lgb.LGBMRegressor(),\n",
    "    'CatBoost Regressor': CatBoostRegressor(learning_rate=0.1, depth=6, iterations=500, verbose=0),\n",
    "    'Hist Gradient Boosting Regressor': HistGradientBoostingRegressor()\n",
    "}"
   ]
  },
  {
   "cell_type": "markdown",
   "id": "7ae38e43-0c23-4d8d-a90d-8e8303cdad3c",
   "metadata": {},
   "source": [
    "## Evaluating Models"
   ]
  },
  {
   "cell_type": "code",
   "execution_count": 102,
   "id": "4ebdc79c-551c-49e1-98ad-e4b6dc909da6",
   "metadata": {},
   "outputs": [
    {
     "name": "stdout",
     "output_type": "stream",
     "text": [
      "Training Linear Regression...\n",
      "Linear Regression RMSE: 10.394751748754128\n",
      "Training Ridge Regression...\n",
      "Ridge Regression RMSE: 10.394732970119827\n",
      "Training Lasso Regression...\n"
     ]
    },
    {
     "name": "stderr",
     "output_type": "stream",
     "text": [
      "C:\\Users\\Naz\\anaconda3\\Lib\\site-packages\\sklearn\\metrics\\_regression.py:483: FutureWarning: 'squared' is deprecated in version 1.4 and will be removed in 1.6. To calculate the root mean squared error, use the function'root_mean_squared_error'.\n",
      "  warnings.warn(\n",
      "C:\\Users\\Naz\\anaconda3\\Lib\\site-packages\\sklearn\\metrics\\_regression.py:483: FutureWarning: 'squared' is deprecated in version 1.4 and will be removed in 1.6. To calculate the root mean squared error, use the function'root_mean_squared_error'.\n",
      "  warnings.warn(\n",
      "C:\\Users\\Naz\\anaconda3\\Lib\\site-packages\\sklearn\\metrics\\_regression.py:483: FutureWarning: 'squared' is deprecated in version 1.4 and will be removed in 1.6. To calculate the root mean squared error, use the function'root_mean_squared_error'.\n",
      "  warnings.warn(\n",
      "C:\\Users\\Naz\\anaconda3\\Lib\\site-packages\\sklearn\\metrics\\_regression.py:483: FutureWarning: 'squared' is deprecated in version 1.4 and will be removed in 1.6. To calculate the root mean squared error, use the function'root_mean_squared_error'.\n",
      "  warnings.warn(\n"
     ]
    },
    {
     "name": "stdout",
     "output_type": "stream",
     "text": [
      "Lasso Regression RMSE: 11.61476415741893\n",
      "Training Elastic Net...\n",
      "Elastic Net RMSE: 13.482215481841212\n",
      "Training Bayesian Ridge...\n"
     ]
    },
    {
     "name": "stderr",
     "output_type": "stream",
     "text": [
      "C:\\Users\\Naz\\anaconda3\\Lib\\site-packages\\sklearn\\metrics\\_regression.py:483: FutureWarning: 'squared' is deprecated in version 1.4 and will be removed in 1.6. To calculate the root mean squared error, use the function'root_mean_squared_error'.\n",
      "  warnings.warn(\n",
      "C:\\Users\\Naz\\anaconda3\\Lib\\site-packages\\sklearn\\metrics\\_regression.py:483: FutureWarning: 'squared' is deprecated in version 1.4 and will be removed in 1.6. To calculate the root mean squared error, use the function'root_mean_squared_error'.\n",
      "  warnings.warn(\n",
      "C:\\Users\\Naz\\anaconda3\\Lib\\site-packages\\sklearn\\metrics\\_regression.py:483: FutureWarning: 'squared' is deprecated in version 1.4 and will be removed in 1.6. To calculate the root mean squared error, use the function'root_mean_squared_error'.\n",
      "  warnings.warn(\n"
     ]
    },
    {
     "name": "stdout",
     "output_type": "stream",
     "text": [
      "Bayesian Ridge RMSE: 10.394631700272756\n",
      "Training Least Angle Regression...\n",
      "Least Angle Regression RMSE: 12.099313754372309\n",
      "Training Lasso Least Angle Regression...\n",
      "Lasso Least Angle Regression RMSE: 11.614922600014665\n",
      "Training Gradient Boosting Regressor...\n"
     ]
    },
    {
     "name": "stderr",
     "output_type": "stream",
     "text": [
      "C:\\Users\\Naz\\anaconda3\\Lib\\site-packages\\sklearn\\metrics\\_regression.py:483: FutureWarning: 'squared' is deprecated in version 1.4 and will be removed in 1.6. To calculate the root mean squared error, use the function'root_mean_squared_error'.\n",
      "  warnings.warn(\n"
     ]
    },
    {
     "name": "stdout",
     "output_type": "stream",
     "text": [
      "Gradient Boosting Regressor RMSE: 7.148397912497706\n",
      "Training Random Forest Regressor...\n"
     ]
    },
    {
     "name": "stderr",
     "output_type": "stream",
     "text": [
      "C:\\Users\\Naz\\anaconda3\\Lib\\site-packages\\sklearn\\metrics\\_regression.py:483: FutureWarning: 'squared' is deprecated in version 1.4 and will be removed in 1.6. To calculate the root mean squared error, use the function'root_mean_squared_error'.\n",
      "  warnings.warn(\n"
     ]
    },
    {
     "name": "stdout",
     "output_type": "stream",
     "text": [
      "Random Forest Regressor RMSE: 6.761071528456804\n",
      "Training Extra Trees Regressor...\n"
     ]
    },
    {
     "name": "stderr",
     "output_type": "stream",
     "text": [
      "C:\\Users\\Naz\\anaconda3\\Lib\\site-packages\\sklearn\\metrics\\_regression.py:483: FutureWarning: 'squared' is deprecated in version 1.4 and will be removed in 1.6. To calculate the root mean squared error, use the function'root_mean_squared_error'.\n",
      "  warnings.warn(\n"
     ]
    },
    {
     "name": "stdout",
     "output_type": "stream",
     "text": [
      "Extra Trees Regressor RMSE: 6.915150007322437\n",
      "Training AdaBoost Regressor...\n"
     ]
    },
    {
     "name": "stderr",
     "output_type": "stream",
     "text": [
      "C:\\Users\\Naz\\anaconda3\\Lib\\site-packages\\sklearn\\metrics\\_regression.py:483: FutureWarning: 'squared' is deprecated in version 1.4 and will be removed in 1.6. To calculate the root mean squared error, use the function'root_mean_squared_error'.\n",
      "  warnings.warn(\n"
     ]
    },
    {
     "name": "stdout",
     "output_type": "stream",
     "text": [
      "AdaBoost Regressor RMSE: 10.701951245730047\n",
      "Training Decision Tree Regressor...\n"
     ]
    },
    {
     "name": "stderr",
     "output_type": "stream",
     "text": [
      "C:\\Users\\Naz\\anaconda3\\Lib\\site-packages\\sklearn\\metrics\\_regression.py:483: FutureWarning: 'squared' is deprecated in version 1.4 and will be removed in 1.6. To calculate the root mean squared error, use the function'root_mean_squared_error'.\n",
      "  warnings.warn(\n"
     ]
    },
    {
     "name": "stdout",
     "output_type": "stream",
     "text": [
      "Decision Tree Regressor RMSE: 9.558336341215119\n",
      "Training K Neighbors Regressor...\n"
     ]
    },
    {
     "name": "stderr",
     "output_type": "stream",
     "text": [
      "C:\\Users\\Naz\\anaconda3\\Lib\\site-packages\\sklearn\\metrics\\_regression.py:483: FutureWarning: 'squared' is deprecated in version 1.4 and will be removed in 1.6. To calculate the root mean squared error, use the function'root_mean_squared_error'.\n",
      "  warnings.warn(\n"
     ]
    },
    {
     "name": "stdout",
     "output_type": "stream",
     "text": [
      "K Neighbors Regressor RMSE: 14.531530363071699\n",
      "Training Huber Regressor...\n"
     ]
    },
    {
     "name": "stderr",
     "output_type": "stream",
     "text": [
      "C:\\Users\\Naz\\anaconda3\\Lib\\site-packages\\sklearn\\linear_model\\_huber.py:342: ConvergenceWarning: lbfgs failed to converge (status=1):\n",
      "STOP: TOTAL NO. of ITERATIONS REACHED LIMIT.\n",
      "\n",
      "Increase the number of iterations (max_iter) or scale the data as shown in:\n",
      "    https://scikit-learn.org/stable/modules/preprocessing.html\n",
      "  self.n_iter_ = _check_optimize_result(\"lbfgs\", opt_res, self.max_iter)\n",
      "C:\\Users\\Naz\\anaconda3\\Lib\\site-packages\\sklearn\\metrics\\_regression.py:483: FutureWarning: 'squared' is deprecated in version 1.4 and will be removed in 1.6. To calculate the root mean squared error, use the function'root_mean_squared_error'.\n",
      "  warnings.warn(\n",
      "C:\\Users\\Naz\\anaconda3\\Lib\\site-packages\\sklearn\\metrics\\_regression.py:483: FutureWarning: 'squared' is deprecated in version 1.4 and will be removed in 1.6. To calculate the root mean squared error, use the function'root_mean_squared_error'.\n",
      "  warnings.warn(\n",
      "C:\\Users\\Naz\\anaconda3\\Lib\\site-packages\\sklearn\\metrics\\_regression.py:483: FutureWarning: 'squared' is deprecated in version 1.4 and will be removed in 1.6. To calculate the root mean squared error, use the function'root_mean_squared_error'.\n",
      "  warnings.warn(\n"
     ]
    },
    {
     "name": "stdout",
     "output_type": "stream",
     "text": [
      "Huber Regressor RMSE: 11.52600583407114\n",
      "Training Orthogonal Matching Pursuit...\n",
      "Orthogonal Matching Pursuit RMSE: 13.984000451065445\n",
      "Training Dummy Regressor...\n",
      "Dummy Regressor RMSE: 18.20466681598533\n",
      "Training Extreme Gradient Boosting...\n"
     ]
    },
    {
     "name": "stderr",
     "output_type": "stream",
     "text": [
      "C:\\Users\\Naz\\anaconda3\\Lib\\site-packages\\sklearn\\metrics\\_regression.py:483: FutureWarning: 'squared' is deprecated in version 1.4 and will be removed in 1.6. To calculate the root mean squared error, use the function'root_mean_squared_error'.\n",
      "  warnings.warn(\n"
     ]
    },
    {
     "name": "stdout",
     "output_type": "stream",
     "text": [
      "Extreme Gradient Boosting RMSE: 6.641638610418221\n",
      "Training Light Gradient Boosting Machine...\n",
      "[LightGBM] [Warning] Found whitespace in feature_names, replace with underlines\n",
      "[LightGBM] [Info] Auto-choosing row-wise multi-threading, the overhead of testing was 0.006286 seconds.\n",
      "You can set `force_row_wise=true` to remove the overhead.\n",
      "And if memory is not enough, you can set `force_col_wise=true`.\n",
      "[LightGBM] [Info] Total Bins 816\n",
      "[LightGBM] [Info] Number of data points in the train set: 58612, number of used features: 45\n",
      "[LightGBM] [Info] Start training from score 32.079915\n"
     ]
    },
    {
     "name": "stderr",
     "output_type": "stream",
     "text": [
      "C:\\Users\\Naz\\anaconda3\\Lib\\site-packages\\sklearn\\metrics\\_regression.py:483: FutureWarning: 'squared' is deprecated in version 1.4 and will be removed in 1.6. To calculate the root mean squared error, use the function'root_mean_squared_error'.\n",
      "  warnings.warn(\n"
     ]
    },
    {
     "name": "stdout",
     "output_type": "stream",
     "text": [
      "Light Gradient Boosting Machine RMSE: 6.5989291224895394\n",
      "Training CatBoost Regressor...\n"
     ]
    },
    {
     "name": "stderr",
     "output_type": "stream",
     "text": [
      "C:\\Users\\Naz\\anaconda3\\Lib\\site-packages\\sklearn\\metrics\\_regression.py:483: FutureWarning: 'squared' is deprecated in version 1.4 and will be removed in 1.6. To calculate the root mean squared error, use the function'root_mean_squared_error'.\n",
      "  warnings.warn(\n"
     ]
    },
    {
     "name": "stdout",
     "output_type": "stream",
     "text": [
      "CatBoost Regressor RMSE: 6.4887658655013984\n",
      "Training Hist Gradient Boosting Regressor...\n",
      "Hist Gradient Boosting Regressor RMSE: 6.588976579689285\n"
     ]
    },
    {
     "name": "stderr",
     "output_type": "stream",
     "text": [
      "C:\\Users\\Naz\\anaconda3\\Lib\\site-packages\\sklearn\\metrics\\_regression.py:483: FutureWarning: 'squared' is deprecated in version 1.4 and will be removed in 1.6. To calculate the root mean squared error, use the function'root_mean_squared_error'.\n",
      "  warnings.warn(\n"
     ]
    }
   ],
   "source": [
    "# Iterate over models\n",
    "for model_name, model in models.items():\n",
    "    print(f\"Training {model_name}...\")\n",
    "    model.fit(X_train, y_train)\n",
    "    \n",
    "    # Predict on validation set\n",
    "    val_predictions = model.predict(X_val)\n",
    "    val_rmse = mean_squared_error(y_val, val_predictions, squared=False)\n",
    "    print(f\"{model_name} RMSE: {val_rmse}\")\n",
    "    \n",
    "    # Track the best model\n",
    "    if val_rmse < best_rmse:\n",
    "        best_rmse = val_rmse\n",
    "        best_model = model"
   ]
  },
  {
   "cell_type": "code",
   "execution_count": 103,
   "id": "827043ea-7088-4378-8b9d-a6856b00238e",
   "metadata": {},
   "outputs": [
    {
     "data": {
      "text/plain": [
       "<catboost.core.CatBoostRegressor at 0x2250cf1e900>"
      ]
     },
     "execution_count": 103,
     "metadata": {},
     "output_type": "execute_result"
    }
   ],
   "source": [
    "best_model"
   ]
  },
  {
   "cell_type": "markdown",
   "id": "d04a311f-e1f2-418c-852a-7c3bd69ff5e2",
   "metadata": {},
   "source": [
    "## Predicting Test Data"
   ]
  },
  {
   "cell_type": "code",
   "execution_count": 104,
   "id": "c0e3186f-c527-433a-ba6e-817e2a33f182",
   "metadata": {},
   "outputs": [
    {
     "name": "stdout",
     "output_type": "stream",
     "text": [
      "Submission file created in the correct format.\n"
     ]
    }
   ],
   "source": [
    "# Predict on test data using the best model\n",
    "test_predictions = best_model.predict(test_data)\n",
    "\n",
    "# Add predictions to submission DataFrame\n",
    "submission_df['Degerlendirme Puani'] = test_predictions\n",
    "\n",
    "# Save to CSV with the required format\n",
    "submission_df[['id', 'Degerlendirme Puani']].to_csv('submission_predictions.csv', index=False)\n",
    "\n",
    "print(\"Submission file created in the correct format.\")"
   ]
  },
  {
   "cell_type": "code",
   "execution_count": null,
   "id": "27db5b7e-9fa8-4328-9151-7fa9e2bc5d49",
   "metadata": {},
   "outputs": [],
   "source": []
  }
 ],
 "metadata": {
  "kernelspec": {
   "display_name": "Python 3 (ipykernel)",
   "language": "python",
   "name": "python3"
  },
  "language_info": {
   "codemirror_mode": {
    "name": "ipython",
    "version": 3
   },
   "file_extension": ".py",
   "mimetype": "text/x-python",
   "name": "python",
   "nbconvert_exporter": "python",
   "pygments_lexer": "ipython3",
   "version": "3.12.4"
  }
 },
 "nbformat": 4,
 "nbformat_minor": 5
}
