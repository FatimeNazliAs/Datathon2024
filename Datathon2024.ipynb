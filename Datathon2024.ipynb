{
 "cells": [
  {
   "cell_type": "markdown",
   "id": "13845dd0-4825-4acd-a198-caa2161f07f4",
   "metadata": {
    "jp-MarkdownHeadingCollapsed": true
   },
   "source": [
    "# Importing Libraries and Data"
   ]
  },
  {
   "cell_type": "code",
   "execution_count": 173,
   "id": "3f9c17c2-6b30-4720-8105-21e2e7d0e5b3",
   "metadata": {},
   "outputs": [],
   "source": [
    "import pandas as pd\n",
    "import numpy as np\n",
    "import matplotlib.pyplot as plt\n",
    "import seaborn as sns\n",
    "from sklearn.model_selection import train_test_split\n",
    "import re\n",
    "\n",
    "from sklearn.linear_model import LinearRegression, Ridge, Lasso, ElasticNet, BayesianRidge, Lars, LassoLars\n",
    "from sklearn.ensemble import GradientBoostingRegressor, RandomForestRegressor, ExtraTreesRegressor, AdaBoostRegressor\n",
    "from sklearn.tree import DecisionTreeRegressor\n",
    "from sklearn.neighbors import KNeighborsRegressor\n",
    "from sklearn.linear_model import HuberRegressor\n",
    "from sklearn.linear_model import OrthogonalMatchingPursuit\n",
    "from sklearn.dummy import DummyRegressor\n",
    "import xgboost as xgb\n",
    "import lightgbm as lgb\n",
    "\n",
    "from catboost import CatBoostRegressor\n",
    "from sklearn.experimental import enable_hist_gradient_boosting\n",
    "from sklearn.ensemble import HistGradientBoostingRegressor\n",
    "from sklearn.metrics import mean_squared_error \n",
    "from sklearn.metrics import mean_squared_error as root_mean_squared_error\n",
    "%run datathon_methods.ipynb"
   ]
  },
  {
   "cell_type": "code",
   "execution_count": 2,
   "id": "e8901050-b072-43f1-8f20-0857fcd5400f",
   "metadata": {},
   "outputs": [],
   "source": [
    "train_data=pd.read_csv(r\"C:\\Users\\Naz\\Desktop\\Datathon\\data\\train.csv\",low_memory=False)\n",
    "test_data = pd.read_csv(r\"C:\\Users\\Naz\\Desktop\\Datathon\\data\\test_x.csv\")"
   ]
  },
  {
   "cell_type": "code",
   "execution_count": 3,
   "id": "9b9242cf-90a0-40da-8f90-bc506aeb90c5",
   "metadata": {},
   "outputs": [],
   "source": [
    "#pip install xgboost"
   ]
  },
  {
   "cell_type": "code",
   "execution_count": 4,
   "id": "6baac66d-3874-4af3-b4c3-71f4df54eadd",
   "metadata": {},
   "outputs": [],
   "source": [
    "#pip install lightgbm"
   ]
  },
  {
   "cell_type": "code",
   "execution_count": 5,
   "id": "6239b9f3-e160-4be0-9ded-885b965aa345",
   "metadata": {},
   "outputs": [],
   "source": [
    "#pip install catboost"
   ]
  },
  {
   "cell_type": "markdown",
   "id": "03cce955-d256-4b7e-a3b6-e69ac35049e6",
   "metadata": {
    "jp-MarkdownHeadingCollapsed": true
   },
   "source": [
    "# Analyzing Data"
   ]
  },
  {
   "cell_type": "code",
   "execution_count": 6,
   "id": "f2dd7864-4f54-4a02-b5ba-145c3ed33bc1",
   "metadata": {},
   "outputs": [
    {
     "data": {
      "text/plain": [
       "Index(['Basvuru Yili', 'Degerlendirme Puani', 'Cinsiyet', 'Dogum Tarihi',\n",
       "       'Dogum Yeri', 'Ikametgah Sehri', 'Universite Adi', 'Universite Turu',\n",
       "       'Burslu ise Burs Yuzdesi', 'Burs Aliyor mu?', 'Bölüm',\n",
       "       'Universite Kacinci Sinif', 'Universite Not Ortalamasi',\n",
       "       'Daha Once Baska Bir Universiteden Mezun Olmus', 'Lise Adi',\n",
       "       'Lise Adi Diger', 'Lise Sehir', 'Lise Turu', 'Lise Bolumu',\n",
       "       'Lise Bolum Diger', 'Lise Mezuniyet Notu',\n",
       "       'Baska Bir Kurumdan Burs Aliyor mu?', 'Burs Aldigi Baska Kurum',\n",
       "       'Baska Kurumdan Aldigi Burs Miktari', 'Anne Egitim Durumu',\n",
       "       'Anne Calisma Durumu', 'Anne Sektor', 'Baba Egitim Durumu',\n",
       "       'Baba Calisma Durumu', 'Baba Sektor', 'Kardes Sayisi',\n",
       "       'Girisimcilik Kulupleri Tarzi Bir Kulube Uye misiniz?',\n",
       "       'Uye Oldugunuz Kulubun Ismi',\n",
       "       'Profesyonel Bir Spor Daliyla Mesgul musunuz?',\n",
       "       'Spor Dalindaki Rolunuz Nedir?', 'Aktif olarak bir STK üyesi misiniz?',\n",
       "       'Hangi STK'nin Uyesisiniz?', 'Stk Projesine Katildiniz Mi?',\n",
       "       'Girisimcilikle Ilgili Deneyiminiz Var Mi?',\n",
       "       'Girisimcilikle Ilgili Deneyiminizi Aciklayabilir misiniz?',\n",
       "       'Ingilizce Biliyor musunuz?', 'Ingilizce Seviyeniz?',\n",
       "       'Daha Önceden Mezun Olunduysa, Mezun Olunan Üniversite', 'id'],\n",
       "      dtype='object')"
      ]
     },
     "execution_count": 6,
     "metadata": {},
     "output_type": "execute_result"
    }
   ],
   "source": [
    "train_data.columns"
   ]
  },
  {
   "cell_type": "code",
   "execution_count": 7,
   "id": "384ad214-32aa-4e4a-8bd1-265455611e0c",
   "metadata": {},
   "outputs": [
    {
     "data": {
      "text/plain": [
       "(65125, 44)"
      ]
     },
     "execution_count": 7,
     "metadata": {},
     "output_type": "execute_result"
    }
   ],
   "source": [
    "train_data.shape"
   ]
  },
  {
   "cell_type": "code",
   "execution_count": 8,
   "id": "cadae64c-f849-42db-a63a-e0c3f722ebc7",
   "metadata": {},
   "outputs": [
    {
     "name": "stdout",
     "output_type": "stream",
     "text": [
      "<class 'pandas.core.frame.DataFrame'>\n",
      "RangeIndex: 65125 entries, 0 to 65124\n",
      "Data columns (total 44 columns):\n",
      " #   Column                                                     Non-Null Count  Dtype  \n",
      "---  ------                                                     --------------  -----  \n",
      " 0   Basvuru Yili                                               65125 non-null  int64  \n",
      " 1   Degerlendirme Puani                                        65124 non-null  float64\n",
      " 2   Cinsiyet                                                   64956 non-null  object \n",
      " 3   Dogum Tarihi                                               64948 non-null  object \n",
      " 4   Dogum Yeri                                                 64334 non-null  object \n",
      " 5   Ikametgah Sehri                                            63088 non-null  object \n",
      " 6   Universite Adi                                             64993 non-null  object \n",
      " 7   Universite Turu                                            64870 non-null  object \n",
      " 8   Burslu ise Burs Yuzdesi                                    22440 non-null  float64\n",
      " 9   Burs Aliyor mu?                                            65125 non-null  object \n",
      " 10  Bölüm                                                      64894 non-null  object \n",
      " 11  Universite Kacinci Sinif                                   64751 non-null  object \n",
      " 12  Universite Not Ortalamasi                                  62372 non-null  object \n",
      " 13  Daha Once Baska Bir Universiteden Mezun Olmus              27780 non-null  object \n",
      " 14  Lise Adi                                                   64741 non-null  object \n",
      " 15  Lise Adi Diger                                             4733 non-null   object \n",
      " 16  Lise Sehir                                                 64071 non-null  object \n",
      " 17  Lise Turu                                                  64278 non-null  object \n",
      " 18  Lise Bolumu                                                64116 non-null  object \n",
      " 19  Lise Bolum Diger                                           1526 non-null   object \n",
      " 20  Lise Mezuniyet Notu                                        59208 non-null  object \n",
      " 21  Baska Bir Kurumdan Burs Aliyor mu?                         64894 non-null  object \n",
      " 22  Burs Aldigi Baska Kurum                                    21148 non-null  object \n",
      " 23  Baska Kurumdan Aldigi Burs Miktari                         20963 non-null  object \n",
      " 24  Anne Egitim Durumu                                         64719 non-null  object \n",
      " 25  Anne Calisma Durumu                                        53229 non-null  object \n",
      " 26  Anne Sektor                                                30588 non-null  object \n",
      " 27  Baba Egitim Durumu                                         64118 non-null  object \n",
      " 28  Baba Calisma Durumu                                        52507 non-null  object \n",
      " 29  Baba Sektor                                                44747 non-null  object \n",
      " 30  Kardes Sayisi                                              63993 non-null  object \n",
      " 31  Girisimcilik Kulupleri Tarzi Bir Kulube Uye misiniz?       63296 non-null  object \n",
      " 32  Uye Oldugunuz Kulubun Ismi                                 16434 non-null  object \n",
      " 33  Profesyonel Bir Spor Daliyla Mesgul musunuz?               64010 non-null  object \n",
      " 34  Spor Dalindaki Rolunuz Nedir?                              32850 non-null  object \n",
      " 35  Aktif olarak bir STK üyesi misiniz?                        52283 non-null  object \n",
      " 36  Hangi STK'nin Uyesisiniz?                                  15607 non-null  object \n",
      " 37  Stk Projesine Katildiniz Mi?                               36817 non-null  object \n",
      " 38  Girisimcilikle Ilgili Deneyiminiz Var Mi?                  52285 non-null  object \n",
      " 39  Girisimcilikle Ilgili Deneyiminizi Aciklayabilir misiniz?  14599 non-null  object \n",
      " 40  Ingilizce Biliyor musunuz?                                 58671 non-null  object \n",
      " 41  Ingilizce Seviyeniz?                                       28592 non-null  object \n",
      " 42  Daha Önceden Mezun Olunduysa, Mezun Olunan Üniversite      419 non-null    object \n",
      " 43  id                                                         65125 non-null  int64  \n",
      "dtypes: float64(2), int64(2), object(40)\n",
      "memory usage: 21.9+ MB\n"
     ]
    }
   ],
   "source": [
    "train_data.info()"
   ]
  },
  {
   "cell_type": "markdown",
   "id": "f5364cfa-f2ba-4864-91c8-dd06b733239b",
   "metadata": {
    "jp-MarkdownHeadingCollapsed": true
   },
   "source": [
    "# Exploratory Data Analysis"
   ]
  },
  {
   "cell_type": "code",
   "execution_count": 9,
   "id": "48fc786a-9d66-4748-a6d7-8ab80098cb6b",
   "metadata": {},
   "outputs": [
    {
     "name": "stdout",
     "output_type": "stream",
     "text": [
      "<class 'pandas.core.frame.DataFrame'>\n",
      "RangeIndex: 65125 entries, 0 to 65124\n",
      "Data columns (total 40 columns):\n",
      " #   Column                                                     Non-Null Count  Dtype \n",
      "---  ------                                                     --------------  ----- \n",
      " 0   Cinsiyet                                                   64956 non-null  object\n",
      " 1   Dogum Tarihi                                               64948 non-null  object\n",
      " 2   Dogum Yeri                                                 64334 non-null  object\n",
      " 3   Ikametgah Sehri                                            63088 non-null  object\n",
      " 4   Universite Adi                                             64993 non-null  object\n",
      " 5   Universite Turu                                            64870 non-null  object\n",
      " 6   Burs Aliyor mu?                                            65125 non-null  object\n",
      " 7   Bölüm                                                      64894 non-null  object\n",
      " 8   Universite Kacinci Sinif                                   64751 non-null  object\n",
      " 9   Universite Not Ortalamasi                                  62372 non-null  object\n",
      " 10  Daha Once Baska Bir Universiteden Mezun Olmus              27780 non-null  object\n",
      " 11  Lise Adi                                                   64741 non-null  object\n",
      " 12  Lise Adi Diger                                             4733 non-null   object\n",
      " 13  Lise Sehir                                                 64071 non-null  object\n",
      " 14  Lise Turu                                                  64278 non-null  object\n",
      " 15  Lise Bolumu                                                64116 non-null  object\n",
      " 16  Lise Bolum Diger                                           1526 non-null   object\n",
      " 17  Lise Mezuniyet Notu                                        59208 non-null  object\n",
      " 18  Baska Bir Kurumdan Burs Aliyor mu?                         64894 non-null  object\n",
      " 19  Burs Aldigi Baska Kurum                                    21148 non-null  object\n",
      " 20  Baska Kurumdan Aldigi Burs Miktari                         20963 non-null  object\n",
      " 21  Anne Egitim Durumu                                         64719 non-null  object\n",
      " 22  Anne Calisma Durumu                                        53229 non-null  object\n",
      " 23  Anne Sektor                                                30588 non-null  object\n",
      " 24  Baba Egitim Durumu                                         64118 non-null  object\n",
      " 25  Baba Calisma Durumu                                        52507 non-null  object\n",
      " 26  Baba Sektor                                                44747 non-null  object\n",
      " 27  Kardes Sayisi                                              63993 non-null  object\n",
      " 28  Girisimcilik Kulupleri Tarzi Bir Kulube Uye misiniz?       63296 non-null  object\n",
      " 29  Uye Oldugunuz Kulubun Ismi                                 16434 non-null  object\n",
      " 30  Profesyonel Bir Spor Daliyla Mesgul musunuz?               64010 non-null  object\n",
      " 31  Spor Dalindaki Rolunuz Nedir?                              32850 non-null  object\n",
      " 32  Aktif olarak bir STK üyesi misiniz?                        52283 non-null  object\n",
      " 33  Hangi STK'nin Uyesisiniz?                                  15607 non-null  object\n",
      " 34  Stk Projesine Katildiniz Mi?                               36817 non-null  object\n",
      " 35  Girisimcilikle Ilgili Deneyiminiz Var Mi?                  52285 non-null  object\n",
      " 36  Girisimcilikle Ilgili Deneyiminizi Aciklayabilir misiniz?  14599 non-null  object\n",
      " 37  Ingilizce Biliyor musunuz?                                 58671 non-null  object\n",
      " 38  Ingilizce Seviyeniz?                                       28592 non-null  object\n",
      " 39  Daha Önceden Mezun Olunduysa, Mezun Olunan Üniversite      419 non-null    object\n",
      "dtypes: object(40)\n",
      "memory usage: 19.9+ MB\n",
      "None\n"
     ]
    }
   ],
   "source": [
    "show_object_data(train_data)"
   ]
  },
  {
   "cell_type": "code",
   "execution_count": 10,
   "id": "7531849b-4aa1-4587-952f-7d13a31b8b71",
   "metadata": {},
   "outputs": [
    {
     "name": "stdout",
     "output_type": "stream",
     "text": [
      "Basvuru Yili                                                     0\n",
      "Burs Aliyor mu?                                                  0\n",
      "id                                                               0\n",
      "Degerlendirme Puani                                              1\n",
      "Universite Adi                                                 132\n",
      "Cinsiyet                                                       169\n",
      "Dogum Tarihi                                                   177\n",
      "Bölüm                                                          231\n",
      "Baska Bir Kurumdan Burs Aliyor mu?                             231\n",
      "Universite Turu                                                255\n",
      "Universite Kacinci Sinif                                       374\n",
      "Lise Adi                                                       384\n",
      "Anne Egitim Durumu                                             406\n",
      "Dogum Yeri                                                     791\n",
      "Lise Turu                                                      847\n",
      "Baba Egitim Durumu                                            1007\n",
      "Lise Bolumu                                                   1009\n",
      "Lise Sehir                                                    1054\n",
      "Profesyonel Bir Spor Daliyla Mesgul musunuz?                  1115\n",
      "Kardes Sayisi                                                 1132\n",
      "Girisimcilik Kulupleri Tarzi Bir Kulube Uye misiniz?          1829\n",
      "Ikametgah Sehri                                               2037\n",
      "Universite Not Ortalamasi                                     2753\n",
      "Lise Mezuniyet Notu                                           5917\n",
      "Ingilizce Biliyor musunuz?                                    6454\n",
      "Anne Calisma Durumu                                          11896\n",
      "Baba Calisma Durumu                                          12618\n",
      "Girisimcilikle Ilgili Deneyiminiz Var Mi?                    12840\n",
      "Aktif olarak bir STK üyesi misiniz?                          12842\n",
      "Baba Sektor                                                  20378\n",
      "Stk Projesine Katildiniz Mi?                                 28308\n",
      "Spor Dalindaki Rolunuz Nedir?                                32275\n",
      "Anne Sektor                                                  34537\n",
      "Ingilizce Seviyeniz?                                         36533\n",
      "Daha Once Baska Bir Universiteden Mezun Olmus                37345\n",
      "Burslu ise Burs Yuzdesi                                      42685\n",
      "Burs Aldigi Baska Kurum                                      43977\n",
      "Baska Kurumdan Aldigi Burs Miktari                           44162\n",
      "Uye Oldugunuz Kulubun Ismi                                   48691\n",
      "Hangi STK'nin Uyesisiniz?                                    49518\n",
      "Girisimcilikle Ilgili Deneyiminizi Aciklayabilir misiniz?    50526\n",
      "Lise Adi Diger                                               60392\n",
      "Lise Bolum Diger                                             63599\n",
      "Daha Önceden Mezun Olunduysa, Mezun Olunan Üniversite        64706\n",
      "dtype: int64\n"
     ]
    }
   ],
   "source": [
    "show_missing_data_count(train_data)"
   ]
  },
  {
   "cell_type": "code",
   "execution_count": 11,
   "id": "c6fa58cb-bad0-47db-af8e-1e47dbae1eac",
   "metadata": {},
   "outputs": [
    {
     "name": "stdout",
     "output_type": "stream",
     "text": [
      "Basvuru Yili                                                     0\n",
      "Baska Kurumdan Aldigi Burs Miktari                               0\n",
      "Anne Egitim Durumu                                               0\n",
      "Anne Calisma Durumu                                              0\n",
      "Anne Sektor                                                      0\n",
      "Baba Egitim Durumu                                               0\n",
      "Baba Calisma Durumu                                              0\n",
      "Baba Sektor                                                      0\n",
      "Baska Bir Kurumdan Burs Aliyor mu?                               0\n",
      "Kardes Sayisi                                                    0\n",
      "Profesyonel Bir Spor Daliyla Mesgul musunuz?                     0\n",
      "Spor Dalindaki Rolunuz Nedir?                                    0\n",
      "Aktif olarak bir STK üyesi misiniz?                              0\n",
      "Hangi STK'nin Uyesisiniz?                                        0\n",
      "Girisimcilikle Ilgili Deneyiminiz Var Mi?                        0\n",
      "Girisimcilikle Ilgili Deneyiminizi Aciklayabilir misiniz?        0\n",
      "Ingilizce Biliyor musunuz?                                       0\n",
      "Girisimcilik Kulupleri Tarzi Bir Kulube Uye misiniz?             0\n",
      "Lise Mezuniyet Notu                                              0\n",
      "Burs Aldigi Baska Kurum                                          0\n",
      "Lise Bolumu                                                      0\n",
      "Cinsiyet                                                         0\n",
      "Dogum Tarihi                                                     0\n",
      "Dogum Yeri                                                       0\n",
      "Ikametgah Sehri                                                  0\n",
      "Universite Adi                                                   0\n",
      "Universite Turu                                                  0\n",
      "Burs Aliyor mu?                                                  0\n",
      "Bölüm                                                            0\n",
      "id                                                               0\n",
      "Universite Not Ortalamasi                                        0\n",
      "Lise Adi                                                         0\n",
      "Lise Sehir                                                       0\n",
      "Lise Turu                                                        0\n",
      "Universite Kacinci Sinif                                         0\n",
      "Lise Bolum Diger                                             11049\n",
      "Burslu ise Burs Yuzdesi                                      11049\n",
      "Daha Once Baska Bir Universiteden Mezun Olmus                11049\n",
      "Lise Adi Diger                                               11049\n",
      "Stk Projesine Katildiniz Mi?                                 11049\n",
      "Daha Önceden Mezun Olunduysa, Mezun Olunan Üniversite        11049\n",
      "Ingilizce Seviyeniz?                                         11049\n",
      "Uye Oldugunuz Kulubun Ismi                                   11049\n",
      "dtype: int64\n"
     ]
    }
   ],
   "source": [
    "show_missing_data_count(test_data)"
   ]
  },
  {
   "cell_type": "code",
   "execution_count": 12,
   "id": "d03ad1e6-dfad-49e2-b7bc-43e0585e6907",
   "metadata": {},
   "outputs": [],
   "source": [
    "cat_cols=train_data.select_dtypes(include=['object']).columns.tolist()"
   ]
  },
  {
   "cell_type": "code",
   "execution_count": 13,
   "id": "df43a75c-f0ac-459f-8353-1a76c865ef2b",
   "metadata": {},
   "outputs": [],
   "source": [
    "num_cols=train_data.select_dtypes(include=[np.number]).columns.tolist()"
   ]
  },
  {
   "cell_type": "markdown",
   "id": "305ed3a7-faa3-4152-a64e-34230a163558",
   "metadata": {
    "jp-MarkdownHeadingCollapsed": true
   },
   "source": [
    "# EDA for Numerical Columns"
   ]
  },
  {
   "cell_type": "code",
   "execution_count": 14,
   "id": "f738ef50-2981-495c-bdd4-89464a2256f3",
   "metadata": {},
   "outputs": [
    {
     "data": {
      "text/plain": [
       "['Basvuru Yili', 'Degerlendirme Puani', 'Burslu ise Burs Yuzdesi', 'id']"
      ]
     },
     "execution_count": 14,
     "metadata": {},
     "output_type": "execute_result"
    }
   ],
   "source": [
    "num_cols"
   ]
  },
  {
   "cell_type": "code",
   "execution_count": 15,
   "id": "cc8c0a1e-7bff-4270-b555-8c3ff5db35bb",
   "metadata": {},
   "outputs": [
    {
     "data": {
      "image/png": "[encoded data removed]",
      "text/plain": [
       "<Figure size 800x500 with 2 Axes>"
      ]
     },
     "metadata": {},
     "output_type": "display_data"
    },
    {
     "data": {
      "image/png": "[encoded data removed]",
      "text/plain": [
       "<Figure size 800x500 with 2 Axes>"
      ]
     },
     "metadata": {},
     "output_type": "display_data"
    },
    {
     "data": {
      "image/png": "[encoded data removed]",
      "text/plain": [
       "<Figure size 800x500 with 2 Axes>"
      ]
     },
     "metadata": {},
     "output_type": "display_data"
    }
   ],
   "source": [
    "for col in num_cols:\n",
    "    if col=='id':\n",
    "        continue\n",
    "    plt.figure(figsize = (8, 5))\n",
    "    plt.subplot(1, 2, 1)\n",
    "    plt.title(col)\n",
    "    train_data[col].hist( bins=25, grid=False, color='#86bf91', zorder=5, rwidth=0.8)\n",
    "    plt.ylabel('Count')\n",
    "    plt.subplot(1, 2, 2)\n",
    "    sns.boxplot(x=train_data[col],color='#86bf91')\n",
    "    plt.show()  "
   ]
  },
  {
   "cell_type": "code",
   "execution_count": 16,
   "id": "157829b5-6e43-445f-96fc-70feb342ab7a",
   "metadata": {},
   "outputs": [
    {
     "name": "stdout",
     "output_type": "stream",
     "text": [
      "462\n"
     ]
    }
   ],
   "source": [
    "print(len(train_data[train_data['Degerlendirme Puani']>80]))\n",
    "# delete outliers of target column as it occurs in 462 rows\n",
    "train_data=train_data.drop(train_data[train_data['Degerlendirme Puani']>80].index)\n",
    "fill_missing_value_in_columns_with_mode_value(train_data,'Degerlendirme Puani')"
   ]
  },
  {
   "cell_type": "code",
   "execution_count": 17,
   "id": "6402e153-7d8b-43de-b391-94a68745ac14",
   "metadata": {},
   "outputs": [],
   "source": [
    "#since id is unneccesary\n",
    "#train_data=train_data.drop(columns=['id'])"
   ]
  },
  {
   "cell_type": "code",
   "execution_count": 18,
   "id": "12325204-fea6-4dea-9c5b-588bdfa5c217",
   "metadata": {},
   "outputs": [],
   "source": [
    "#since burslu ise burs yüzdesi is nan in test column\n",
    "train_data, test_data=drop_columns_from_train_test(train_data,test_data,'Burslu ise Burs Yuzdesi')"
   ]
  },
  {
   "cell_type": "code",
   "execution_count": 19,
   "id": "c0aacd4e-cc10-4121-8e34-e55b59f3057c",
   "metadata": {},
   "outputs": [
    {
     "data": {
      "text/plain": [
       "array([2023], dtype=int64)"
      ]
     },
     "execution_count": 19,
     "metadata": {},
     "output_type": "execute_result"
    }
   ],
   "source": [
    "test_data['Basvuru Yili'].unique()"
   ]
  },
  {
   "cell_type": "code",
   "execution_count": 20,
   "id": "faeecf87-9e17-437b-92ec-bda55cbc1049",
   "metadata": {},
   "outputs": [
    {
     "data": {
      "text/plain": [
       "array([2014, 2015, 2016, 2017, 2018, 2019, 2020, 2021, 2022], dtype=int64)"
      ]
     },
     "execution_count": 20,
     "metadata": {},
     "output_type": "execute_result"
    }
   ],
   "source": [
    "train_data['Basvuru Yili'].unique()"
   ]
  },
  {
   "cell_type": "markdown",
   "id": "82d5b879-d201-4178-831a-9b3839f54232",
   "metadata": {
    "jp-MarkdownHeadingCollapsed": true
   },
   "source": [
    "# EDA for Categorical Columns"
   ]
  },
  {
   "cell_type": "code",
   "execution_count": 21,
   "id": "5a9c9e8d-dbd3-4372-890e-d907b23f0307",
   "metadata": {},
   "outputs": [
    {
     "data": {
      "text/plain": [
       "['Cinsiyet',\n",
       " 'Dogum Tarihi',\n",
       " 'Dogum Yeri',\n",
       " 'Ikametgah Sehri',\n",
       " 'Universite Adi',\n",
       " 'Universite Turu',\n",
       " 'Burs Aliyor mu?',\n",
       " 'Bölüm',\n",
       " 'Universite Kacinci Sinif',\n",
       " 'Universite Not Ortalamasi',\n",
       " 'Daha Once Baska Bir Universiteden Mezun Olmus',\n",
       " 'Lise Adi',\n",
       " 'Lise Adi Diger',\n",
       " 'Lise Sehir',\n",
       " 'Lise Turu',\n",
       " 'Lise Bolumu',\n",
       " 'Lise Bolum Diger',\n",
       " 'Lise Mezuniyet Notu',\n",
       " 'Baska Bir Kurumdan Burs Aliyor mu?',\n",
       " 'Burs Aldigi Baska Kurum',\n",
       " 'Baska Kurumdan Aldigi Burs Miktari',\n",
       " 'Anne Egitim Durumu',\n",
       " 'Anne Calisma Durumu',\n",
       " 'Anne Sektor',\n",
       " 'Baba Egitim Durumu',\n",
       " 'Baba Calisma Durumu',\n",
       " 'Baba Sektor',\n",
       " 'Kardes Sayisi',\n",
       " 'Girisimcilik Kulupleri Tarzi Bir Kulube Uye misiniz?',\n",
       " 'Uye Oldugunuz Kulubun Ismi',\n",
       " 'Profesyonel Bir Spor Daliyla Mesgul musunuz?',\n",
       " 'Spor Dalindaki Rolunuz Nedir?',\n",
       " 'Aktif olarak bir STK üyesi misiniz?',\n",
       " \"Hangi STK'nin Uyesisiniz?\",\n",
       " 'Stk Projesine Katildiniz Mi?',\n",
       " 'Girisimcilikle Ilgili Deneyiminiz Var Mi?',\n",
       " 'Girisimcilikle Ilgili Deneyiminizi Aciklayabilir misiniz?',\n",
       " 'Ingilizce Biliyor musunuz?',\n",
       " 'Ingilizce Seviyeniz?',\n",
       " 'Daha Önceden Mezun Olunduysa, Mezun Olunan Üniversite']"
      ]
     },
     "execution_count": 21,
     "metadata": {},
     "output_type": "execute_result"
    }
   ],
   "source": [
    "cat_cols"
   ]
  },
  {
   "cell_type": "markdown",
   "id": "2ebc6150-b6aa-4f06-af61-4524639876cf",
   "metadata": {
    "jp-MarkdownHeadingCollapsed": true
   },
   "source": [
    "### Cinsiyet\n",
    "\n",
    "    "
   ]
  },
  {
   "cell_type": "code",
   "execution_count": 22,
   "id": "7957fc45-a98a-4e40-b1aa-75f94c141868",
   "metadata": {},
   "outputs": [
    {
     "name": "stdout",
     "output_type": "stream",
     "text": [
      "Train Data Uniqueness\n",
      "['Erkek' 'Kadın' 'ERKEK' 'Belirtmek istemiyorum' nan]\n",
      "--------------------\n",
      "Test Data Uniqueness\n",
      "['Kadın' 'Erkek' 'Belirtmek istemiyorum']\n",
      "---------------------\n",
      "---------------------\n",
      "Train Data Isna()\n",
      "169\n",
      "---------------------\n",
      "Test Data Isna()\n",
      "0\n"
     ]
    }
   ],
   "source": [
    "check_column_in_train_test(train_data,test_data,'Cinsiyet')"
   ]
  },
  {
   "cell_type": "code",
   "execution_count": 23,
   "id": "1596b80d-37b8-47b1-8891-a1cfeaecf19d",
   "metadata": {},
   "outputs": [],
   "source": [
    "lower_string_in_column(train_data,'Cinsiyet')\n",
    "lower_string_in_column(test_data,'Cinsiyet')"
   ]
  },
  {
   "cell_type": "code",
   "execution_count": 24,
   "id": "1ac3ad2c-315b-4f7c-ae6d-3a8ff12f7d97",
   "metadata": {},
   "outputs": [],
   "source": [
    "fill_missing_value_in_columns_with_mode_value(train_data,'Cinsiyet')"
   ]
  },
  {
   "cell_type": "markdown",
   "id": "14036d5a-6ff4-44de-b588-db731e6cc649",
   "metadata": {},
   "source": [
    "### Doğum Tarihi"
   ]
  },
  {
   "cell_type": "code",
   "execution_count": 25,
   "id": "615e7a96-9ab4-4fc0-9f79-dff4ca028464",
   "metadata": {},
   "outputs": [],
   "source": [
    "train_data, test_data=drop_columns_from_train_test(train_data,test_data,'Dogum Tarihi')"
   ]
  },
  {
   "cell_type": "code",
   "execution_count": 26,
   "id": "0e695faf-081d-4c18-8a98-5b644dc1f579",
   "metadata": {},
   "outputs": [],
   "source": [
    "#check_column_in_train_test(train_data,test_data,'Dogum Tarihi')"
   ]
  },
  {
   "cell_type": "code",
   "execution_count": 27,
   "id": "42063abe-4569-4ea8-a5c7-bfdbf42b5123",
   "metadata": {},
   "outputs": [],
   "source": [
    "turkey_cities = [\n",
    "    'adana', 'adıyaman', 'afyonkarahisar', 'ağrı', 'amasya', 'ankara', 'antalya',\n",
    "    'artvin', 'aydın', 'balıkesir', 'bartın', 'batman', 'bayburt', 'bilecik',\n",
    "    'bingöl', 'bitlis', 'bolu', 'burdur', 'bursa', 'çanakkale', 'çankırı',\n",
    "    'çorum', 'denizli', 'diyarbakır', 'düzce', 'edirne', 'elazığ', 'erzincan',\n",
    "    'erzurum', 'eskişehir', 'gaziantep', 'giresun', 'gümüşhane', 'hakkari',\n",
    "    'hatay', 'iğdır', 'ısparta', 'istanbul', 'izmir', 'kahramanmaraş',\n",
    "    'karabük', 'karaman', 'kars', 'kastamonu', 'kayseri', 'kırıkkale',\n",
    "    'kırklareli', 'kırşehir', 'kocaeli', 'konya', 'kütahya', 'malatya',\n",
    "    'manisa', 'mardin', 'mersin', 'muğla', 'muş', 'nevşehir', 'niğde',\n",
    "    'ordu', 'osmaniye', 'rize', 'sakarya', 'samsun', 'siirt', 'sivas',\n",
    "    'şanlıurfa', 'şırnak', 'tekirdağ', 'tokat', 'trabzon', 'tunceli',\n",
    "    'uşak', 'van', 'yalova', 'yozgat', 'zonguldak'\n",
    "]\n"
   ]
  },
  {
   "cell_type": "markdown",
   "id": "9490a16e-7a4a-43c4-8e04-87a3d9cd025a",
   "metadata": {
    "jp-MarkdownHeadingCollapsed": true
   },
   "source": [
    "### Doğum Yeri"
   ]
  },
  {
   "cell_type": "code",
   "execution_count": 28,
   "id": "ad684b38-8bce-4a44-9d5e-f753b1231c18",
   "metadata": {},
   "outputs": [],
   "source": [
    "sehirler_map= {\n",
    "    'istanbul': 'istanbul',\n",
    "    'i̇stanbul': 'istanbul',\n",
    "    'i̇stabul':'istanbul',\n",
    "    'kartal-i̇stanbul':'istanbul',\n",
    "    'i̇stanbul bakırköy': 'istanbul',\n",
    "    'bakirköy-i̇stanbul':'istanbul',\n",
    "    'bakırköy/i̇stanbul':'istanbul',\n",
    "    'i̇stanbul-şişli': 'istanbul',\n",
    "    'i̇stanbul - beşi̇ktaş':'istanbul',\n",
    "    'i̇stanbul/ kadıköy': 'istanbul',\n",
    "    'taksim/i̇stanbul':'istanbul',\n",
    "    'maltepe / i̇stanbul':'istanbul',\n",
    "    'fatih/i̇stanbul':'istanbul',\n",
    "    'fatih/i̇stanbul':'istanbul',\n",
    "    'kadikoy/istanbul':'istanbul',\n",
    "    'büyükçekmece /i̇stanbul':'istanbul',\n",
    "    'kartal/ i̇stanbul':'istanbul',\n",
    "    'bakırköy istanbul':'istanbul',\n",
    "    'çerkezköy':'istanbul',\n",
    "    'i̇stanbul/ fatih':'istanbul',\n",
    "    'sarıyer/ i̇stanbul':'istanbul',\n",
    "    'i̇stanbul/ kartal':'istanbul',\n",
    "    'kadıköy / i̇stanbul':'istanbul',\n",
    "    'gaziosmanpaşa / i̇stanbul':'istanbul',\n",
    "    'ataşehir/i̇stanbul':'istanbul',\n",
    "    'güngören/i̇stanbul':'istanbul',\n",
    "    'esenler/i̇stanbul':'istanbul',\n",
    "    'üsküdar/i̇stanbul':'istanbul',\n",
    "    \n",
    "    'ankara keçiören':'ankara',\n",
    "    'ankara/altındağ':'ankara',\n",
    "    'altindag, ankara':'ankara',\n",
    "    'ankara/çankaya':'ankara',\n",
    "    'ankara-elmadağ':'ankara',\n",
    "    'çankaya/ankara':'ankara',\n",
    "    'polatlı/ankara':'ankara',\n",
    " \n",
    "    'izmir': 'izmir',\n",
    "    'i̇zmir': 'izmir',\n",
    "    'izmir/': 'izmir',\n",
    "    'i̇zmir-': 'izmir',\n",
    "    'i̇zmir (': 'izmir',\n",
    "    'i̇zmir)': 'izmir',\n",
    "    'konak/i̇zmi̇r':'izmir',\n",
    "    'bornova/i̇zmi̇r':'izmir',\n",
    "    'ti̇re/i̇zmi̇r':'izmir',\n",
    "\n",
    "    'k.maraş':'kahramanmaraş',\n",
    "    'k.maras':'kahramanmaraş',\n",
    "    \n",
    "    'di̇yarbakir':'diyarbakır'   ,\n",
    "    'gebze/kocaeli̇':'kocaeli'\n",
    "}"
   ]
  },
  {
   "cell_type": "code",
   "execution_count": 29,
   "id": "6a0f2889-4e0f-4089-9ad3-6004e077d116",
   "metadata": {},
   "outputs": [],
   "source": [
    "#check_column_in_train_test(train_data,test_data,'Dogum Yeri')"
   ]
  },
  {
   "cell_type": "code",
   "execution_count": 30,
   "id": "56e5f42d-c484-4e73-a37b-d456b4abe1c9",
   "metadata": {},
   "outputs": [],
   "source": [
    "lower_string_in_column(train_data,'Dogum Yeri')\n",
    "lower_string_in_column(test_data,'Dogum Yeri')"
   ]
  },
  {
   "cell_type": "code",
   "execution_count": 31,
   "id": "e64f972f-d3f9-4424-8ac8-15521b4ae0a5",
   "metadata": {},
   "outputs": [],
   "source": [
    "train_data['Dogum Yeri'] = train_data['Dogum Yeri'].replace(sehirler_map)\n",
    "\n"
   ]
  },
  {
   "cell_type": "code",
   "execution_count": 32,
   "id": "76d25fb8-6942-4da9-bc71-0953a0ddf018",
   "metadata": {},
   "outputs": [
    {
     "name": "stdout",
     "output_type": "stream",
     "text": [
      "Found 1124 non-alpha entries.\n"
     ]
    }
   ],
   "source": [
    "cleaned_dogum_yeri_map=map_cleaned_data_into_column(train_data,'Dogum Yeri')\n",
    "train_data['Dogum Yeri'] = train_data['Dogum Yeri'].replace(cleaned_dogum_yeri_map)\n",
    "non_alpha_words = find_non_alpha_strings_in_column(train_data,'Dogum Yeri')\n",
    "fill_missing_value_in_columns_with_mode_value(train_data,'Dogum Yeri')\n",
    "#print(non_alpha_words)"
   ]
  },
  {
   "cell_type": "markdown",
   "id": "9a35962f-c1c2-428b-b789-e61b2e662278",
   "metadata": {
    "jp-MarkdownHeadingCollapsed": true
   },
   "source": [
    "### İkametgah Şehri"
   ]
  },
  {
   "cell_type": "code",
   "execution_count": 33,
   "id": "4303df32-c8d5-432f-b625-cadd09b6731a",
   "metadata": {},
   "outputs": [],
   "source": [
    "#check_column_in_train_test(train_data,test_data,'Ikametgah Sehri')"
   ]
  },
  {
   "cell_type": "code",
   "execution_count": 34,
   "id": "43814d04-3d17-4e49-9e51-746aaedf1d2f",
   "metadata": {},
   "outputs": [],
   "source": [
    "lower_string_in_column(train_data,'Ikametgah Sehri')\n",
    "lower_string_in_column(test_data,'Ikametgah Sehri')"
   ]
  },
  {
   "cell_type": "code",
   "execution_count": 35,
   "id": "8de58352-fa29-47b2-908a-630b10baf164",
   "metadata": {},
   "outputs": [],
   "source": [
    "train_data['Ikametgah Sehri'] = train_data['Ikametgah Sehri'].replace(sehirler_map)\n",
    "\n",
    "train_data['Ikametgah Sehri'] =train_data['Ikametgah Sehri'] .replace('------',train_data['Ikametgah Sehri'].mode()[0])\n"
   ]
  },
  {
   "cell_type": "code",
   "execution_count": 36,
   "id": "bb0e3b2f-7093-4eee-a8d2-dc3d2f8ee48d",
   "metadata": {},
   "outputs": [
    {
     "name": "stdout",
     "output_type": "stream",
     "text": [
      "Found 97 non-alpha entries.\n"
     ]
    }
   ],
   "source": [
    "cleaned_ikametgah_sehri_map=map_cleaned_data_into_column(train_data,'Ikametgah Sehri')\n",
    "\n",
    "train_data['Ikametgah Sehri'] = train_data['Ikametgah Sehri'].replace(cleaned_ikametgah_sehri_map)"
   ]
  },
  {
   "cell_type": "code",
   "execution_count": 37,
   "id": "3adec7e2-5170-4761-915b-cb3132fd16c5",
   "metadata": {},
   "outputs": [],
   "source": [
    "fill_missing_value_in_columns_with_mode_value(train_data,'Ikametgah Sehri')"
   ]
  },
  {
   "cell_type": "markdown",
   "id": "e05d3013-cbe7-435f-8291-3eeb1ae3dff9",
   "metadata": {
    "jp-MarkdownHeadingCollapsed": true
   },
   "source": [
    "### Universite Adi"
   ]
  },
  {
   "cell_type": "code",
   "execution_count": 38,
   "id": "53db3946-f485-4dc4-9ef7-62f9385b0b36",
   "metadata": {},
   "outputs": [],
   "source": [
    "#check_column_in_train_test(train_data,test_data,'Universite Adi')"
   ]
  },
  {
   "cell_type": "code",
   "execution_count": 39,
   "id": "9506b2b6-cc4a-407c-83d8-f3b541c3f87f",
   "metadata": {},
   "outputs": [],
   "source": [
    "lower_string_in_column(train_data,'Universite Adi')\n",
    "lower_string_in_column(test_data,'Universite Adi')"
   ]
  },
  {
   "cell_type": "code",
   "execution_count": 40,
   "id": "f33abf13-26c9-43d2-92be-ced241aa96b0",
   "metadata": {},
   "outputs": [
    {
     "data": {
      "text/plain": [
       "372"
      ]
     },
     "execution_count": 40,
     "metadata": {},
     "output_type": "execute_result"
    }
   ],
   "source": [
    "len(train_data[train_data['Universite Adi']=='diğer'].index)"
   ]
  },
  {
   "cell_type": "code",
   "execution_count": 41,
   "id": "c6445bf9-3e38-49b2-85a9-7b503fae6d80",
   "metadata": {},
   "outputs": [],
   "source": [
    "train_data['Universite Adi'] =train_data['Universite Adi'] .replace('diğer',train_data['Universite Adi'].mode()[0])\n",
    "fill_missing_value_in_columns_with_mode_value(train_data,'Universite Adi')"
   ]
  },
  {
   "cell_type": "markdown",
   "id": "85c04f00-2301-4b86-8d48-2466343aabda",
   "metadata": {
    "jp-MarkdownHeadingCollapsed": true
   },
   "source": [
    "### Universite Turu"
   ]
  },
  {
   "cell_type": "code",
   "execution_count": 42,
   "id": "16797839-6f14-4ab8-9a7b-9b2228e2c0f0",
   "metadata": {},
   "outputs": [
    {
     "name": "stdout",
     "output_type": "stream",
     "text": [
      "Train Data Uniqueness\n",
      "['Özel' 'Devlet' 'DEVLET' 'ÖZEL' nan]\n",
      "--------------------\n",
      "Test Data Uniqueness\n",
      "['Devlet' 'Özel']\n",
      "---------------------\n",
      "---------------------\n",
      "Train Data Isna()\n",
      "255\n",
      "---------------------\n",
      "Test Data Isna()\n",
      "0\n"
     ]
    }
   ],
   "source": [
    "check_column_in_train_test(train_data,test_data,'Universite Turu')"
   ]
  },
  {
   "cell_type": "code",
   "execution_count": 43,
   "id": "f79aa62e-a381-47fb-9e68-aa378bb8c48b",
   "metadata": {},
   "outputs": [],
   "source": [
    "lower_string_in_column(train_data,'Universite Turu')\n",
    "lower_string_in_column(test_data,'Universite Turu')"
   ]
  },
  {
   "cell_type": "code",
   "execution_count": 44,
   "id": "bacb83f2-7ade-425f-9c5e-7c3d5f47c0eb",
   "metadata": {},
   "outputs": [],
   "source": [
    "fill_missing_value_in_columns_with_mode_value(train_data,'Universite Turu')"
   ]
  },
  {
   "cell_type": "markdown",
   "id": "21a20849-b026-40a0-a5f1-31ffe652f4a7",
   "metadata": {},
   "source": [
    "### Burs Aliyor mu?"
   ]
  },
  {
   "cell_type": "code",
   "execution_count": 45,
   "id": "32eac505-d959-4554-919c-e60206ffc328",
   "metadata": {},
   "outputs": [
    {
     "name": "stdout",
     "output_type": "stream",
     "text": [
      "Train Data Uniqueness\n",
      "['Evet' 'Hayır' 'hayır' 'evet' 'EVET']\n",
      "--------------------\n",
      "Test Data Uniqueness\n",
      "['Hayır' 'Evet']\n",
      "---------------------\n",
      "---------------------\n",
      "Train Data Isna()\n",
      "0\n",
      "---------------------\n",
      "Test Data Isna()\n",
      "0\n"
     ]
    }
   ],
   "source": [
    "check_column_in_train_test(train_data,test_data,'Burs Aliyor mu?')"
   ]
  },
  {
   "cell_type": "code",
   "execution_count": 46,
   "id": "f1363f72-e4a5-4e58-ad1e-ee17682a1eec",
   "metadata": {},
   "outputs": [],
   "source": [
    "lower_string_in_column(train_data,'Burs Aliyor mu?')\n",
    "lower_string_in_column(test_data,'Burs Aliyor mu?')"
   ]
  },
  {
   "cell_type": "markdown",
   "id": "c2d5df2c-a9ab-41af-9cdc-5ecd90ce593c",
   "metadata": {
    "jp-MarkdownHeadingCollapsed": true
   },
   "source": [
    "### Bölüm"
   ]
  },
  {
   "cell_type": "code",
   "execution_count": 47,
   "id": "e33c9da3-eaf4-400b-8d85-340dfae8aaab",
   "metadata": {},
   "outputs": [
    {
     "name": "stdout",
     "output_type": "stream",
     "text": [
      "Train Data Uniqueness\n",
      "['Bilgisayar Muhendisligi' 'Elektrik Elektronik Mühendisliği'\n",
      " 'Finans Yönetimi ve Pazarlama' ... 'Yiyecek ve İçecek İşletmeciliği'\n",
      " 'İslam İktisadı ve Finans' 'Nanoteknoloji Mühendisliği']\n",
      "--------------------\n",
      "Test Data Uniqueness\n",
      "['Sosyal Hizmet' 'Uluslararası İlişkiler' 'Diğer' 'İslami İlimler'\n",
      " 'İşletme' 'Bilgisayar Mühendisliği' 'Hemşirelik' 'Çocuk Gelişimi'\n",
      " 'İlahiyat' 'Almanca Öğretmenliği' 'İlköğretim Matematik Öğretmenliği'\n",
      " 'Metalurji ve Malzeme Mühendisliği' 'Endüstri Mühendisliği'\n",
      " 'Bitki Koruma' 'Hukuk' 'Matematik' 'İktisat'\n",
      " 'Elektrik-Elektronik Mühendisliği' 'Tıp' 'Psikoloji'\n",
      " 'Hemşirelik ve Sağlık Hizmetleri' 'Özel Eğitim Öğretmenliği'\n",
      " 'Biyomühendislik' 'Beden Eğitimi ve Spor Öğretmenliği'\n",
      " 'Rehberlik ve Psikolojik Danışmanlık' 'Okul Öncesi Öğretmenliği'\n",
      " 'Hidrojeoloji Mühendisliği' 'Bilişim Sistemleri Mühendisliği'\n",
      " 'Moleküler Biyoloji ve Genetik' 'Bilgisayar Bilimi ve Mühendisliği'\n",
      " 'Yazılım Mühendisliği' 'İnşaat Mühendisliği' 'Sosyoloji' 'Diş Hekimliği'\n",
      " 'Beslenme ve Diyetetik' 'Uçak Mühendisliği' 'Eczacılık'\n",
      " 'İngiliz Dili ve Edebiyatı' 'Elektronik ve Haberleşme Mühendisliği'\n",
      " 'Türk Dili ve Edebiyatı' 'Uluslararası Ticaret ve İşletmecilik'\n",
      " 'Halkla İlişkiler ve Reklamcılık' 'Biyomedikal Mühendisliği'\n",
      " 'Şehir ve Bölge Planlama' 'Müzik Öğretmenliği' 'Sağlık Yönetimi'\n",
      " 'Türk Dili ve Edebiyatı Öğretmenliği' 'Yönetim Bilimleri'\n",
      " 'Makine Mühendisliği' 'Endüstriyel Tasarım' 'Fen Bilgisi Öğretmenliği'\n",
      " 'Sosyal Bilgiler Öğretmenliği' 'Acil Yardım ve Afet Yönetimi'\n",
      " 'Siyaset Bilimi ve Kamu Yönetimi' 'Ebelik' 'Muhasebe'\n",
      " 'Bilişim Sistemleri ve Teknolojileri' 'Spor Yöneticiliği'\n",
      " 'Matematik Mühendisliği' 'Gıda Mühendisliği' 'Yönetim Bilişim Sistemleri'\n",
      " 'Uluslararası Ticaret' 'Antrenörlük Eğitimi'\n",
      " 'Bilgisayar ve Yazılım Mühendisliği' 'Fizyoterapi ve Rehabilitasyon'\n",
      " 'Siyaset Bilimi ve Uluslararası İlişkiler' 'Havacılık Yönetimi'\n",
      " 'Fizik Mühendisliği' 'Dijital Oyun Tasarımı' 'Jeofizik Mühendisliği'\n",
      " 'Mekatronik Mühendisliği' 'Kontrol ve Otomasyon Mühendisliği'\n",
      " 'Yaban Hayatı Ekolojisi ve Yönetimi' 'Çevre Mühendisliği' 'Odyoloji'\n",
      " 'İşletme Mühendisliği' 'İngilizce Öğretmenliği' 'Kimya'\n",
      " 'Endüstriyel Tasarım Mühendisliği' 'Pazarlama' 'Fizik'\n",
      " 'Turizm İşletmeciliği' 'Kimya Öğretmenliği' 'Restorasyon ve Konservasyon'\n",
      " 'Ekonomi' 'Kimya Mühendisliği' 'Enerji Sistemleri Mühendisliği'\n",
      " 'Biyoloji' 'Gastronomi ve Mutfak Sanatları' 'Tarih' 'Siyaset Bilimi'\n",
      " 'Uzay Mühendisliği' 'Bilgisayar ve Öğretim Teknolojileri Öğretmenliği'\n",
      " 'Sanat Tarihi' 'Görsel Sanatlar Öğretmenliği' 'Enerji Mühendisliği'\n",
      " 'Lojistik Yönetimi' 'Görsel İletişim Tasarımı'\n",
      " 'Petrol ve Doğalgaz Mühendisliği' 'Radyo,Televizyon ve Sinema'\n",
      " 'İletişim Sanatları' 'İletişim ve Tasarım' 'Elektrik Mühendisliği'\n",
      " 'Müzikoloji' 'Çalışma Ekonomisi ve Endüstri İlişkileri' 'Mimarlık'\n",
      " 'Antrenörlük' 'Elektronik Mühendisliği' 'Veteriner' 'Spor Bilimleri'\n",
      " 'İstatistik' 'Muhasebe ve Finans Yönetimi' 'Peyzaj Mimarlığı'\n",
      " 'Medya ve Görsel Sanatlar' 'Genetik ve Biyomühendislik' 'Maliye'\n",
      " 'Adli Bilişim Mühendisliği' 'Toprak Bilimi ve Bitki Besleme'\n",
      " 'Gemi İnşaatı ve Gemi Makineleri Mühendisliği'\n",
      " 'Uçak Gövde ve Motor Bakımı' 'Uluslararası Ticaret ve Finansman'\n",
      " 'Matematik Öğretmenliği' 'Türkçe Öğretmenliği' 'Rekreasyon Yönetimi'\n",
      " 'İmalat Mühendisliği' 'Orman Mühendisliği' 'Halkla İlişkiler ve Tanıtım'\n",
      " 'Tarım Makineleri ve Teknolojileri Mühendisliği' 'Coğrafya'\n",
      " 'İşletme-Ekonomi' 'Adli Bilimler' 'Mütercim-Tercümanlık (İngilizce)'\n",
      " 'İletişim Tasarımı' 'Felsefe' 'İç Mimarlık' 'Arap Dili ve Edebiyatı'\n",
      " 'Malzeme Bilimi ve Mühendisliği'\n",
      " 'Seyahat İşletmeciliği ve Turizm Rehberliği' 'Geomatik Mühendisliği'\n",
      " 'Çizgi Film ve Animasyon' 'Gümrük İşletme' 'Bahçe Bitkileri'\n",
      " 'Sinema ve Televizyon' 'Uluslararası İşletmecilik ve Ticaret'\n",
      " 'Grafik Tasarım' 'Gerontoloji' 'Fransız Dili ve Edebiyatı'\n",
      " 'Grafik Tasarımı' 'Reklamcılık' 'İşletme Enformatiği'\n",
      " 'Bankacılık ve Finans' 'Gıda Teknolojisi' 'Sınıf Öğretmenliği'\n",
      " 'Ekonomi ve Finans' 'İç Mimarlık ve Çevre Tasarımı'\n",
      " 'Bankacılık ve Sigortacılık' 'Havacılık ve Uzay Mühendisliği'\n",
      " 'Uçak Bakım ve Onarım' 'Dil ve Konuşma Terapisi'\n",
      " 'İnsan Kaynakları Yönetimi' 'Matematik ve Bilgisayar Bilimleri'\n",
      " 'Yazılım Geliştirme' 'Radyo ve Televizyon' 'Biyokimya' 'Kamu Yönetimi'\n",
      " 'Aktüerya Bilimleri' 'Lojistik' 'Müzik' 'Mütercim-Tercümanlık (Arapça)'\n",
      " 'Gazetecilik' 'Bilim Tarihi' 'Turizm Rehberliği'\n",
      " 'Nanoteknoloji Mühendisliği' 'Arapça Mütercim ve Tercümanlık'\n",
      " 'Tarım Ekonomisi' 'Ağaç İşleri Endüstri Mühendisliği'\n",
      " 'Fransızca Mütercim veTercümanlık' 'Uluslararası Ticaret ve Lojistik'\n",
      " 'Fransızca Öğretmenliği' 'Moleküler Biyoteknoloji' 'Bilgisayar Bilimleri'\n",
      " 'İşletme Yönetimi' 'Denizcilik İşletmeleri Yönetimi'\n",
      " 'İş Sağlığı ve Güvenliği' 'Harita Mühendisliği' 'Uçak Gövde-Motor Bakım'\n",
      " 'Kültür ve İletişim Bilimleri' 'Yerel Yönetimler'\n",
      " 'Bilgi Güvenliği Teknolojisi' 'Tarla Bitkileri' 'Gastronomi'\n",
      " 'Maden Mühendisliği' 'Basım Teknolojileri' 'Alman Dili ve Edebiyatı'\n",
      " 'Bilgisayar Teknolojisi ve Bilişim Sistemleri' 'Yeni Medya ve İletişim'\n",
      " 'Resim-İş Öğretmenliği' 'Yapay Zeka Mühendisliği'\n",
      " 'Muhasebe Bilgi Sistemleri' 'Grafik' 'İngilizce Mütercim ve Tercümanlık'\n",
      " 'Nükleer Enerji Mühendisliği' 'Rekreasyon'\n",
      " 'Farsça Mütercim ve Tercümanlık' 'Mütercim ve Tercümanlık' 'Ortez-Protez'\n",
      " 'Girişimcilik' 'Ekonometri' 'Perfüzyon' 'Rus Dili ve Edebiyatı'\n",
      " 'Amerikan Kültürü ve Edebiyatı' 'Finans ve Bankacılık' 'Halkla İlişkiler'\n",
      " 'Görsel Sanatlar' 'Yeni Medya' 'Tapu Kadastro' 'Jeoloji Mühendisliği'\n",
      " 'Tekstil' 'Uzay Bilimleri ve Teknolojileri'\n",
      " 'Sigortacılık ve Sosyal Güvenlik' 'Cevher Hazırlama Mühendisliği'\n",
      " 'Deniz Ulaştırma İşletme Mühendisliği' 'Tekstil ve Moda Tasarımı'\n",
      " 'Müzik Teknolojileri' 'Fizik Öğretmenliği'\n",
      " 'Moleküler Biyoloji, Genetik ve Biyomühendislik' 'Biyoteknoloji'\n",
      " 'İstatistik ve Bilgisayar Bilimleri'\n",
      " 'Gemi ve Deniz Teknolojisi Mühendisliği'\n",
      " 'Havacılık Elektrik ve Elektroniği' 'Resim'\n",
      " 'Hayvansal Üretim ve Teknolojileri' 'Tekstil Mühendisliği'\n",
      " 'Endüstri Ürünleri Tasarımı' 'Optik ve Akustik Mühendisliği'\n",
      " 'Arapça Öğretmenliği' 'Heykel' 'Çağdaş Türk Lehçeleri ve Edebiyatları'\n",
      " 'Arkeoloji' 'Endüstri ve Sistem Mühendisliği' 'Biyoloji Öğretmenliği'\n",
      " 'Uluslararası Çalışmalar' 'Yeni Medya ve Gazetecilik'\n",
      " 'Otomotiv Mühendisliği' 'Sanat Yönetimi' 'Ses Eğitimi' 'Zootekni'\n",
      " 'Tarımsal Genetik Mühendisliği' 'Bilgi ve Belge Yönetimi'\n",
      " 'Meteoroloji Mühendisliği' 'İletişim Bilimleri'\n",
      " 'Elektronik Ticaret ve Teknoloji Yönetimi' 'Sermaye Piyasası'\n",
      " 'Mütercim Tercümanlık (Almanca/İngilizce)'\n",
      " 'Uluslararası İşletme Yönetimi' 'Almanca Mütercim ve Tercümanlık'\n",
      " 'Görsel İletişim' 'Film Tasarım ve Yazarlık' 'Müzik Bilimleri'\n",
      " 'Biyosistem Mühendisliği' 'İslam İktisadı ve Finans'\n",
      " 'Malzeme Bilimi ve Teknolojileri' 'Su Ürünleri Mühendisliği'\n",
      " 'Astronomi ve Uzay Bilimleri' 'Rusça Mütercim ve Tercümanlık'\n",
      " 'Gayrimenkul Geliştirme ve Yönetimi' 'Tıp Mühendisliği' 'Piyano'\n",
      " 'Uluslararası Finans ve Bankacılık' 'Kurgu-Ses ve Görüntü Yönetimi'\n",
      " 'Görsel Sanatlar ve Görsel İletişim Tasarımı' 'Medya ve İletişim'\n",
      " 'Çalgı Eğitimi' 'Televizyon Haberciliği ve Programcılığı'\n",
      " 'Basın ve Yayın' 'Moda ve Tekstil Tasarımı' 'Antropoloji' 'İletişim'\n",
      " 'Süt Teknolojisi' 'Tarih Öğretmenliği'\n",
      " 'Malzeme Bilimi ve Nanoteknoloji Mühendisliği' 'Sahne Tasarımı'\n",
      " 'Turizm İşletmeciliği ve Otelcilik' 'Eski Yunan Dili ve Edebiyatı'\n",
      " 'Fotonik' 'Elektronik Ticaret ve Yönetimi' 'İşletme Bilgi Yönetimi'\n",
      " 'Film Tasarımı ve Yazarlığı' 'İletişim Tasarımı ve Yönetimi'\n",
      " 'Raylı Sistemler Mühendisliği' 'Japonca Öğretmenliği'\n",
      " 'Uluslararası Ticaret ve Finans' 'Türk Müziği Temel Bilimler'\n",
      " 'Güvenlik Yönetimi (Askeri Yükseköğretim Kurumları)'\n",
      " 'Uzay ve Uydu Mühendisliği' 'Biyoteknoloji ve Moleküler Biyoloji'\n",
      " 'Su Bilimleri ve Mühendisliği' 'Yapay Zeka ve Veri Mühendisliği'\n",
      " 'Balıkçılık Teknolojisi Mühendisliği' 'Kimya-Biyoloji Mühendisliği'\n",
      " 'Türk Halkbilimi' 'Uluslararası Girişimcilik' 'Uçak ve Uzay Mühendisliği'\n",
      " 'Ulaştırma ve Lojistik' 'Uluslararası Finans' 'Dilbilim'\n",
      " 'Engellilerde Egzersiz ve Spor Bilimleri' 'Çeviribilimi' 'Fotoğraf'\n",
      " 'Orman Endüstrisi Mühendisliği' 'Ergoterapi' 'Temel Bilimler'\n",
      " 'Geleneksel Türk Sanatları' 'Uluslararası Ticaret ve Lojistik Yönetimi'\n",
      " 'İletişim ve Tasarımı' 'Mütercim-Tercümanlık' 'Takı Tasarımı'\n",
      " 'Müzik (Piyano, Yaylı Çalgılar, Nefesli Çalgılar ve Vurma Çalgılar, Şan, Teori-Kompozisyon)'\n",
      " 'Seramik' 'Ortez ve Protez' 'Oyunculuk' 'Aktüerya ve Risk Yönetimi'\n",
      " 'Karşılaştırmalı Edebiyat' 'Mekatronik Sistemler Mühendisliği'\n",
      " 'Çeviribilim' 'Egzersiz ve Spor Bilimleri' 'Moda Tasarımı'\n",
      " 'Sanat ve Kültür Yönetimi' 'İngiliz Dilbilimi' 'Bankacılık' 'Türk Müziği'\n",
      " 'Kore Dili ve Edebiyatı' 'Gemi Makineleri İşletme Mühendisliği'\n",
      " 'Azerbaycan Türkçesi ve Edebiyatı'\n",
      " 'Mütercim Tercümanlık (İngilizce, Fransızca, Türkçe)'\n",
      " 'Reklam Tasarımı ve İletişimi' 'Protohistorya ve Önasya Arkeolojisi'\n",
      " 'Biyoenformatik ve Genetik' 'Coğrafya Öğretmenliği'\n",
      " 'Organik Tarım İşletmeciliği' 'Uluslararası Lojistik ve Taşımacılık'\n",
      " 'Grafik Sanatları' 'Aile ve Tüketici Bilimleri' 'Çin Dili ve Edebiyatı'\n",
      " 'Turizm ve Otel İşletmeciliği' 'Pilotaj' 'Muhasebe ve Denetim'\n",
      " 'Japon Dili ve Edebiyatı' 'İspanyol Dili ve Edebiyatı']\n",
      "---------------------\n",
      "---------------------\n",
      "Train Data Isna()\n",
      "231\n",
      "---------------------\n",
      "Test Data Isna()\n",
      "0\n"
     ]
    }
   ],
   "source": [
    "check_column_in_train_test(train_data,test_data,'Bölüm')"
   ]
  },
  {
   "cell_type": "code",
   "execution_count": 48,
   "id": "e1473ab2-9a0e-4dba-9be7-5838915d210b",
   "metadata": {},
   "outputs": [],
   "source": [
    "lower_string_in_column(train_data,'Bölüm')\n",
    "lower_string_in_column(test_data,'Bölüm')"
   ]
  },
  {
   "cell_type": "code",
   "execution_count": 49,
   "id": "311cc678-f03b-4593-abb8-8281af90689f",
   "metadata": {},
   "outputs": [],
   "source": [
    "train_data['Bölüm']=train_data['Bölüm'].fillna('diğer')"
   ]
  },
  {
   "cell_type": "markdown",
   "id": "70477adc-3029-4d59-9ff9-0d098cbee383",
   "metadata": {},
   "source": [
    "### Universite Kacinci Sinif"
   ]
  },
  {
   "cell_type": "code",
   "execution_count": 50,
   "id": "8f2b594e-3834-4288-a443-4600d7793ab6",
   "metadata": {},
   "outputs": [
    {
     "name": "stdout",
     "output_type": "stream",
     "text": [
      "Train Data Uniqueness\n",
      "['3' '1' nan '2' '4' 'Hazırlık' 'Mezun' 'hazırlık' 'Yüksek Lisans' '5' '6'\n",
      " 'Tez' '0']\n",
      "--------------------\n",
      "Test Data Uniqueness\n",
      "['1' '3' '2' '4' 'Hazırlık' '5' '6']\n",
      "---------------------\n",
      "---------------------\n",
      "Train Data Isna()\n",
      "374\n",
      "---------------------\n",
      "Test Data Isna()\n",
      "0\n"
     ]
    }
   ],
   "source": [
    "check_column_in_train_test(train_data,test_data,'Universite Kacinci Sinif')"
   ]
  },
  {
   "cell_type": "code",
   "execution_count": 51,
   "id": "648d9beb-3782-483b-825c-84af9cb7d7a9",
   "metadata": {},
   "outputs": [],
   "source": [
    "lower_string_in_column(train_data,'Universite Kacinci Sinif')\n",
    "lower_string_in_column(test_data,'Universite Kacinci Sinif')"
   ]
  },
  {
   "cell_type": "code",
   "execution_count": 52,
   "id": "65e8c579-0b8d-46f8-ae66-69561d668ac3",
   "metadata": {},
   "outputs": [],
   "source": [
    "standardized_uni_classes = {\n",
    "    '0':'hazırlık'    \n",
    "}\n",
    "train_data['Universite Kacinci Sinif'] = train_data['Universite Kacinci Sinif'].replace(standardized_uni_classes)"
   ]
  },
  {
   "cell_type": "code",
   "execution_count": 53,
   "id": "1d2bcccf-6a05-401d-ac5f-191d578f24af",
   "metadata": {},
   "outputs": [],
   "source": [
    "uni_kacinci_sinif_ordinal_mapping = {\n",
    "    'hazırlık': 0,\n",
    "    '1': 1,\n",
    "    '2': 2,\n",
    "    '3': 3,\n",
    "    '4': 4,\n",
    "    '5': 5,\n",
    "    '6': 6,\n",
    "    'mezun': 7,\n",
    "    'yüksek lisans': 8,\n",
    "    'tez': 9\n",
    "}"
   ]
  },
  {
   "cell_type": "code",
   "execution_count": 54,
   "id": "c801ff79-66dd-445b-b704-3d61d922e746",
   "metadata": {},
   "outputs": [
    {
     "name": "stderr",
     "output_type": "stream",
     "text": [
      "C:\\Users\\Naz\\AppData\\Local\\Temp\\ipykernel_13624\\1213342546.py:1: FutureWarning: Downcasting behavior in `replace` is deprecated and will be removed in a future version. To retain the old behavior, explicitly call `result.infer_objects(copy=False)`. To opt-in to the future behavior, set `pd.set_option('future.no_silent_downcasting', True)`\n",
      "  train_data['Universite Kacinci Sinif'] = train_data['Universite Kacinci Sinif'].replace(uni_kacinci_sinif_ordinal_mapping)\n",
      "C:\\Users\\Naz\\AppData\\Local\\Temp\\ipykernel_13624\\1213342546.py:2: FutureWarning: Downcasting behavior in `replace` is deprecated and will be removed in a future version. To retain the old behavior, explicitly call `result.infer_objects(copy=False)`. To opt-in to the future behavior, set `pd.set_option('future.no_silent_downcasting', True)`\n",
      "  test_data['Universite Kacinci Sinif'] = test_data['Universite Kacinci Sinif'].replace(uni_kacinci_sinif_ordinal_mapping)\n"
     ]
    }
   ],
   "source": [
    "train_data['Universite Kacinci Sinif'] = train_data['Universite Kacinci Sinif'].replace(uni_kacinci_sinif_ordinal_mapping)\n",
    "test_data['Universite Kacinci Sinif'] = test_data['Universite Kacinci Sinif'].replace(uni_kacinci_sinif_ordinal_mapping)\n",
    "fill_missing_value_in_columns_with_mode_value(train_data,'Universite Kacinci Sinif' )\n"
   ]
  },
  {
   "cell_type": "markdown",
   "id": "639179fa-2598-4276-b8e9-3842ac197712",
   "metadata": {},
   "source": [
    "### Üniversite Not Ortalaması"
   ]
  },
  {
   "cell_type": "code",
   "execution_count": 55,
   "id": "9d367dc2-a2e0-4110-867a-f49ff611ed61",
   "metadata": {},
   "outputs": [
    {
     "name": "stdout",
     "output_type": "stream",
     "text": [
      "Train Data Uniqueness\n",
      "['3.50-3' '3.00-2.50' nan '2.50 ve altı' '3.00 - 4.00' '3.50 - 4.00'\n",
      " '3.00 - 3.50' '2.50 -3.00' 'Ortalama bulunmuyor' 'ORTALAMA BULUNMUYOR'\n",
      " '4-3.5' '2.50 - 3.00' '2.00 - 2.50' '1.00 - 2.50' 'Not ortalaması yok'\n",
      " '4.0-3.5' '3.00 - 3.49' '2.50 - 2.99' '1.80 - 2.49' 'Hazırlığım'\n",
      " '0 - 1.79']\n",
      "--------------------\n",
      "Test Data Uniqueness\n",
      "['2.50 - 2.99' 'Hazırlığım' '3.00 - 3.49' '1.80 - 2.49' '3.50 - 4.00'\n",
      " '0 - 1.79']\n",
      "---------------------\n",
      "---------------------\n",
      "Train Data Isna()\n",
      "2753\n",
      "---------------------\n",
      "Test Data Isna()\n",
      "0\n"
     ]
    }
   ],
   "source": [
    "check_column_in_train_test(train_data,test_data,'Universite Not Ortalamasi')"
   ]
  },
  {
   "cell_type": "code",
   "execution_count": 56,
   "id": "21ed06b9-25d3-40d1-a082-351d1b922d43",
   "metadata": {},
   "outputs": [],
   "source": [
    "uni_not_ort_map = {\n",
    "    '4.00 - 3.50': 9,\n",
    "    '3.50 - 4.00': 9,\n",
    "    '4.0-3.5': 9,\n",
    "    '4-3.5': 9,\n",
    "    '3.00 - 4.00':8,\n",
    "    '3.50 - 3.00': 8,\n",
    "    '3.00 - 3.50': 8,\n",
    "    '3.00 - 3.49': 8,\n",
    "    '3.00 - 2.50': 7,\n",
    "    '3.00-2.50':7,\n",
    "    '3.50-3': 7,\n",
    "    '2.50 - 3.00': 6,\n",
    "    '2.50 -3.00': 6,\n",
    "    '2.50 - 2.99': 6,\n",
    "    '2.00 - 2.50': 5,\n",
    "    '2.50 ve altı': 5,\n",
    "    '1.80 - 2.49': 4,\n",
    "    '1.00 - 2.50': 4,\n",
    "    '0 - 1.79': 3,\n",
    "     'not ortalaması yok': -1,\n",
    "    'ortalama bulunmuyor': -1,\n",
    "    'hazırlığım': -1\n",
    "}"
   ]
  },
  {
   "cell_type": "code",
   "execution_count": 57,
   "id": "100e1786-33c5-4827-bd13-c938f62fd055",
   "metadata": {},
   "outputs": [],
   "source": [
    "lower_string_in_column(train_data,'Universite Not Ortalamasi')\n",
    "lower_string_in_column(test_data,'Universite Not Ortalamasi')"
   ]
  },
  {
   "cell_type": "code",
   "execution_count": 58,
   "id": "739f1a20-b788-4643-a55d-c91f6dc1bc5a",
   "metadata": {},
   "outputs": [
    {
     "name": "stderr",
     "output_type": "stream",
     "text": [
      "C:\\Users\\Naz\\AppData\\Local\\Temp\\ipykernel_13624\\3375235560.py:1: FutureWarning: Downcasting behavior in `replace` is deprecated and will be removed in a future version. To retain the old behavior, explicitly call `result.infer_objects(copy=False)`. To opt-in to the future behavior, set `pd.set_option('future.no_silent_downcasting', True)`\n",
      "  train_data['Universite Not Ortalamasi'] = train_data['Universite Not Ortalamasi'].replace(uni_not_ort_map)\n",
      "C:\\Users\\Naz\\AppData\\Local\\Temp\\ipykernel_13624\\3375235560.py:3: FutureWarning: Downcasting behavior in `replace` is deprecated and will be removed in a future version. To retain the old behavior, explicitly call `result.infer_objects(copy=False)`. To opt-in to the future behavior, set `pd.set_option('future.no_silent_downcasting', True)`\n",
      "  test_data['Universite Not Ortalamasi'] = test_data['Universite Not Ortalamasi'].replace(uni_not_ort_map)\n"
     ]
    }
   ],
   "source": [
    "train_data['Universite Not Ortalamasi'] = train_data['Universite Not Ortalamasi'].replace(uni_not_ort_map)\n",
    "fill_missing_value_in_columns_with_mode_value(train_data,'Universite Not Ortalamasi')\n",
    "test_data['Universite Not Ortalamasi'] = test_data['Universite Not Ortalamasi'].replace(uni_not_ort_map)"
   ]
  },
  {
   "cell_type": "markdown",
   "id": "e59a9d16-d671-49c7-8a38-4d5991e6b7ba",
   "metadata": {
    "jp-MarkdownHeadingCollapsed": true
   },
   "source": [
    "### Daha Once Baska Bir Universiteden Mezun Olmus"
   ]
  },
  {
   "cell_type": "code",
   "execution_count": 59,
   "id": "489415dc-a1e0-4503-9bf9-515df03b505b",
   "metadata": {},
   "outputs": [
    {
     "name": "stdout",
     "output_type": "stream",
     "text": [
      "Train Data Uniqueness\n",
      "['Hayır' 'Evet' nan]\n",
      "--------------------\n",
      "Test Data Uniqueness\n",
      "[nan]\n",
      "---------------------\n",
      "---------------------\n",
      "Train Data Isna()\n",
      "37336\n",
      "---------------------\n",
      "Test Data Isna()\n",
      "11049\n"
     ]
    }
   ],
   "source": [
    "check_column_in_train_test(train_data,test_data, 'Daha Once Baska Bir Universiteden Mezun Olmus')"
   ]
  },
  {
   "cell_type": "code",
   "execution_count": 60,
   "id": "4c227ee8-7b96-4fc8-9be1-02a0e909b744",
   "metadata": {},
   "outputs": [],
   "source": [
    "train_data,test_data=drop_columns_from_train_test(train_data,test_data, 'Daha Once Baska Bir Universiteden Mezun Olmus')"
   ]
  },
  {
   "cell_type": "markdown",
   "id": "403fff8e-329a-41d2-bc91-add022b62d0d",
   "metadata": {
    "jp-MarkdownHeadingCollapsed": true
   },
   "source": [
    "### Lise Adi"
   ]
  },
  {
   "cell_type": "code",
   "execution_count": 61,
   "id": "1abdbab9-2444-472e-b314-3984f01402ea",
   "metadata": {},
   "outputs": [
    {
     "name": "stdout",
     "output_type": "stream",
     "text": [
      "Train Data Uniqueness\n",
      "['Ankara Ataturk Anadolu Lisesi' 'Betül Can Anadolu Lisesi' 'Batem' ...\n",
      " 'BAĞCILAR EDİP İPLİK MESLEKİ VE TEKNİK ANADOLU LİSESİ'\n",
      " 'Ahmet Vefik paşa Anadolu lisesi'\n",
      " 'Samsun Terme Karadeniz mesleki teknik Anadolu lisesi']\n",
      "--------------------\n",
      "Test Data Uniqueness\n",
      "['Amasya Suluova Şehit Muharrem Saygun Anadolu Lisesi'\n",
      " 'Açık Öğretim Lisesi' 'Özel Aşama anadolu lisesi' ...\n",
      " 'mehmet rüştü uzel mesleki teknik anadolu lisesi'\n",
      " 'Prof. Dr. Ömer Dinçer Kız Anadolu İmam Hatip Lisesi' 'Nokta tek koleji']\n",
      "---------------------\n",
      "---------------------\n",
      "Train Data Isna()\n",
      "384\n",
      "---------------------\n",
      "Test Data Isna()\n",
      "0\n"
     ]
    }
   ],
   "source": [
    "check_column_in_train_test(train_data,test_data,'Lise Adi')"
   ]
  },
  {
   "cell_type": "code",
   "execution_count": 62,
   "id": "27f34b37-5437-4bdb-9adf-b5156decf3c3",
   "metadata": {},
   "outputs": [],
   "source": [
    "lower_string_in_column(train_data,'Lise Adi')\n",
    "lower_string_in_column(test_data,'Lise Adi')"
   ]
  },
  {
   "cell_type": "code",
   "execution_count": 63,
   "id": "5be8843b-2a98-4f87-be2f-850956c3e1c4",
   "metadata": {},
   "outputs": [],
   "source": [
    "mode_value = train_data['Lise Adi'].mode()[0]\n",
    "train_data['Lise Adi'] = train_data['Lise Adi'].replace('------', mode_value)\n"
   ]
  },
  {
   "cell_type": "code",
   "execution_count": 64,
   "id": "d3c81146-804c-47a7-a3a9-fd87e9cdf1ec",
   "metadata": {},
   "outputs": [],
   "source": [
    "fill_missing_value_in_columns_with_mode_value(train_data,'Lise Adi')"
   ]
  },
  {
   "cell_type": "markdown",
   "id": "0374f264-089c-418b-8f56-8097ac301bd9",
   "metadata": {
    "jp-MarkdownHeadingCollapsed": true
   },
   "source": [
    "### Lise Adi Diger"
   ]
  },
  {
   "cell_type": "code",
   "execution_count": 65,
   "id": "63562497-712c-4207-9973-1580d05dc528",
   "metadata": {},
   "outputs": [
    {
     "name": "stdout",
     "output_type": "stream",
     "text": [
      "Train Data Uniqueness\n",
      "[nan 'İstanbul Alman Lisesi' 'şehzade mehmet koleji' ...\n",
      " 'Gençosman İmkb tml' 'nefise andicen lisesi' 'büyük çiğli anadolu lisesi']\n",
      "--------------------\n",
      "Test Data Uniqueness\n",
      "[nan]\n",
      "---------------------\n",
      "---------------------\n",
      "Train Data Isna()\n",
      "59933\n",
      "---------------------\n",
      "Test Data Isna()\n",
      "11049\n"
     ]
    }
   ],
   "source": [
    "\n",
    "check_column_in_train_test(train_data,test_data,'Lise Adi Diger')"
   ]
  },
  {
   "cell_type": "code",
   "execution_count": 66,
   "id": "e53c0d9f-7930-43e6-ad4c-530b1b8ed5d8",
   "metadata": {},
   "outputs": [],
   "source": [
    "train_data,test_data=drop_columns_from_train_test(train_data,test_data,'Lise Adi Diger')"
   ]
  },
  {
   "cell_type": "markdown",
   "id": "3ca5673c-419e-44e1-bcb4-4b1fa424d9dd",
   "metadata": {
    "jp-MarkdownHeadingCollapsed": true
   },
   "source": [
    "### Lise Sehir"
   ]
  },
  {
   "cell_type": "code",
   "execution_count": 67,
   "id": "c944975d-a2ad-485f-b4ed-f32b1b3fd2c4",
   "metadata": {},
   "outputs": [],
   "source": [
    "#check_column_in_train_test(train_data,test_data,'Lise Sehir')"
   ]
  },
  {
   "cell_type": "code",
   "execution_count": 68,
   "id": "89e9ec93-bf81-42a5-aa6f-1131b946c566",
   "metadata": {},
   "outputs": [],
   "source": [
    "lower_string_in_column(train_data,'Lise Sehir')\n",
    "lower_string_in_column(test_data,'Lise Sehir')"
   ]
  },
  {
   "cell_type": "code",
   "execution_count": 69,
   "id": "9a89a3e9-a3e9-4cb7-9928-7c3cd4cfb83e",
   "metadata": {},
   "outputs": [
    {
     "name": "stdout",
     "output_type": "stream",
     "text": [
      "Found 391 non-alpha entries.\n"
     ]
    }
   ],
   "source": [
    "train_data['Lise Sehir'] = train_data['Lise Sehir'].replace(sehirler_map)\n",
    "\n",
    "train_data['Lise Sehir'] =train_data['Lise Sehir'] .replace('------',train_data['Lise Sehir'].mode()[0])\n",
    "\n",
    "cleaned_lise_sehir_map=map_cleaned_data_into_column(train_data,'Lise Sehir')\n",
    "\n",
    "train_data['Lise Sehir'] = train_data['Lise Sehir'].replace(cleaned_lise_sehir_map)\n"
   ]
  },
  {
   "cell_type": "code",
   "execution_count": 70,
   "id": "4d3045f2-590e-46ad-a684-719b606eafaa",
   "metadata": {},
   "outputs": [],
   "source": [
    "fill_missing_value_in_columns_with_mode_value(train_data,'Lise Sehir')"
   ]
  },
  {
   "cell_type": "markdown",
   "id": "59b0eabe-1533-41c6-83de-811953a48af3",
   "metadata": {
    "jp-MarkdownHeadingCollapsed": true
   },
   "source": [
    "### Lise Turu"
   ]
  },
  {
   "cell_type": "code",
   "execution_count": 71,
   "id": "8a545f61-ecc2-49c5-b8d1-f03b0e304721",
   "metadata": {},
   "outputs": [],
   "source": [
    "#check_column_in_train_test(train_data,test_data,'Lise Turu')"
   ]
  },
  {
   "cell_type": "code",
   "execution_count": 72,
   "id": "728a1ecd-7ca5-4771-a4d0-b8bf9de21686",
   "metadata": {},
   "outputs": [],
   "source": [
    "lower_string_in_column(train_data,'Lise Turu')\n",
    "lower_string_in_column(test_data,'Lise Turu')"
   ]
  },
  {
   "cell_type": "code",
   "execution_count": 73,
   "id": "6b4b7061-f4d1-4e9d-9495-c5fac983d598",
   "metadata": {},
   "outputs": [],
   "source": [
    "lise_turu_map={\n",
    "    'meslek':'meslek lisesi',\n",
    "     'özel lisesi':'özel lise',\n",
    "     'özel':'özel lise',\n",
    "    'devlet':'anadolu lisesi'\n",
    "    \n",
    "}\n",
    "train_data['Lise Turu'] = train_data['Lise Turu'].replace(lise_turu_map)"
   ]
  },
  {
   "cell_type": "code",
   "execution_count": 74,
   "id": "cf8bc1d4-a426-446f-9e9b-de510bfe4262",
   "metadata": {},
   "outputs": [],
   "source": [
    "lise_turu_map_devlet_ozel={\n",
    "    'anadolu lisesi':'devlet',\n",
    "    'meslek lisesi':'devlet',\n",
    "    'fen lisesi':'devlet',\n",
    "     'düz lise':'devlet',\n",
    "    'i̇mam hatip lisesi':'devlet',\n",
    "    'diğer':'özel',\n",
    "     'özel lise':'özel'    \n",
    "   \n",
    "}\n",
    "train_data['Lise Turu'] = train_data['Lise Turu'].replace(lise_turu_map_devlet_ozel)"
   ]
  },
  {
   "cell_type": "code",
   "execution_count": 75,
   "id": "1fbf8cf4-7214-4455-8f44-d19a56ae7e7b",
   "metadata": {},
   "outputs": [],
   "source": [
    "fill_missing_value_in_columns_with_mode_value(train_data,'Lise Turu')"
   ]
  },
  {
   "cell_type": "markdown",
   "id": "97093a01-2cf8-4ab8-8aa3-2b46685c122b",
   "metadata": {
    "jp-MarkdownHeadingCollapsed": true
   },
   "source": [
    "### Lise Bölümü"
   ]
  },
  {
   "cell_type": "code",
   "execution_count": 76,
   "id": "568efae6-0c58-480a-a019-020e75b122c1",
   "metadata": {},
   "outputs": [
    {
     "name": "stdout",
     "output_type": "stream",
     "text": [
      "Train Data Uniqueness\n",
      "['MF' 'Elektirk' 'Sayısal' 'TM' 'EA' 'TS 1-2' 'Fen' 'Düz lise' 'sayısal'\n",
      " 'Elektrikli Ev Aletleri' 'EŞIT AĞIRLIK' 'TS' 'Eşit Ağırlık'\n",
      " 'Matematik - Fen' 'Fen matematik' 'Matematik Fen' 'Eşit ağırlık'\n",
      " 'türkçe ve matematik' 'KONAKLAMA VE SEYAHAT HİZMETLERİ' 'Esit Agirlik'\n",
      " 'Fen - Matematik' 'Türkçe - Matematik' 'esıt agırlık'\n",
      " 'Bilişim Teknolojileri' 'Tm' 'Fen-Matematik' 'Sayisal' 'Fen Bilimleri'\n",
      " 'türkçe-matematik' 'Sayisal MF' 'Türkçe-Matematik' 'tm' 'matematik-fen'\n",
      " 'yok' '1 yıl TS , 2 yıl TM' 'Sözel' 'Matematik-Fen' 'esit agirlik'\n",
      " 'Turkce matematil' 'Mf' 'Sosyal bilimler' 'EŞİT AĞIRLIK' 'FEN-MATEMATİK'\n",
      " 'FEN BİLİMLERİ' 'Sayısal Matematik - Fen Bilimleri MF' 'Matematik/Fen'\n",
      " 'SAYISAL' 'eşit ağırlık' 'FM' 'eşit agırlık' 'sözel' 'Türkçe matematik'\n",
      " 'eşit ağirlik' 'Grafik Ve Fotoğraf' 'fen' 'türkçe matematik'\n",
      " 'TMSSosyal Bilimler Liselerine Özel ayrıca IBDP denilen International Baccalaureate Diploma Programme adında uluslararası ekstra bir diplomam daha var'\n",
      " 'SPOR' 'Türkçe Matematik' 'Halkla İlişkiler ve Organizasyon' 'mf'\n",
      " 'sayisal' '-' 'Yabancı Dİl' 'Fen bölümü' 'Ingilizce' 'Fen bilimleri'\n",
      " 'Gemi Yapımı' 'Özel Fen Lisesi' 'Sayısal2 yıl - Eşit Ağırlık2yıl'\n",
      " 'fen bilimleri' 'ÇOCUK GELİŞİMİ' 'Eşit agırlık' 'inşaat teknolojileri'\n",
      " 'Okulum Sosyal Bilimler Lisesi ancak yazılmadığı için Fen Lisesini işaretledim zira Sosyal Bilimler Liseleri Fenl Lisesi Muadili okullardır. Alanım: Türkçe-Matematik/Sosyal Bilimler'\n",
      " 'imam hatip' 'bilgisayarlı muhasebe' 'Matematik ve enformatik'\n",
      " 'Matematik- Fen' 'Ulastirma Hizmetleri' 'Alan Bulunmayan Özel Lise'\n",
      " 'MFMatematik-Fen' 'fen Bilimleri' 'SÖZEL' 'felsefe'\n",
      " 'Fen - Matematik 10. Sınıf Eşit Ağırlık 11. ve 12. Sınıf'\n",
      " 'Fen ve Matematik' 'Eşitağırlık' 'Ortak' 'sosyal bilimler' 'Yabancı Dil'\n",
      " 'Anadolu' 'Dil' 'Fen Bölümü' 'Sayısal MF' 'Düz lise bölüm yok'\n",
      " 'Mf Sayısal' 'muhasebe finansman' 'Fen Matematik' 'FEN'\n",
      " 'Türkçe- Matematik' 'Turkce-Matematık' 'Gemi yönetimi' 'MATEMATİK-FEN'\n",
      " 'Yiyecek İçecek Hizmetleri' 'Eşit Ağırlık-TM' 'Fizik-matematik'\n",
      " 'Gazetecilik' 'eşitağırlık' 'Matematik fen' 'matematik fen' 'sayiasal'\n",
      " 'Grafik ve Fotoğraf' 'Fen-Matematik Bölümü' 'Türkçe-matematik'\n",
      " 'International Baccalaureate' 'TÜRKÇE-MATEMATİK'\n",
      " 'Okul Öncesi Öğretmenliği' 'dil' 'elektrik- elektronik'\n",
      " 'teknik harita tapu kadastro' 'Metal Teknolojileri' 'muhasebe' 'Otomotiv'\n",
      " 'Fen bolumu' 'Sosyal Bilimler' 'yabanci dil' 'yazilim/donanim'\n",
      " 'SOSYAL BİLİMLER' 'Matematik-FenSayısal' 'mekatronik' 'TİCARET LİSESİ'\n",
      " 'Türkçe-Matematik ve Uluslararası Bakalorya' 'TUrkce Matematik'\n",
      " 'turkce matematik' 'Yabanci Dil' 'Dış Ticaret' 'eşit ağırlık tm'\n",
      " 'Uluslararası bakalorya programı' 'Bilgisayar rogramcılığı'\n",
      " 'FEN SAYISAL BİLİMLERİ ALANI' 'EŞİT AĞIRLIK TÜRKÇE-MATEMATİK ALANI'\n",
      " 'SOSYAL ALANI' nan 'DİL ALANI' 'Diğer' 'fen ve matematik' 'FEN-MAT'\n",
      " 'Matematik-Fen Bölümü' 'Türkçe-Sosyal' 'Eşit Ağırlık-Türkçe Matematik'\n",
      " 'yabancı dil' 'BİLGİSAYAR' 'Bilişim Sistemleri' 'TM/'\n",
      " 'TM Türkçe-Matematik' 'ELEKTRİK' 'TM eşit ağırlık' 'fm'\n",
      " 'Bilgisayar programcılığı' 'Türkçe Mateatik' 'Eşit ağırlık TM'\n",
      " 'Muhasebe ve Finansman' 'Matematik Fen, Sayısal'\n",
      " 'Gemi Elektroniği ve Haberleşme' 'Bilgisayar Programcılığı/Web Tasarım'\n",
      " 'Grafik Tasarım' 'GİYİM ÜRETİM TEKSTİL TEKNOLOJİSİ' 'Kimya' 'Sosyal'\n",
      " 'türkçe-mat' 'KONAKLAMA HİZMETLERİ' 'Fen BilimleriSayısal'\n",
      " 'Web tasarım ve programlama' 'TM-Eşit Ağırlık' 'Alansız'\n",
      " 'Elektrik-Elektronik' 'Bilişim Teknolojileri - Web Programcılığı'\n",
      " 'Esit agirlik' 'Yabanci dil' 'fen matematik' 'Muhasabe-Finansman'\n",
      " 'İnternet Programcılığı' 'TÜRKÇE MATEMATİK ALANI' 'Aşçılık'\n",
      " 'giyim üretim teknolojisi' 'MF-Sayısal' 'YABANCI DİL'\n",
      " 'Elektrik Elektronik' 'Gazetecilik / Sözel' 'Tekstil Teknolojisi'\n",
      " 'Îmâm hatip' 'Elektrik' 'yabancı dil ingilizce' 'Sayısal + Eşit Ağırlık'\n",
      " 'Bilgisayar Teknolojileri' 'TÜRKÇE MATEMATİK' 'Bilişim teknolojileri'\n",
      " 'fen lisesi' 'elektrik-elektronik /elektromekaanik taşıyıcılar'\n",
      " 'Matematik- Fen Bilimi' 'Bilgisayarlı Muhasebe' 'Matematik-fen'\n",
      " 'Bilişim Teknolojileri Temelleri' 'Bilgisayar' 'Sayısal fen'\n",
      " 'Bilişim Teknolojileri Alanı / Web Tasarım ve Programlama Dalı'\n",
      " 'Yabancı dil' 'MF ağırlık' 'Sayısal -MF'\n",
      " 'Elektronik/Habreleşme Teknolojisi' 'elektronik' 'Web Programcılığı'\n",
      " 'bilgisayar teknolojileri' 'sosyal bilgiler'\n",
      " 'yiyecek ve icecek hizmetleri-pastacilik' 'EA esit agırlık'\n",
      " 'Bilgisayar destekli makina ressamlığı' 'Sozel' 'ELEKTRONİK' 'ınsaat'\n",
      " 'BİLİŞİM TEKNOLOJİLERİ' 'EA/TM' 'bilgisayar' 'Bilgisayar ögretmenligi'\n",
      " 'Fen lisesi' 'Sayısal Bölümü' 'Bilgisayar Programcılığı'\n",
      " 'turkce ve matematık' 'Radyo ve Televizyon' 'veri tabanı programcılığı'\n",
      " 'Muhasebe' 'Yok' 'Matematik-Türkçe' 'esit agırlık' 'Elektrik- Elektronik'\n",
      " 'BİLGİSAYARLI MUHASEBE' 'Bölüm yok.' 'Yiyecek ve İçecek' 'Sayısak'\n",
      " 'ALAN YOK' 'elektirk elektronik' 'Mutfak' 'mesleki eğitim veren bölüm'\n",
      " 'Elektironik' 'sozel' 'elektrik elektronik' 'Web Programlama' 'MAKİNA'\n",
      " 'sayısal fen bölümü' 'MATEMATİK/FEN' 'Eşit Ağırlık Tm' 'Makina'\n",
      " 'Tütkçe-matematik' 'Ağ İşletmenliği' 'Elektrik ve elektronik' 'sayısalmf'\n",
      " 'Radyo-Televizyon' 'TÜRKÇE /MATEMATİK' 'Turkce Matematik' 'eşit agirlik'\n",
      " 'Elektrik - Elektronik Teknolojisi' 'fen bölümü' 'Trkçe-Matematik'\n",
      " 'BILISIM TEKNOLOJILERI' 'inşaat' 'DEPARTMENT OF ELECTRICAL ELECRONICS'\n",
      " 'WEB PROGRAMCILIĞI' 'ÇOCUK GELİŞİMİ VE EĞİTİMİ BÖLÜMÜ'\n",
      " 'sayısal -fen ağırlıklı' 'Turkce matematik' 'eşir ağırlık'\n",
      " 'Tapu ve Kadastro' 'bilişim teknolojileri' 'Elektrik-elektonik'\n",
      " 'elektrik tesisat ve pano' 'Bilgisayar Programlama' 'mat-fen'\n",
      " 'SOSYAL BİLİMLER ve EDEBİYAT'\n",
      " 'elektrik elektronik endustriyel bakım onarım' 'türkçe- matematik'\n",
      " 'turizm' 'kimya' 'BİLİŞİM TEKNOLOJİLERİ ALANI' 'SERVİS'\n",
      " 'yiyecek içecek- mutfak' 'Bilim İnsanı Yetiştirme'\n",
      " 'muhasebe ve finansman' 'otomotiv teknolojisi' 'Türkçe-Matemeatik'\n",
      " 'sosyal bilğiler' 'eşitagırlık' 'Matematik' 'Muhasebe Finansman'\n",
      " 'BİLGİSAYARLİ MUHASEBE' 'Tekstil' 'Matematik ve Fen Bilimleri Bölümü'\n",
      " 'Mat / Fen' 'Fen-matematik' 'SAYISAL ALAN'\n",
      " 'Bilişim teknolojileri web tasarım' 'Eşit AğırlıkTM' 'Türkçe-Matematitj'\n",
      " 'BİLGİSAYARLI MAKİNE İMALATI' 'Veritabanı Programcılığı'\n",
      " 'Ağ işletmenliği' 'asdasd' 'bilisim teknoloji' 'matematik' 'KİMYA'\n",
      " 'anadolu lisesi' 'laboratuvar teknikerliği' 'Sosyal/Sozel'\n",
      " 'Sayısal bilimler' 'Konaklama ve Seyahat' 'dil bölümü'\n",
      " 'BİLGİSAYAR PROGRAMCILIĞI WEB TASARIMI' 'fen-matematik' 'Eşit Ağırlık TM'\n",
      " 'sözel bölüm' 'Konaklama Ve Seyahat' 'Turkce-Matematik' 'Bölüm yok'\n",
      " 'Bilişm Teknolojileri Alanı : Web Tasarımı ve Programlama' 'EŞİT AGIRLIK'\n",
      " 'Sosyal bilimlet' 'Makina Teknolojisi' 'EŞİTAĞIRLIK'\n",
      " 'MUHASEBE VE FİNANSMAN / DIŞ TİCARET OFİS HİZMETLERİ' 'SOSYAL'\n",
      " 'bilişim teknolojiler' 'sayısal-fen bilimleri' 'Bilgisayar Bölümü'\n",
      " 'Fen bilimleri sayısal' 'grafik tasarım ve fotografçılık'\n",
      " 'Okul birincisi' 'Elektirik Elektronik Teknolojisi' 'İngilizce Eğitim'\n",
      " 'FEN/FEN BİLİMLERİ' 'Bilgisayar Yazılım' 'düz' 'giyim uretim teknolojisi'\n",
      " 'T-M' 'müzik' '..' 'Torna -Tesviye' 'Matematik-FenBilimleri' 'YOK'\n",
      " 'Bilgisayar/Web programcılığı' 'Çocuk Gelişimi' 'Yabancı Dil ingilizce'\n",
      " 'Veri Tabanı Programcılığı' 'turkce - matematik' 'Dış Tİcaret'\n",
      " 'Grafik ve Fotoğrafçılık' 'matematik/fen' 'Elektrik - Elektronik'\n",
      " 'Anadolu Lisesi' 'turkce-matematik' 'GRAFİK TASARIM'\n",
      " 'kimya teknolojileri' 'Fen Bilimleri Sayısal'\n",
      " 'Bilişim Teknolojileri-Veri Tabanı Programcılığı' 'YDL' 'Soyal bilimler'\n",
      " 'bilişim' 'Makine' 'Maliye' 'ANADOLU LİSESİ ALMANCA' 'türçe matematik'\n",
      " 'Grafik Tasarım ve Fotoğrafçılık' 'EKONOMETRİ' 'Yabancı Dil ing'\n",
      " 'türkçe sosyal' 'Elektrik Elektronik Teknolojisi' 'Fen Bilimleri/Sayısal'\n",
      " 'Fen -Matematik' 'MESLEK - EŞİT AĞIRLIK' 'Bilişim Teknolojiler'\n",
      " 'Eşit Ağırlıl' 'çocuk gelişimi' 'İNŞAAT TEKNOLOJİSİ' 'TÜRKÇE-MATEMATİM'\n",
      " 'Bilişim Teknolojileri - Ağ İşletmenliği' 'web tasarim'\n",
      " 'Matematik-Fen sayısal' 'Hava' 'makine' 'DÜZ LİSE'\n",
      " 'Ulaştırma hizmetleri-lojistik' 'Fen bilimleri-sayısal' 'makina,cnc'\n",
      " 'Fen bililmleri' 'Endüstriyel Otomasyon Teknolojileri Mekatronik Dalı'\n",
      " 'Elektrik Elektronik Teknikerliği / Sayısal' 'Eşit ağırlık/Tm'\n",
      " 'SAYISAL BİLİMLER' 'Bilgisayarli Muhasebe'\n",
      " 'TÜRKÇE-MATEMATİK EŞİT AĞIRLIK' 'Fen- Matematik' 'lojistik'\n",
      " 'çocuk gelişimi ve eğitimi' 'anadolu öğretmen' 'Matematik-Fen SAYISAL'\n",
      " 'fen bilimmleri' 'ALAN:TÜRKÇE MATEMATİK'\n",
      " 'halkla iliskiler ve organizasyon hizmetleri' 'cocuk gelişimi'\n",
      " 'Bilişim Sistemleri/Web Tasarımı' 'mutfak' 'Bilgisayar Donanım'\n",
      " 'Arkeoloji' 'ea' 'turkce-matematık' 'cocuk gelisimi'\n",
      " 'ELEKTİRİK VE ELEKTRONİK BÖLÜMÜ' 'inşaat mühendisliği' 'Fen Ağırlıklı'\n",
      " 'sosyal Bilgiler' 'Doğalgaz be tesisat teknolojileri' 'Fen - Mat'\n",
      " 'TMEŞİT AĞIRLIK' 'Çocuk Gelişimi ve Eğitimi'\n",
      " 'BÜRO YÖNETİMİ VE SEKRETERLİK' 'Sayısal Bilimler'\n",
      " 'Anadolu teknik-İnşaat/ mimari yapı' 'Cocuk gelişimi ve eğitimi'\n",
      " 'FEN BİLİMLERİ ALANI' 'SOZEL' 'FEN BILIMLERI' 'Web tasarımı'\n",
      " 'ESİT AGIRLIK' 'Giyim üretim teknolojileri' 'Grafik ve fotoğrafçılık'\n",
      " 'SayısalMF' 'Çocuk Gelişimi ve Eğitimi / Erken Çocukluk Eğitimi Dalı'\n",
      " 'Çocuk gelişimi ve eğitimi' 'sosyal' 'hemşirelik' 'dış ticaret'\n",
      " 'Eşit Ağırlık/Almanca' 'Fen- matematik' 'esit ağırlık' 'çocuk geişimi'\n",
      " 'TÜRKÇE_MATEMATİK' 'Genel Kültür' 'WEB TASARIM VE PROGRAMLAMA'\n",
      " 'Matemetik Fen' 'İMAM HATİP LİSESİ' 'Eşit ağırlik' 'SAYISAL MF'\n",
      " 'Otomasyon Sistemleri' 'eşit ağarlık' 'Fen / Matematik'\n",
      " 'Uçak Bakım Teknisyenliği' 'ingilizce agirlikli' 'BİLGİSAYAR BÖLÜMÜ'\n",
      " 'Türkçe- Mathematik' 'Dil bölümü'\n",
      " 'BİLİŞİM TEKNOLOJİLERİ BÖLÜMÜ - VERİ TABANI PROGRAMCILIĞI'\n",
      " 'Otomatik Kumanda' 'Alan ayrımı yok'\n",
      " 'Endüstriyel Otomasyon Teknolojileri Endüstri Kontrol dalı'\n",
      " 'Otomasyon Teknolojileri' 'E-A' 'MF - Sayısal' 'CNC'\n",
      " 'Fen Bilimleri-Sayısal' 'Muhasebe Finansman- Dış Ticaret' 'FEN MATEMATİK'\n",
      " 'TM-EA' 'TÜRKÇE - MATEMATİK' 'Tesisat Teknoljileri' 'Eşit agirlik'\n",
      " 'makina teknolojisi' 'MF SAYISAL' 'Almanca' 'SPOR BÖLÜMÜ'\n",
      " 'Elektronik Haberleşme' 'Matemeatik' 'Eşit ağırşık'\n",
      " 'YİYECEK İÇECEK HİZMETLERİ' 'Eş,it Ağırlık' 'Türkçe - matematik'\n",
      " 'bilgisayarli muhasebe' 'eşit agarlık'\n",
      " '10. ve 11. sınıflar Fen, 12. sınıf Dil' 'YDA - TM' 'ESIT AĞIRLIK'\n",
      " 'grafık' 'TÜRKÇE-MATEMATIK' 'Türkçe Sosyal Bilimler' 'Resim'\n",
      " 'MatematikFen' 'fen bolumu' 'MODA TASARIMI' 'Türkçe - Matematik - Sosyal'\n",
      " 'Eşitağırlıl' 'Eşit AgirlikTürkce Matematik' 'eşit ağırlık TM'\n",
      " 'Sayılsa Fen bölümü' 'Eşit Ağırlak' 'turkçe matematik' 'Esit Agırlık'\n",
      " 'YABANCI DİLİNGİLİZCE' 'Elektrik-Elektronik Teknolojisi'\n",
      " 'yabancı dil agirlikli sayisal' 'TÜRKÇE-MATEMETİK' 'Fen Bilimi'\n",
      " 'MAKİNE TEKNOLOJİSİ' 'MATEMATİK-FEN SAYISAL' 'bilgisayar programcılığı'\n",
      " 'GİYİM ÜRETİM TEKNOLOJİSİ' 'turkçe-matematik' 'bölüm yok' 'T.M'\n",
      " 'ingilizce' 'Eşit Agirlik' 'eşit ağırluj' 'Türkçe- matematik'\n",
      " 'MAKİNA TEKNOLOJİSİ' 'HAZIR GİYİM' 'Türkçe -Matematik'\n",
      " 'yiyecek içecek hizmetleri' 'Alan:Sayısal'\n",
      " 'Bilişim Teknolojileri / Veritabanı Programcılığı' 'SÖZEL BÖLÜMÜ'\n",
      " 'Bilişim' 'Makine Teknolojileri' 'Uçak Bakım-Gövde Motor'\n",
      " 'Bilişim Teknolojileri/ Veri Tabanı Programcılığı' 'MATEMATİK-fEN'\n",
      " 'Muhasebe bölümü' 'littéraire' 'Matematik-Fen Bilimleri'\n",
      " 'Elekrik-Elektronik' 'Sayısal /MF' 'grafik ve fotoğrafçılık'\n",
      " 'Türkçe/Matematik' 'Fen/Fen Bilimleri' 'Bilgisayar / Yazılım'\n",
      " 'BİLGİSAYAR YAZILIM' 'yabancı dıl'\n",
      " 'ELEKTRİK-ELEKTRONİK TEKNOLOJİSİ ALANI / ELEKTRİK TESİSATÇILIĞI VE PANO MONTÖRLÜĞÜ DALI'\n",
      " 'Elektronik' 'Türkçe-Matematil' 'İngilizce' 'Eşit Ağırlık.'\n",
      " 'çocuk gelişimi veeğitimi' 'Muhasebe finansman' 'GRAFİK VE FOTOĞRAF'\n",
      " 'Bilişim Teknolojileri / Web tasarım ve programlama'\n",
      " 'Bilişim Teknolojileri Alanı- Veri Tabanı Programcılığı Dalı'\n",
      " 'bilişim teknolojileri-web tasarım ve programlama' 'Sayılsal'\n",
      " 'FEN BİLİMLERI' 'ts' 'eşit ağılık' 'FEN / FEN BİLİMLERİ'\n",
      " 'Bilgisayarlı Muhasebe ve Finansman' 'makine bolumu'\n",
      " 'Yabancı diil ingilizce' 'bilişim teknolojısı' 'OKUL ÖNCESİ VE EĞİTİMİ'\n",
      " 'SOSYAL BİLİMLERİ'\n",
      " 'Elektrik Elektronik - Endüstriyel Kontrol ve Arıza Analizi'\n",
      " 'TM EŞİT AĞIRLIK' 'BİLİŞİM TEKNOLOJİLERİ/Bilgisayar donanımı' 'PAZARLAMA'\n",
      " 'Alan Ayrımı.Olmayan Lise' 'EŞİT AĞIRLIK BÖLÜMÜ' 'ÖĞRETMEN LİSESİ'\n",
      " 'stg science et technique de la gestion' 'İnşaat Mühendisliği'\n",
      " 'Halkla İlişkiler' 'moda tasarımı' 'Plastik Teknolojisi'\n",
      " 'Anadolu/Türkçe-Matematik' 'Bilisim teknolojileri' 'MF - Fen Bilimleri'\n",
      " 'Matemaik-Fen' 'Esıt agırlık' 'eşit ağrlık' 'türkçe matemetik' 'Ea'\n",
      " 'Anadolu İmam Hatip' 'Makina mühendisliği' 'sigortacılık'\n",
      " 'Türkçe-Matemetik' 'Sayısal Mat Fen' 'Eşit Ağırlık -TM' 'Türkçe Sosyal'\n",
      " 'wep programcılığı' 'Yiyecek içecek hizmetleri' 'KONAKLAMA VE SEYAHAT'\n",
      " 'Teknik Bilgisayar' 'türkçe_matematik' 'fen bilimleri bölümü sayısal'\n",
      " 'Türkce Matematik' 'sayısal mat-fen' 'Bilişim teknolojileri/web tasarım'\n",
      " 'Büro Yönetimi ve Yönetici Asistanlığı' 'grafik tasarım' 'EŞİT AĞRLIK'\n",
      " 'sözle' 'elektirik elektronik'\n",
      " 'Otomasyon Teknolojileri Alanı/ Mekatronik Dalı' 'MUHASEBE VE FİNANSMAN'\n",
      " 'Gıda Teknolojisi' 'Eşit Ağıtlık' 'Yabancı Dil Ağırlıklı Fen'\n",
      " 'TMturkce matematik' 'TÜRKÇE-SOSYAL' 'MATEMATİK FEN' 'T.M.'\n",
      " 'Bilim İnsanı Yetiştirme Programı' 'Önbüro' 'elektronık haberlesme' 'DÜZ'\n",
      " 'Matematik -Türkçe' 'türkçe-matematik tm' 'matematik-türkçe'\n",
      " 'Eşit Agırlık' 'Türkçe-Matematik TM' 'Dil Bölümü' 'ÇOÇUK GELİŞİMİ'\n",
      " 'MUHASEBE FİNANSMAN' 'MF- Almanca' 'eşit ağırlıklı programlar' 'Alan Yok'\n",
      " 'yazılım ve bilişim teknolojileri' 'Muhasebe ve finansman' 'servis'\n",
      " '2010' 'TÜRKÇE - SOSYAL' 'Sosyaş Bilimler' 'Eşit Ağırlık - İngilizce'\n",
      " 'ELEKTRİK ELEKTRONİK' 'Mekatronik' 'Türkçe- Matematik Eşitağırlık'\n",
      " 'Eşit Ağırlık Türkçe-Matematik' 'lise' 'MATEMATİK' 'Harita Tapu Kadastro'\n",
      " 'ENdrüstriyel Bakım ve Onarım' 'Düz' 'Elektrik-Elektronik Bölümü'\n",
      " 'TÜRKÇE MATEMATİK EŞİT AGIRLIK' 'Elektrik Elektronik Teknolojisi Alanı'\n",
      " 'Bilgisayar programcılığı- veri tabanı programcılığı' 'EŞİT-AĞIRLIK'\n",
      " 'MUHASEBE VE FİNANSMAN/ DIŞ TİCARET' 'Bölüm Ayrımı Olmayanlar'\n",
      " 'ULASTIRMA HIZMETLERI' 'Sayısal sınıfı' 'ESIT AGIRLIK' 'DIŞ TİCARET'\n",
      " 'MUHASEBE' 'aşçılık' 'Bilisim Teknolojileri' 'mfmatematik-fen' 'TMS'\n",
      " 'Gıda teknolojisi' 'sayısal bilimler' 'Dış ticaret' 'Web Tasarımı'\n",
      " 'normal' 'Mat-Fen' 'eşit-ağırlık' 'öğretmen lisesi' 'Fm' 'ESİT AGRLIK'\n",
      " 'sayılsal' 'Sayısal/Fen' 'Özel' 'Söz' 'Yabancı Dil İngilizce' 'tesviye'\n",
      " 'Eşit Ağirlik' 'Eşit AĞIRLIK' 'öğretmen Lisesi'\n",
      " 'Bilgisayar programcılıgı' 'elektirik' 'ELEKTRİK-ELEKTRONİK' 'İMAM HATİP'\n",
      " 'eşit agıalık' 'elektrik-elektronik teknolojisi' 'DAL YOK'\n",
      " 'harita-kadastro' 'Türkçe-Matematik Bölümü' 'Sosyal Bilgiler'\n",
      " 'GENEL KÜLTÜR' 'Metal Teknolojisi' 'Matematik -Fen' 'Sayısal-MF'\n",
      " 'Bilişim sistemleri/veri tabanı' 'Ahsap teknolojisi / mobilya imalatı'\n",
      " 'Sasyısal' 'Servis' 'BİLİŞİM TEKNOLOJİLERİ - VERİ TABANI'\n",
      " 'Pazarlama ve Perakende' 'Fen Bilimler' 'Yiyecek ve içecek'\n",
      " 'Sayısal / Eşit ağırlık' 'Web Tasarım' 'BilişimTeknolojileri'\n",
      " 'Eşit Ağarlık' 'Türkce matematik'\n",
      " 'Haberleşme TeknolojileriElektrik-Elektronik' 'Askeri Lise'\n",
      " 'Elektril-elektronik' 'Fen Lisesi' 'Web Tasarım ve Programlama'\n",
      " 'sosyal bilimler ve edebiyat' 'Turkce-matematik'\n",
      " 'bilgisayar/ web tasarımı' 'fen bilimi' 'Makina Teknolojisi/ CNC bölümü'\n",
      " 'FEN BÖLÜMLERİ' 'Alan yok' 'Yiyecek-İçecek İşletmeciliği'\n",
      " 'kimya teknolojisi' 'Teknik kimya' 'Yabancı dil Almanca'\n",
      " 'endustriel Otomasyon' 'Radyo,Tv,Sinema'\n",
      " 'Bilgisayar Teknolojileri ve Bilişim Sistemleri' '_'\n",
      " 'Bilgisayar Proğramcılığı' 'Elektrik elektronik' 'MF-SAYISAL' 'Spor'\n",
      " 'ELEKTİRİK-ELEKTRONİK/PANO MONTÖRLÜĞÜ İÇ TESİSAT' 't/s' 'Motor'\n",
      " 'Türkçe Matematik TM Bölümü' 'Matbaa' 'Sayısal Böl.'\n",
      " 'sayısal - eşit agırlık' 'Endüstriyel Bakım Onarım' 'elektrik'\n",
      " 'BİLİŞİM TEKNOLOJİLERİ - WEB TASARIM' 'Bölüm Yok'\n",
      " 'SOSYAL BİLİMLER VE EDEBİYAT BÖLÜMÜ' 'Fen mtematik' 'Eşit ağırlıkTM'\n",
      " 'Sayısal / MF' 'Otomotiv Teknolojisi'\n",
      " 'Endüstriyel Otomasyon Teknolojileri' 'Bölüm ayrımı bulunmamaktadır.'\n",
      " 'Bilim Insanı Yetistirme Programı' 'Fen Bolumu' '.'\n",
      " 'Yabancı Dil/İngilizce' 'tm_mf'\n",
      " 'ANADOLU LİSESİ-İNGİLİZCE/OKULU BİRİNCİ OLARAK BİTİRDİM'\n",
      " 'Grafik Tasarım ve fotoğraf' 'BİLGİSAYAR VERİ TABANI'\n",
      " 'Matematik- Fen Bilimleri MF' 'TÜRKÇE-MATEMETIK'\n",
      " 'Kontrol ve Enstrümantasyon Teknolojisi'\n",
      " 'grafık tasarım ve fotografcılık'\n",
      " 'bilisim teknolojileri web programcılığı' 'türkçe/matematik' 'spor'\n",
      " 'BILISIM TEKNOLOJİLERİ' 'Yiyecek içecek' 'bilgisayar bölümü'\n",
      " 'MATEMATİK-FEN BÖLÜMÜ' 'moda tasarrım'\n",
      " 'Yabancı Dil İngilizce,Fransızca, Almanca' 'bilimsel' 'Esit agırlık'\n",
      " 'Kimya Teknolojisi' 'edebiyat' 'endustriyel otomasyon' 'SAYILSAL'\n",
      " 'GİYİM ÜRETİM TEKNOLOJİSİ KADIN GİYİM MODELİSTLİĞİ'\n",
      " 'Bilişim Teknoljileri Web Programcılığı' 'Fen Bilimleri Bölümü Sayısal'\n",
      " 'eşit ağırlık/TM' 'Türkçe?Matematik' 'Turkce - Matematik' 'Yabancidil'\n",
      " 'iklimlendirme ve tesisat tenolojisi' 'düz imam hatip programı'\n",
      " 'Büro Yonetimi ve Yonetici Asistanligi' 'fen bilimler' 'SÖZ.' 'Tarih'\n",
      " 'Muhasebe-Finansman' 'radyoloji teknisyenliği' 'Mf mezuniyet notu:87'\n",
      " 'sayısal bölüm' 'MF sayısal' 'işletme' 'ALAN AYRIMI OLMAYANLAR'\n",
      " 'Radyo Tv ve Sinema' 'DİL' 'TS Sözel' 'M-F' '89.72'\n",
      " 'Matematik Fen Sayısal'\n",
      " 'BİLİŞİM TEKNOLOJİLERİ - VERİTABANI PROGRAMCILIĞI' 'mf ağırlıklı'\n",
      " 'Muhasebe ve Bilgisayarlı Muhasebe' 'yabancı dilinglizce'\n",
      " 'Türkçe Matmatik' 'radyoloji' 'Bilgisayar Programcılıgı'\n",
      " 'MATEMATİK FEN VE TÜRKÇE MATEMATİK' 'Muhasebe-Finans' 'YAPI RESSAMLIĞI'\n",
      " 'eşit ağıtlık tm' 'GIDA TEKNOLOJİSİ' 'TURKCE MATEMATİK' 'sayısal-fen'\n",
      " 'Grafik tasarım ve fotoğrafçılık' 'pazarlama ve perakende'\n",
      " 'fen bilimleri / sayısal' 'Tıp Sekreterliği' 'GRAFİK-FOTOĞRAF' 'Ön Büro'\n",
      " 'fensayısal' 'EŞİT AĞIRLIK TM' 'Elektronik-Haberleşme'\n",
      " 'Kontrol ve Enstrumantasyon Teknolojiler' 'Esitagirlik'\n",
      " 'elektrik /elektronik' 'BİLİŞİM TEKNOLOJİLERİ/WEB PROGRAMCILIĞI'\n",
      " 'bilişim teknolojileri bölümü' 'hazır gıyım' 'Bilgisayar - Yazılım'\n",
      " 'Sözel Bilimler' 'MAKİNE' 'Bilgisayar / web tasarım'\n",
      " 'Sosyal Bilimler ve Edebiyat' 'büro yönetimi'\n",
      " 'Bankacilik ve Sigortacilik' 'esit agirlik-turkce matematik'\n",
      " 'BİLGİSAYAR/WEB TASARIM' 'Halkla ilişkiler ve organizasyon' 'sö'\n",
      " 'sayısak' 'FEN BİLİMLERİSAYISAL' 'turizm ve otlecilik' 'Sosyal Bilimleri'\n",
      " 'Matematif - Fen Bilimleri' 'kalıp' 'TURKCE-MATEMATIK'\n",
      " 'Konaklama Seyahat' 'genel kültür' 'BİLİŞİM TEKNOLOJİLERİ / WEB TASARIM'\n",
      " 'iklimlendirme ve soğutma bölümü' 'ELEKTRİK-ELEKTRONİK TEKNOLOJİSİ'\n",
      " 'ELEKTRİK ELEKTRONİK BÖLÜMÜ' 'SAYISALMF' 'sosyal biimler'\n",
      " 'BİLGİSAYARLI MAKİNA İMALATI' 'Radyo/Televizyon Programcılığı'\n",
      " 'sayısal mf' 'matematik - fen' 'Sayısaş' 'Gıda Teknonojisi'\n",
      " 'Türkçe-matematık' 'Eşit AğıtlıkTM' 'Sözel Türkçe - Sosyal'\n",
      " 'Elektril-Elektronik' 'Fen - Sayısal' 'Kimya Teknolojileri'\n",
      " 'Makine Teknolojisi / CNC' 'Fen Bikimleri' 'Yabancı Dil Bölümü'\n",
      " 'esitagirlik' 'türkce matematik' 'Askeri' 'Fen Bililmleri'\n",
      " 'Metal teknolojileri' 'SayısalMat-Fen' 'otomasyon' 'imam'\n",
      " 'Elektrik-elektronik' 'tıp' 'Güverte yönetimi' 'MUHASEBE VE FİNANS'\n",
      " 'fen bilmleri' 'Giyim Üretim Teknolojisi']\n",
      "--------------------\n",
      "Test Data Uniqueness\n",
      "['Eşit Ağırlık' 'Sözel' 'Sayısal' 'Dil']\n",
      "---------------------\n",
      "---------------------\n",
      "Train Data Isna()\n",
      "1001\n",
      "---------------------\n",
      "Test Data Isna()\n",
      "0\n"
     ]
    }
   ],
   "source": [
    "check_column_in_train_test(train_data,test_data,'Lise Bolumu')"
   ]
  },
  {
   "cell_type": "code",
   "execution_count": 77,
   "id": "ed45d218-f0cd-4623-9f41-6e3432b53061",
   "metadata": {},
   "outputs": [],
   "source": [
    "fill_missing_value_in_columns_with_mode_value(train_data,'Lise Bolumu')"
   ]
  },
  {
   "cell_type": "code",
   "execution_count": 78,
   "id": "bd336e7b-4741-4972-af4c-375d385feb96",
   "metadata": {},
   "outputs": [],
   "source": [
    "lower_string_in_column(train_data,'Lise Bolumu')\n",
    "lower_string_in_column(test_data,'Lise Bolumu')"
   ]
  },
  {
   "cell_type": "code",
   "execution_count": 79,
   "id": "5b9d522c-da77-437f-b48c-10795ad34dfb",
   "metadata": {},
   "outputs": [],
   "source": [
    "train_data['Lise Bolumu'] = train_data['Lise Bolumu'].apply(clean_lise_bolumu)\n"
   ]
  },
  {
   "cell_type": "code",
   "execution_count": 80,
   "id": "30c43c76-3978-4e11-86fa-97c220a2ba3c",
   "metadata": {},
   "outputs": [],
   "source": [
    "fill_missing_value_in_columns_with_mode_value(train_data,'Lise Bolumu')"
   ]
  },
  {
   "cell_type": "markdown",
   "id": "1f183b49-dc70-4c6a-a608-5167c681731d",
   "metadata": {
    "jp-MarkdownHeadingCollapsed": true
   },
   "source": [
    "### Lise bolum diğer"
   ]
  },
  {
   "cell_type": "code",
   "execution_count": 81,
   "id": "772307f0-efbb-4d6c-8d5b-fb29abb51131",
   "metadata": {},
   "outputs": [],
   "source": [
    "#check_column_in_train_test(train_data,test_data,'Lise Bolum Diger')"
   ]
  },
  {
   "cell_type": "code",
   "execution_count": 82,
   "id": "e49b4662-c14e-485b-8137-955a5a06b568",
   "metadata": {},
   "outputs": [],
   "source": [
    "# lower_string_in_column(train_data,'Lise Bolum Diger')\n",
    "# lower_string_in_column(test_data,'Lise Bolum Diger')"
   ]
  },
  {
   "cell_type": "code",
   "execution_count": 83,
   "id": "95273db8-752e-4b62-b399-ffd1b31fec65",
   "metadata": {},
   "outputs": [],
   "source": [
    "train_data,test_data=drop_columns_from_train_test(train_data,test_data,'Lise Bolum Diger')"
   ]
  },
  {
   "cell_type": "markdown",
   "id": "60e5283c-211e-4aa9-8ca4-ad11a114eb48",
   "metadata": {},
   "source": [
    "### Lise Mezuniyet Notu"
   ]
  },
  {
   "cell_type": "code",
   "execution_count": 84,
   "id": "e72d115c-e9dd-42c1-9734-da8263fe278d",
   "metadata": {},
   "outputs": [
    {
     "name": "stdout",
     "output_type": "stream",
     "text": [
      "Train Data Uniqueness\n",
      "['3.50-3' '3.00 - 4.00' '3.00-2.50' '2.50 ve altı' '4.00-3.50' '3.50-3.00'\n",
      " nan '69-55' '100-85' '84-70' '54-45' '44-0' '75 - 100' '50 - 75'\n",
      " 'Not ortalaması yok' '25 - 50' '0 - 25' '50 - 74' '25 - 49' '0 - 24']\n",
      "--------------------\n",
      "Test Data Uniqueness\n",
      "['50 - 74' '75 - 100' '25 - 49']\n",
      "---------------------\n",
      "---------------------\n",
      "Train Data Isna()\n",
      "5481\n",
      "---------------------\n",
      "Test Data Isna()\n",
      "0\n"
     ]
    }
   ],
   "source": [
    "check_column_in_train_test(train_data,test_data,'Lise Mezuniyet Notu')"
   ]
  },
  {
   "cell_type": "code",
   "execution_count": 85,
   "id": "cead41eb-5953-4d86-a06e-644318edebcb",
   "metadata": {},
   "outputs": [],
   "source": [
    "lower_string_in_column(train_data,'Lise Mezuniyet Notu')\n",
    "lower_string_in_column(test_data,'Lise Mezuniyet Notu')"
   ]
  },
  {
   "cell_type": "code",
   "execution_count": 86,
   "id": "dea5e9a6-2a63-47a5-b6ea-11d1c93bf721",
   "metadata": {},
   "outputs": [],
   "source": [
    "lise_mezuniyet_notu_map = {\n",
    "    '3.50-3': '50 - 74',\n",
    "    '3.00 - 4.00': '75 - 100',\n",
    "    '3.00-2.50': '25 - 49',\n",
    "    '2.50 ve altı': '25 - 49',\n",
    "    '4.00-3.50': '75 - 100',\n",
    "    '3.50-3.00': '50 - 74',\n",
    "    '69-55': '50 - 74',\n",
    "    '100-85': '75 - 100',\n",
    "    '84-70': '75 - 100',\n",
    "    '54-45': '50 - 74',\n",
    "    '44-0': '25 - 49',\n",
    "    '75 - 100': '75 - 100',\n",
    "    '50 - 75': '50 - 74',\n",
    "    'not ortalaması yok': np.nan,  # Keep as is\n",
    "    '25 - 50': '25 - 49',\n",
    "    '0 - 25': '25 - 49',\n",
    "    '50 - 74': '50 - 74',\n",
    "    '25 - 49': '25 - 49',\n",
    "    '0 - 24': '25 - 49'\n",
    "}"
   ]
  },
  {
   "cell_type": "code",
   "execution_count": 87,
   "id": "8bbc9b58-b4c5-455e-bf05-90911442829a",
   "metadata": {},
   "outputs": [],
   "source": [
    "train_data['Lise Mezuniyet Notu'] = train_data['Lise Mezuniyet Notu'].map(lise_mezuniyet_notu_map)\n",
    "\n",
    "fill_missing_value_in_columns_with_mode_value(train_data,'Lise Mezuniyet Notu')"
   ]
  },
  {
   "cell_type": "markdown",
   "id": "22d87ff7-922d-4387-a67c-0ff500768a2d",
   "metadata": {},
   "source": [
    "### Başka Bir Kurumdan Burs Alıyor mu?"
   ]
  },
  {
   "cell_type": "code",
   "execution_count": 88,
   "id": "7d2695b9-6601-4860-a95f-c5d653e3b64f",
   "metadata": {},
   "outputs": [
    {
     "name": "stdout",
     "output_type": "stream",
     "text": [
      "Train Data Uniqueness\n",
      "['Hayır' 'Evet' nan]\n",
      "--------------------\n",
      "Test Data Uniqueness\n",
      "['Hayır' 'Evet']\n",
      "---------------------\n",
      "---------------------\n",
      "Train Data Isna()\n",
      "231\n",
      "---------------------\n",
      "Test Data Isna()\n",
      "0\n"
     ]
    }
   ],
   "source": [
    "check_column_in_train_test(train_data,test_data,'Baska Bir Kurumdan Burs Aliyor mu?')"
   ]
  },
  {
   "cell_type": "code",
   "execution_count": 89,
   "id": "6b64a06f-0d86-44fc-a6b0-03c113390644",
   "metadata": {},
   "outputs": [],
   "source": [
    "lower_string_in_column(train_data,'Baska Bir Kurumdan Burs Aliyor mu?')\n",
    "lower_string_in_column(test_data,'Baska Bir Kurumdan Burs Aliyor mu?')"
   ]
  },
  {
   "cell_type": "code",
   "execution_count": 90,
   "id": "d4341de2-cbda-4662-9bbe-877d17975df7",
   "metadata": {},
   "outputs": [],
   "source": [
    "fill_missing_value_in_columns_with_mode_value(train_data,'Baska Bir Kurumdan Burs Aliyor mu?')"
   ]
  },
  {
   "cell_type": "markdown",
   "id": "98b4c72d-bfed-438e-a50f-16c482e68275",
   "metadata": {
    "jp-MarkdownHeadingCollapsed": true
   },
   "source": [
    "### Burs Aldigi Baska Kurum"
   ]
  },
  {
   "cell_type": "code",
   "execution_count": 91,
   "id": "6c2b44fe-0820-452b-b318-f35ba4318a22",
   "metadata": {},
   "outputs": [
    {
     "name": "stdout",
     "output_type": "stream",
     "text": [
      "Train Data Uniqueness\n",
      "[nan 'kyk' 'KYK' ... 'KYK/BURSKOOP' 'Nuh Çimento Vakfı' 'KYK Yök bursu']\n",
      "--------------------\n",
      "Test Data Uniqueness\n",
      "['-' 'KYK' 'Toplum Gönüllüleri Vakfı' ... 'Akhisar Ticaret Borsası'\n",
      " 'T3vakfı' 'kredi yurtlar kurumu /kredi alıyorum']\n",
      "---------------------\n",
      "---------------------\n",
      "Train Data Isna()\n",
      "43604\n",
      "---------------------\n",
      "Test Data Isna()\n",
      "0\n"
     ]
    }
   ],
   "source": [
    "check_column_in_train_test(train_data,test_data,'Burs Aldigi Baska Kurum')"
   ]
  },
  {
   "cell_type": "code",
   "execution_count": 92,
   "id": "5734dd80-7eb7-466e-b339-8f1c889f6e9e",
   "metadata": {},
   "outputs": [],
   "source": [
    "lower_string_in_column(train_data,'Burs Aldigi Baska Kurum')\n",
    "lower_string_in_column(test_data,'Burs Aldigi Baska Kurum')"
   ]
  },
  {
   "cell_type": "code",
   "execution_count": 93,
   "id": "ca2f5c3d-6c49-4a1f-a2c4-be101cf6326b",
   "metadata": {},
   "outputs": [],
   "source": [
    "# 1. Lowercase and remove extra spaces\n",
    "train_data['Burs Aldigi Baska Kurum'] = train_data['Burs Aldigi Baska Kurum'].str.lower().str.strip()\n",
    "\n",
    "# 2. Define a mapping for manual replacements\n",
    "replace_dict = {\n",
    "    'kyk': ['kyk', 'ky','kyk yök bursu','kyk/burskoop', 'kyk( kredi ve yurtlar kurumu)','kyk y','kredi ve yurtlar kurum','kredi ve yurtlar kurumu', 'kredi yurtlar kurumu', 'kyk bursu', 'kredi̇ ve yurtlar kurumu', 'kyk devlet bursu', 'kyk kredi', 'kredi̇ yurtlar kurumu',\n",
    "            'yüksek öğrenim kredi ve yurtlar kurumu', 'kredi ve yurtlar genel müdürlüğü', 'kyk burs', 'kyk bursu alıyorum', 'kredi̇ yurtlar kurumu', \n",
    "            'başbakanlık bursu', 'kyk bursu alıyorum.', 'kyk öğrenim kredisi', 'kredi ve yurtlar kurumu (kyk)', 'kyk öğrenim bursu', 'devlet kyk', 'yükseköğrenim kredi ve yurtlar kurumu'],\n",
    "    'devlet': ['devlet bursu', 'başbakanlık', 'devlet','devlet bursu = gençlik ve spor bakanlığı','gençlik ve spor bakanlığı','yüksek öğretim kurumları'],\n",
    "    'tev': ['tev', 'türk eğitim vakfı'],\n",
    "    '': ['-', 'k']  # Empty string key to handle these cases\n",
    "}"
   ]
  },
  {
   "cell_type": "code",
   "execution_count": 94,
   "id": "985260fd-1795-4403-aedb-2e01fefc85ec",
   "metadata": {},
   "outputs": [
    {
     "name": "stdout",
     "output_type": "stream",
     "text": [
      "Remaining NaN values: 43604\n"
     ]
    }
   ],
   "source": [
    "# Apply the function to the column\n",
    "train_data['Burs Aldigi Baska Kurum'] = train_data['Burs Aldigi Baska Kurum'].apply(lambda x: replace_scholarships(x, replace_dict))\n",
    "\n",
    "# Check for remaining NaN values\n",
    "remaining_nan_count = train_data['Burs Aldigi Baska Kurum'].isna().sum()\n",
    "print(f\"Remaining NaN values: {remaining_nan_count}\")"
   ]
  },
  {
   "cell_type": "code",
   "execution_count": 95,
   "id": "55dde3fb-f4b1-4246-bd29-0f6e3f85fa50",
   "metadata": {},
   "outputs": [],
   "source": [
    "train_data['Burs Aldigi Baska Kurum']=train_data['Burs Aldigi Baska Kurum'].fillna('-')"
   ]
  },
  {
   "cell_type": "markdown",
   "id": "d6b625d9-c1b2-4183-a50c-1f2df1924072",
   "metadata": {},
   "source": [
    "### Baska Kurumdan Aldigi Burs Miktari"
   ]
  },
  {
   "cell_type": "code",
   "execution_count": 96,
   "id": "c94cf10d-95ce-46d0-a0e6-b956b718ac26",
   "metadata": {},
   "outputs": [
    {
     "name": "stdout",
     "output_type": "stream",
     "text": [
      "Train Data Uniqueness\n",
      "[nan '300' '300 TL' '150 TL' '430tlyılda 10 ay' '400' '250 TL'\n",
      " 'Toplamda 1000 lira fakat mezun oldugun icin devam etmiyor' '850 TL'\n",
      " '500 TL' '300 tl' 'AYLIK 280 TL' '430' '1000 TL' '900 TL' '300 LİRA'\n",
      " '365' '500TL, 300TL' '125 TL' '850' '180' '260' '300 lira' '425 TL'\n",
      " 'aylık 100 tl' '300 TL nakit + yemek + ulaşım' '300TL' '250' '900' '150'\n",
      " '400 TL' '800' '300 tl aylık' '280' '400,00 TL' '200 TL' '430 tl'\n",
      " '500 TL - 300 TL' '400 tl' '325 TL' '300 TL / Aylık' '275 TLAYLIK'\n",
      " '10 ay süre ile aylık 600 TL' '500 tl ve 300 tl' '500 tl'\n",
      " 'BİN TÜRK LİRASI' '475' '300,0 tl' '675 TL' 'kredi-300' 'Aylık 300 TL'\n",
      " '300-400' '750' '330 TL' 'aylık 330 tl' '490' '320 TL' '560 TL'\n",
      " 'Tam Burslu olduğum için yalnız eğitim ücreti ek burs almıyorum' '500'\n",
      " '600 TL/Yurt Bursu/Kitap Bursu' '430TL' '350' '600'\n",
      " '8 Ay Boyunca Aylık 720 TL' '330' '250 tl'\n",
      " '350 TL - Türkiye Girişimcilik Vakfından burs kazandığım takdirde Çelik İhracatçıları Birliğindeki bursumdan vazgeçeceğim.'\n",
      " '150 TL/Ay' '100 tl' '300TL nakit + yemek ve yurt bursu'\n",
      " '10 ay süresince 600 TL cep harçlığı' '590' 'Aylık 490 TL - 9 ay boyunca'\n",
      " '1990' '475 TL' '560?' '600 TL' '180 TL' '560 tl' '200'\n",
      " 'Nakit burslar 700TL, Nakde çevrilen yemek ve yol burslarıyla 1160'\n",
      " '330 tl' 'Üstün başarı bursu - 750 TL' '250 Tl' '100 TL' '560' '535'\n",
      " 'aylık 200 tl' '200 TL/ay' '700 TL' '1500' '600 okul,200 LCW' '2000'\n",
      " '620' '175' '325' '1200' '610' '275' '520' '515' '820' '815' '450' '240'\n",
      " '1100' '470' '570' '60' '670' '315' '480' '650' '1000' '920' '300 ₺'\n",
      " '425' '440' '670 Türk Lirası' '2000 TL' '1275 TL' 'Toplamda 1000'\n",
      " '750 TL' '340' '425TL' '660 TL' '425 tl' '780, 425' '380-425' '130'\n",
      " '1120TRY (aylık)' 'Nakit Destek Bursu (9 Ay süre ile 660 TL)' '650 TL'\n",
      " '670 tl' '420' '375' '1275' 'Yıllık belirlenen kapsamlı burs kadar'\n",
      " '350tl' 'Egitim aylari , her ay 250 TL' '514' '225'\n",
      " '100% okul ve 50% yurt bursu' '420,geri ödemeli' '350 tl' '175 TL'\n",
      " '650TL + 400 TL' '400, 425' '1075 toplam' '9*100' '400TL' '1000.00 TL'\n",
      " '100' '220' 'Aylık 400 TL' '420 Turk Lirasi' '150 tl' '425 Tl'\n",
      " '2016-2017 yılı içinde aylık 400 Türk lirası' '400 tl / ay' '424'\n",
      " '425 aylık' '435' 'Aylık 500 TL' '225 tl' '-' '8 ay 1000 TL' '350-400'\n",
      " 'Toplam 640 TL' '610 TL' '400tl' '3000 TL' '425tl' '120' '400 ₺'\n",
      " '1200 TL Milli Sporcu Bursu' '430 TL' 'Almıyorum henuz' '250 TL/ay'\n",
      " '650 TL(Yemek Bursu)' '440 TL' '650TL' 'Eğitim Bursu (%100)' '485 tl'\n",
      " '3 ayda bir 600TL' '425 ₺' '600 + 400' '200TL/ay' '425 - 470' '700'\n",
      " 'Aylık 650 TL' 'Ilk 1000 bursu' '2000 + 1275' '550' '1080' '255' '2700'\n",
      " '320' '665' '290' '1250' '1300' '720' '14500' '2200' '125' '0' '970'\n",
      " '2300' '525' '1600' '500 ve üzeri' '300-500' 'Diğer' '300 t' '75' '423'\n",
      " 'Meslek Yüksekokulu okul 2.lik bursu- %75'\n",
      " 'ApplyBAU sistemi tarafından eğitim ücretimin %80' 'Çince Dil Bursu'\n",
      " 'Degisiyordu her sene' '200 ₺' '410' '275 TL' '270' '300?' 'AYLIK 620 TL'\n",
      " '365 TL' '300-Geri Ödemeli' '290 tl' '300 TL/Ay' '200 tl'\n",
      " '300/aylık/sekiz ay' '170' '9 ay boyunca 475 TL' '140 TL' '100 Tl' '580'\n",
      " '390' '124' 'Aylık 50 TL' '420 TL' '400.00'\n",
      " 'Darüşşafaka Lisesi: 375 KYK: 400' '415' '1200 TL' '2500e / akademik yıl'\n",
      " '420 tl' 'Kurumdan, %50 başarı bursu almaktayım.' '385' '485' '25'\n",
      " 'yuzde 50 burs' '420 ₺' '300tl' '400 lira' '425 TL/ Aylık' '5' '72'\n",
      " '140 tl' '300 Tl' '1000-900' 'Toplam 450' '75tl' 'Üçyüz lira' '550tl/ay'\n",
      " '300 ytl' '70' '175 tl' 'Yıllık 5000 TL' '300.00 TL' '340 tl'\n",
      " 'Nakit burs değil. Yurt ücretim ödeniyor.' '200-280' 'Aylık 300 tl'\n",
      " '600TL' '300TL/Aylık' '295' '360' '380' '300 TL.' '100tl 10 Ay' '75 TL'\n",
      " '550 TL' '150TL' 'Yılda 9 Ay 400 TL' '150tl' '200TL' '250TL' '9 GÜN'\n",
      " '1 ay basina 300?' '300 TLlik kredi alıyorum.' 'aylik 280 tl' '900tl'\n",
      " '300 Türk Lirası' '120 tl' '325 aylik' '7 AY BOYUNCA 450 TL' '400 TL9 Ay'\n",
      " 'Aylık 150 tl' '240 TL' 'Aylık 900 ?' '440,00TL' 'Yıllık 250tl'\n",
      " '9 ay boyunca 400 TL' '130 tl' '100tl' '9 Ay olmak üzere ayda 400TL'\n",
      " '160 TL' '600 TL/AY' '250/ay 1 yılda 9 ay' '40a0' '350 TL' '135 Tl'\n",
      " '500 TL/aylık' '200. Geçen sene almıştım.' '200 TL/AY' '4 yıl' '840 lira'\n",
      " '300 ?' '210' '370' '400TL 9ay' '220 tl' '900 tl aylik' 'aylık 300'\n",
      " 'ayda 100 TL' '260 tl başarı bursu' '375 TL'\n",
      " 'Bu program kapsamında aylık 200 lira burs alıyorum Ancak aldığım bursun tamamını iki ortak kurduğumuz girişimimizin giderlerine harcıyoruz, bu nedenle bursu kişisel olarak kullanmıyorum.'\n",
      " '300TL 10 AY' '250 lira' '100 TLAy' '10 ay 200tl' 'AYLIK 330TL'\n",
      " 'Yurt bursum var' '500TL' '150Tl' 'Yurt Bursu' '75 tl' '990'\n",
      " 'Aylık 200 TL' 'aylık 400 TL' '90 TL' '80' '400 tl/ay' '185TL' '330tl'\n",
      " 'Aylık 150 TL' '365.00' 'Feb-50' '140' 'İLK 100 BURSU' '137 tl' '200_250'\n",
      " '990 tl' '265 TL'\n",
      " '100 TL sadece 9 ay süre ile ve önümüzdeki dönem devam etmeyecek' '330TL'\n",
      " '100 tl kitap bursu' '530' '250+175 425' '210tl' '115 TL' '100-150 TL'\n",
      " '160' '300 TL / Ay' '330 ?' '990 TL/ay' '170 TL'\n",
      " 'İki ayda bir 650 lira civarında' '9 ay 375' '310 TL' '220 TL'\n",
      " 'TOPLAM 200TL'\n",
      " '325 tl fakat 2 ay içinde sonlanacaktır.Bu programa kabul edilirsem bursumu bırakabilirim.'\n",
      " '120 TL' '200 Tl'\n",
      " 'Söz konusu burs 350 lira olarak Ekim 2014-Ekim 2015 tarihlerini kapsamaktadır.'\n",
      " '775' '180 lira 1 yıllık' '150TL aylık' '100,00 tl' '150 TL 8 ay' '250 l'\n",
      " '300 9 aylık' 'AYLIK 400 TL' 'Yurt ve Yemekhane Bursu' '180 tl'\n",
      " '330+100 tl' '80TL' '330 ama yeterli değil.' 'Aylık 100 Türk Lirası'\n",
      " '250 Türk Lirası' '250 - 200' '400tl 9ay' '50 tl ve 75 tl' 'Aylık 300tl'\n",
      " '110' '800 tl' '325,00 tl' '50 tl' '900 TL - 950 TL' 'Yıllık 750 tl'\n",
      " 'Projeme Bahçeşehir üniversitesinin vermiş olduğu yüzde 35 lik bir burs bulunmaktadır bursum bir sonraki dönem aktif olacaktır'\n",
      " '250 TL/1 ay' '90TL' '2 ayda bir 300 TL' '1.275×8. 2.125×6' '990tl'\n",
      " '124TL' '210 TL' '330 Tl' '20010 aylık' 'aylık 330' '125 tl' '350.00'\n",
      " '100 Türk Lirası' '124 TL' '250/2ay' '135' '165' '460' '1550' '115'\n",
      " '200tl' 'Yılda 2000 TL, 2017 eylülde bitiyor' '135 tl' '425-250' '1200TL'\n",
      " '670 TL' '1275 TL (İlk 100 Bursu)' '500 TL 10 ay olmak üzere'\n",
      " 'KYK 425 TEV 480' '2016 Ekim ayında Türkiye' '400 geri ödemeli' '725'\n",
      " '425.00 TL' '250 , 150' '350TL' 'ayda 470 tl' '350 120'\n",
      " 'Kyk 425ank vakfi 250' '425 + 500' '1.275 TL' '350/200' '350-350' '426'\n",
      " 'Geri ödemeli kyk bursu' '425 tl kredi geri ödemeli' '100 lira' '200.2'\n",
      " \"650 Tl Koç Üniversitesinden, 400 TL KYK'dan\" 'Aylık 1275 TL'\n",
      " 'Aylık 425 Türk Lirası' 'Aylık 175 tl' '430 ₺' '480 TL' '450TL' '425+150'\n",
      " '150 ₺' '425 Türk Lirası' '100 TRY' '390 TL' 'Ayda 400' '300+' '425.175'\n",
      " '433' '250 TL, 200 TL' '250 ₺' '450 TL'\n",
      " 'daha önceden bu kurumdan bir burs almadım' '425,00 TL'\n",
      " '250 Lira. Fakat burslar 2 aydır yatmıyor. Burssuz okuyorum demek istemedim çünkü burs alıyordum ama kesildi yalan atmak istemediğim için bunu bilginize sunma gereği hissettim'\n",
      " 'Kredi Yurtlar Kurumundan 420 TL' '1120' 'AYDA 400 LİRA' '200.198' '245'\n",
      " '221' '255 lira 9 ay' '10 ay süreyle 200TL' '425 lira' '255tl' '525 tl'\n",
      " 'ayda 425' '250+200=450' 'yok' '97' 'kyk' '425 karşılıklı' '425Tl/Aylık'\n",
      " '540' '₺425' '500tl' '.' 'Aylık 200' '400/Aylık' '400 civarı' '250tl'\n",
      " 'Spor ğençlik bakanlığı' 'Aylık 425' '410 TL'\n",
      " 'toplamda yaklaşık 900 lira' '4225' '215' '1500 TL' '250 TL/ay (9 ay)'\n",
      " '1275tl' '230 Tl' 'burs almıyorum'\n",
      " 'her iki kurumunda 9 ay boyunca ödeme yapıyor ve toplamda iki kurum 1800 lira ödeme yapıyor.'\n",
      " '400 TL / ay' '230 TL' '100 ₺' 'Kyk 425-Mümder 150 tl' '375TL/9ay' '355'\n",
      " 'Aylık 100tl' '340 TL' '6 x 300 tl' 'senelik 1000 tl' '424 TL' 'Kyk'\n",
      " 'her sene belirlenen miktarı' '95' 'Aylık 200 Türk Lirası' '1000 tl'\n",
      " 'aylık 150 tl' 'Aylık 425TL' '180tl' 'Ayda 100 tl'\n",
      " '425, dokuz ay olmak üzere ayda 100 lira' '450 tl' '375 TL/AY (9 Ay)'\n",
      " 'KYK 425 İtü mezunlar 250' '400, 400' '70 TL' '400 ayda' '420 Tl'\n",
      " 'AYLIK 150 TL' '480 Türk lirası' 'Aylık 425 TL' 'AYLIK 425 TL'\n",
      " '425, 150, 250' '4200 TL yıllık' '425.00' '160 TL + 480 TL' '2012'\n",
      " '425(-150)' 'Aylık 400'\n",
      " 'KYK 425 ve TOG 260 ( Fellow olmaya hak kazandığım takdirde burslarımdan çekileceğim)'\n",
      " 'Yurt bursu ve 115 tl' '1,275 ₺' '450 Tl' '425/200'\n",
      " '400 ama 8 kardes oldugumuz icin yetmiyor' 'Yılda 6 kez 400 tl'\n",
      " 'TEV 480 tl ve kyk kredi 425 tl' '440 tl' '1275 + 350 TL' '5000/yıl'\n",
      " 'Senede 1200 TL' '425 Türk lirası' '255 TL' '425/Ay' 'Kyk bursu kadar'\n",
      " '1200 ilk 100 bursu' '150+100' '1450' '790' '1410' '1850' '5000' '510'\n",
      " '2750' '505' '2500' '230' '383' '630' '1000₺ ve üstü' '500₺ - 999₺'\n",
      " '0 - 499₺']\n",
      "--------------------\n",
      "Test Data Uniqueness\n",
      "['-' '1000₺ ve üstü' '500₺ - 999₺' '0 - 499 ₺']\n",
      "---------------------\n",
      "---------------------\n",
      "Train Data Isna()\n",
      "43789\n",
      "---------------------\n",
      "Test Data Isna()\n",
      "0\n"
     ]
    }
   ],
   "source": [
    "\n",
    "check_column_in_train_test(train_data,test_data,'Baska Kurumdan Aldigi Burs Miktari')"
   ]
  },
  {
   "cell_type": "code",
   "execution_count": 97,
   "id": "1a922a23-eb5d-41fc-996d-be7a17134f20",
   "metadata": {},
   "outputs": [],
   "source": [
    "train_data['Baska Kurumdan Aldigi Burs Miktari']=train_data['Baska Kurumdan Aldigi Burs Miktari'].replace('nan', np.nan)\n"
   ]
  },
  {
   "cell_type": "code",
   "execution_count": 98,
   "id": "08fd2c52-b07b-4631-8ea6-a1eaab77cf87",
   "metadata": {},
   "outputs": [],
   "source": [
    "lower_string_in_column(train_data,'Baska Kurumdan Aldigi Burs Miktari')"
   ]
  },
  {
   "cell_type": "code",
   "execution_count": 99,
   "id": "280a82a2-d9c0-4710-a482-38713fa534da",
   "metadata": {},
   "outputs": [],
   "source": [
    "train_data['Baska Kurumdan Aldigi Burs Miktari'] = train_data['Baska Kurumdan Aldigi Burs Miktari'].apply(clean_amount)"
   ]
  },
  {
   "cell_type": "code",
   "execution_count": 100,
   "id": "3ba4c0a9-d4e7-4a07-a613-5c4a68c3fbb1",
   "metadata": {},
   "outputs": [],
   "source": [
    "train_data['Baska Kurumdan Aldigi Burs Miktari'] = train_data['Baska Kurumdan Aldigi Burs Miktari'].apply(categorize_amount)\n"
   ]
  },
  {
   "cell_type": "code",
   "execution_count": 101,
   "id": "8b639535-83d6-461e-afcc-352d0b512c09",
   "metadata": {},
   "outputs": [],
   "source": [
    "baska_kurum_test_data_map={\n",
    "    '0 - 499 ₺':'0 - 499₺'\n",
    "}"
   ]
  },
  {
   "cell_type": "code",
   "execution_count": 102,
   "id": "29ec672a-9c4b-428b-a8db-05959148a993",
   "metadata": {},
   "outputs": [],
   "source": [
    "baska_kurum_test_data_map={\n",
    "    '0 - 499 ₺':'0 - 499₺'\n",
    "}"
   ]
  },
  {
   "cell_type": "code",
   "execution_count": 103,
   "id": "72845f1c-59bb-4e73-a546-305c36205ddb",
   "metadata": {},
   "outputs": [],
   "source": [
    "test_data['Baska Kurumdan Aldigi Burs Miktari']=test_data['Baska Kurumdan Aldigi Burs Miktari'].replace(baska_kurum_test_data_map)"
   ]
  },
  {
   "cell_type": "code",
   "execution_count": 104,
   "id": "7601c123-0930-48a8-b3a5-d9a4cd8f15d7",
   "metadata": {},
   "outputs": [],
   "source": [
    "baska_kurum_burs_miktari_ordinal_mapping = {\n",
    "    '-':0,\n",
    "    '0 - 499₺':1,\n",
    "    '500₺ - 999₺':2,\n",
    "    '1000₺ ve üstü':3\n",
    " }"
   ]
  },
  {
   "cell_type": "code",
   "execution_count": 105,
   "id": "fabfd534-201a-4699-af79-bee2145f714d",
   "metadata": {},
   "outputs": [
    {
     "name": "stderr",
     "output_type": "stream",
     "text": [
      "C:\\Users\\Naz\\AppData\\Local\\Temp\\ipykernel_13624\\3658120266.py:1: FutureWarning: Downcasting behavior in `replace` is deprecated and will be removed in a future version. To retain the old behavior, explicitly call `result.infer_objects(copy=False)`. To opt-in to the future behavior, set `pd.set_option('future.no_silent_downcasting', True)`\n",
      "  test_data['Baska Kurumdan Aldigi Burs Miktari']= test_data['Baska Kurumdan Aldigi Burs Miktari'].replace(baska_kurum_burs_miktari_ordinal_mapping)\n",
      "C:\\Users\\Naz\\AppData\\Local\\Temp\\ipykernel_13624\\3658120266.py:2: FutureWarning: Downcasting behavior in `replace` is deprecated and will be removed in a future version. To retain the old behavior, explicitly call `result.infer_objects(copy=False)`. To opt-in to the future behavior, set `pd.set_option('future.no_silent_downcasting', True)`\n",
      "  train_data['Baska Kurumdan Aldigi Burs Miktari']= train_data['Baska Kurumdan Aldigi Burs Miktari'].replace(baska_kurum_burs_miktari_ordinal_mapping)\n"
     ]
    }
   ],
   "source": [
    "test_data['Baska Kurumdan Aldigi Burs Miktari']= test_data['Baska Kurumdan Aldigi Burs Miktari'].replace(baska_kurum_burs_miktari_ordinal_mapping)\n",
    "train_data['Baska Kurumdan Aldigi Burs Miktari']= train_data['Baska Kurumdan Aldigi Burs Miktari'].replace(baska_kurum_burs_miktari_ordinal_mapping)\n"
   ]
  },
  {
   "cell_type": "markdown",
   "id": "a0a19d43-8c97-43ab-8a74-289e35b6cc44",
   "metadata": {},
   "source": [
    "### Anne Eğitim Durumu"
   ]
  },
  {
   "cell_type": "code",
   "execution_count": 106,
   "id": "4754e198-4926-40a4-83f1-3b4a64ec7d23",
   "metadata": {},
   "outputs": [
    {
     "name": "stdout",
     "output_type": "stream",
     "text": [
      "Train Data Uniqueness\n",
      "['Üniversite' 'İlkokul Mezunu' 'Eğitim Yok' 'Lise' 'Ortaokul Mezunu'\n",
      " 'Yüksek Lisans / Doktora' 'Üniversite Mezunu' 'Lise Mezunu'\n",
      " 'Yüksek Lisans / Doktara' 'İLKOKUL MEZUNU' 'LİSE' 'EĞİTİM YOK' nan\n",
      " 'ÜNİVERSİTE' 'ORTAOKUL MEZUNU' 'DOKTORA' 'YÜKSEK LİSANS' 'Ortaokul'\n",
      " 'İlkokul' 'Yüksek Lisans' 'Eğitimi yok' 'Doktora']\n",
      "--------------------\n",
      "Test Data Uniqueness\n",
      "['İlkokul' 'Yüksek Lisans' 'Üniversite' 'Eğitimi yok' 'Lise' 'Ortaokul'\n",
      " 'Doktora']\n",
      "---------------------\n",
      "---------------------\n",
      "Train Data Isna()\n",
      "406\n",
      "---------------------\n",
      "Test Data Isna()\n",
      "0\n"
     ]
    }
   ],
   "source": [
    "check_column_in_train_test(train_data,test_data,'Anne Egitim Durumu')"
   ]
  },
  {
   "cell_type": "code",
   "execution_count": 107,
   "id": "d0a57122-0478-4508-a049-cd9764e57586",
   "metadata": {},
   "outputs": [],
   "source": [
    "lower_string_in_column(train_data,'Anne Egitim Durumu')\n",
    "lower_string_in_column(test_data,'Anne Egitim Durumu')"
   ]
  },
  {
   "cell_type": "code",
   "execution_count": 108,
   "id": "cd136d2d-b755-43e2-b54b-9af2e6048907",
   "metadata": {},
   "outputs": [],
   "source": [
    "egitim_durumu_map={\n",
    "    'üniversite mezunu':'üniversite',\n",
    "    'üni̇versi̇te':'üniversite',\n",
    "    'ortaokul mezunu':'ortaokul',\n",
    "    'i̇lkokul mezunu':'i̇lkokul',\n",
    "    'yüksek lisans / doktara':'yüksek lisans',\n",
    "    'yüksek lisans / doktora':'yüksek lisans',\n",
    "    'yüksek lisans':'yüksek lisans',\n",
    "    'yüksek li̇sans':'yüksek lisans',\n",
    "    'lise mezunu':'lise',\n",
    "    'eğitim yok':'eğitimi yok',\n",
    "    'eği̇ti̇m yok':'eğitimi yok',\n",
    "    'eğitimi yok':'eğitimi yok',\n",
    "    'li̇se':'lise',\n",
    "    'li̇se':'lise',\n",
    "    '0':'eğitimi yok',\n",
    "    np.nan:'eğitimi yok'\n",
    "\n",
    "}"
   ]
  },
  {
   "cell_type": "code",
   "execution_count": 109,
   "id": "d9845f1c-ec8f-4059-a85e-51c4a6dc1042",
   "metadata": {},
   "outputs": [],
   "source": [
    "train_data['Anne Egitim Durumu'] = train_data['Anne Egitim Durumu'].replace(egitim_durumu_map)\n"
   ]
  },
  {
   "cell_type": "markdown",
   "id": "b53af2e5-d470-429d-939a-ddde9a11d9c3",
   "metadata": {},
   "source": [
    "### Anne Calisma Durumu"
   ]
  },
  {
   "cell_type": "code",
   "execution_count": 110,
   "id": "fda916ed-545c-4730-a66c-a2250260861d",
   "metadata": {},
   "outputs": [
    {
     "name": "stdout",
     "output_type": "stream",
     "text": [
      "Train Data Uniqueness\n",
      "['Hayır' 'Evet' 'Emekli' nan]\n",
      "--------------------\n",
      "Test Data Uniqueness\n",
      "['Evet' 'Hayır']\n",
      "---------------------\n",
      "---------------------\n",
      "Train Data Isna()\n",
      "11896\n",
      "---------------------\n",
      "Test Data Isna()\n",
      "0\n"
     ]
    }
   ],
   "source": [
    "check_column_in_train_test(train_data,test_data,'Anne Calisma Durumu')"
   ]
  },
  {
   "cell_type": "code",
   "execution_count": 111,
   "id": "208c4867-bd34-41ee-8130-45c6ff7d759c",
   "metadata": {},
   "outputs": [],
   "source": [
    "lower_string_in_column(train_data,'Anne Calisma Durumu')\n",
    "lower_string_in_column(test_data,'Anne Calisma Durumu')"
   ]
  },
  {
   "cell_type": "code",
   "execution_count": 112,
   "id": "f441f7aa-76f6-46d7-806f-9cc4a442e01e",
   "metadata": {},
   "outputs": [],
   "source": [
    "anne_calisma_durumu_map={\n",
    "    'emekli':'hayır'\n",
    "}\n",
    "train_data['Anne Calisma Durumu'] = train_data['Anne Calisma Durumu'].replace(anne_calisma_durumu_map)\n"
   ]
  },
  {
   "cell_type": "code",
   "execution_count": 113,
   "id": "96c6d803-eef6-4359-b8d7-db02f34f227c",
   "metadata": {},
   "outputs": [],
   "source": [
    "fill_missing_value_in_columns_with_mode_value(train_data,'Anne Calisma Durumu')"
   ]
  },
  {
   "cell_type": "markdown",
   "id": "31771944-9006-40df-9fd7-0b200dccf13a",
   "metadata": {},
   "source": [
    "### Anne Sektör"
   ]
  },
  {
   "cell_type": "code",
   "execution_count": 114,
   "id": "925c05ff-6899-466d-8b35-2f3cece0a395",
   "metadata": {},
   "outputs": [
    {
     "name": "stdout",
     "output_type": "stream",
     "text": [
      "Train Data Uniqueness\n",
      "['0' 'Kamu' 'Özel Sektör' 'Diğer' nan 'KAMU' 'ÖZEL SEKTÖR' 'DİĞER' '-']\n",
      "--------------------\n",
      "Test Data Uniqueness\n",
      "['Özel Sektör' '-' 'Kamu' 'Diğer']\n",
      "---------------------\n",
      "---------------------\n",
      "Train Data Isna()\n",
      "34220\n",
      "---------------------\n",
      "Test Data Isna()\n",
      "0\n"
     ]
    }
   ],
   "source": [
    "check_column_in_train_test(train_data,test_data,'Anne Sektor')"
   ]
  },
  {
   "cell_type": "code",
   "execution_count": 115,
   "id": "98f906ac-e9dc-4180-94bd-ee29b10fdbba",
   "metadata": {},
   "outputs": [],
   "source": [
    "lower_string_in_column(train_data,'Anne Sektor')\n",
    "lower_string_in_column(test_data,'Anne Sektor')"
   ]
  },
  {
   "cell_type": "code",
   "execution_count": 116,
   "id": "718c0b3b-eb0b-4964-9645-e1dd49e0e5ad",
   "metadata": {},
   "outputs": [],
   "source": [
    "sektor_map={\n",
    "    '0':'-',\n",
    "     'diğer':'diğer',\n",
    "    'di̇ğer':'diğer',\n",
    "    np.nan:'-'\n",
    "    \n",
    "}\n",
    "train_data['Anne Sektor'] = train_data['Anne Sektor'].replace(sektor_map)\n"
   ]
  },
  {
   "cell_type": "markdown",
   "id": "59a929ab-043c-4064-b259-29cc3339c5d9",
   "metadata": {
    "jp-MarkdownHeadingCollapsed": true
   },
   "source": [
    "### Baba Eğitim Durumu"
   ]
  },
  {
   "cell_type": "code",
   "execution_count": 117,
   "id": "982fbc3f-b98f-4cc4-bf30-575eb1ac702f",
   "metadata": {},
   "outputs": [
    {
     "name": "stdout",
     "output_type": "stream",
     "text": [
      "Train Data Uniqueness\n",
      "['Üniversite' 'Yüksek Lisans / Doktora' 'İlkokul Mezunu' nan\n",
      " 'Ortaokul Mezunu' 'Lise' 'Eğitim Yok' '0' 'Üniversite Mezunu'\n",
      " 'Lise Mezunu' 'Yüksek Lisans / Doktara' 'İLKOKUL MEZUNU' 'ÜNİVERSİTE'\n",
      " 'EĞİTİM YOK' 'ORTAOKUL MEZUNU' 'LİSE' 'YÜKSEK LİSANS' 'DOKTORA' 'İlkokul'\n",
      " 'Ortaokul' 'Doktora' 'Yüksek Lisans' 'Eğitimi yok']\n",
      "--------------------\n",
      "Test Data Uniqueness\n",
      "['Ortaokul' 'İlkokul' 'Üniversite' 'Lise' 'Yüksek Lisans' 'Doktora'\n",
      " 'Eğitimi yok']\n",
      "---------------------\n",
      "---------------------\n",
      "Train Data Isna()\n",
      "1006\n",
      "---------------------\n",
      "Test Data Isna()\n",
      "0\n"
     ]
    }
   ],
   "source": [
    "check_column_in_train_test(train_data,test_data,'Baba Egitim Durumu')"
   ]
  },
  {
   "cell_type": "code",
   "execution_count": 118,
   "id": "140b0b68-10dc-478e-9794-110ad9d19992",
   "metadata": {},
   "outputs": [],
   "source": [
    "lower_string_in_column(train_data,'Baba Egitim Durumu')\n",
    "lower_string_in_column(test_data,'Baba Egitim Durumu')"
   ]
  },
  {
   "cell_type": "code",
   "execution_count": 119,
   "id": "bb55ebf2-6325-4453-9eda-840f3c650074",
   "metadata": {},
   "outputs": [],
   "source": [
    "train_data['Baba Egitim Durumu'] = train_data['Baba Egitim Durumu'].replace(egitim_durumu_map)\n"
   ]
  },
  {
   "cell_type": "markdown",
   "id": "0bda34a6-83e2-44ba-b6c5-ab150da72303",
   "metadata": {},
   "source": [
    "### Baba Çalışma Durumu"
   ]
  },
  {
   "cell_type": "code",
   "execution_count": 120,
   "id": "253f71b0-9455-4bb4-82cf-736a654cdbb4",
   "metadata": {},
   "outputs": [
    {
     "name": "stdout",
     "output_type": "stream",
     "text": [
      "Train Data Uniqueness\n",
      "['Emekli' 'Evet' nan 'Hayır']\n",
      "--------------------\n",
      "Test Data Uniqueness\n",
      "['Evet' 'Hayır']\n",
      "---------------------\n",
      "---------------------\n",
      "Train Data Isna()\n",
      "12617\n",
      "---------------------\n",
      "Test Data Isna()\n",
      "0\n"
     ]
    }
   ],
   "source": [
    "check_column_in_train_test(train_data,test_data,'Baba Calisma Durumu')"
   ]
  },
  {
   "cell_type": "code",
   "execution_count": 121,
   "id": "4ae8a0fe-0482-450d-8d9a-8ec22a66a2db",
   "metadata": {},
   "outputs": [],
   "source": [
    "lower_string_in_column(train_data,'Baba Calisma Durumu')\n",
    "lower_string_in_column(test_data,'Baba Calisma Durumu')"
   ]
  },
  {
   "cell_type": "code",
   "execution_count": 122,
   "id": "d3b11e46-f886-4884-a99e-b40220760cae",
   "metadata": {},
   "outputs": [],
   "source": [
    "baba_calisma_durumu_map={\n",
    "    'emekli':'hayır'\n",
    "}\n",
    "train_data['Baba Calisma Durumu'] = train_data['Baba Calisma Durumu'].replace(baba_calisma_durumu_map)\n"
   ]
  },
  {
   "cell_type": "code",
   "execution_count": 123,
   "id": "f4e35b1d-5bc0-4cca-9b13-9e273cb31c50",
   "metadata": {},
   "outputs": [],
   "source": [
    "fill_missing_value_in_columns_with_mode_value(train_data,'Baba Calisma Durumu')"
   ]
  },
  {
   "cell_type": "markdown",
   "id": "756deeb8-1e39-4ac1-ab2a-58cb24b9f831",
   "metadata": {},
   "source": [
    "### Baba Sektör"
   ]
  },
  {
   "cell_type": "code",
   "execution_count": 124,
   "id": "7d0225ad-a841-4660-bf52-4552b94f260c",
   "metadata": {},
   "outputs": [
    {
     "name": "stdout",
     "output_type": "stream",
     "text": [
      "Train Data Uniqueness\n",
      "['0' 'Özel Sektör' 'Kamu' nan 'Diğer' 'KAMU' 'DİĞER' 'ÖZEL SEKTÖR' '-']\n",
      "--------------------\n",
      "Test Data Uniqueness\n",
      "['Diğer' 'Özel Sektör' '-' 'Kamu']\n",
      "---------------------\n",
      "---------------------\n",
      "Train Data Isna()\n",
      "20172\n",
      "---------------------\n",
      "Test Data Isna()\n",
      "0\n"
     ]
    }
   ],
   "source": [
    "check_column_in_train_test(train_data,test_data,'Baba Sektor')"
   ]
  },
  {
   "cell_type": "code",
   "execution_count": 125,
   "id": "28f23ea1-038e-46d6-91fb-18c2e9e42ece",
   "metadata": {},
   "outputs": [],
   "source": [
    "lower_string_in_column(train_data,'Baba Sektor')\n",
    "lower_string_in_column(test_data,'Baba Sektor')"
   ]
  },
  {
   "cell_type": "code",
   "execution_count": 126,
   "id": "c8de40df-645b-46a8-bf87-0d167b4ffbd1",
   "metadata": {},
   "outputs": [],
   "source": [
    "train_data['Baba Sektor'] = train_data['Baba Sektor'].replace(sektor_map)\n"
   ]
  },
  {
   "cell_type": "markdown",
   "id": "c4c57425-3d5c-4d6f-9c1d-7b371ec7a8ae",
   "metadata": {},
   "source": [
    "### Kardes Sayisi"
   ]
  },
  {
   "cell_type": "code",
   "execution_count": 127,
   "id": "5fe3d5ee-a201-426b-83cf-c8d243a24d4a",
   "metadata": {},
   "outputs": [
    {
     "name": "stdout",
     "output_type": "stream",
     "text": [
      "Train Data Uniqueness\n",
      "['1' '6' '10' '3' nan '4' '2' '5' '0' '7' '8' '11' '9' '12' '13'\n",
      " 'Kardeş Sayısı 1 Ek Bilgi Aile Hk. Anne Vefat' '18' '14' '4.0' '5.0'\n",
      " '1.0' '2.0' '6.0' '3.0' '9.0' '0.0' '10.0' '7.0' '8.0']\n",
      "--------------------\n",
      "Test Data Uniqueness\n",
      "[2. 3. 0. 4. 1.]\n",
      "---------------------\n",
      "---------------------\n",
      "Train Data Isna()\n",
      "1131\n",
      "---------------------\n",
      "Test Data Isna()\n",
      "0\n"
     ]
    }
   ],
   "source": [
    "check_column_in_train_test(train_data,test_data,'Kardes Sayisi')"
   ]
  },
  {
   "cell_type": "code",
   "execution_count": 128,
   "id": "72d74324-261a-432d-bb68-e3a3d0b88948",
   "metadata": {},
   "outputs": [],
   "source": [
    "lower_string_in_column(train_data,'Kardes Sayisi')\n"
   ]
  },
  {
   "cell_type": "code",
   "execution_count": 129,
   "id": "aa47f5d0-89e8-4425-8142-da424a1195a8",
   "metadata": {},
   "outputs": [],
   "source": [
    "kardes_sayisi_map={\n",
    "    'kardeş sayısı 1 ek bilgi aile hk. anne vefat':'0.0'\n",
    "   \n",
    "}\n",
    "train_data['Kardes Sayisi'] = train_data['Kardes Sayisi'].replace(kardes_sayisi_map)"
   ]
  },
  {
   "cell_type": "code",
   "execution_count": 130,
   "id": "21f2c88e-91fd-45b1-a374-1ec5eb8b33a9",
   "metadata": {},
   "outputs": [],
   "source": [
    "train_data['Kardes Sayisi'] = pd.to_numeric(train_data['Kardes Sayisi'], errors='coerce')\n",
    "fill_missing_value_in_columns_with_mode_value(train_data,'Kardes Sayisi')"
   ]
  },
  {
   "cell_type": "markdown",
   "id": "5dcf2cb2-2a96-4361-97ff-80b6b9e388d0",
   "metadata": {
    "jp-MarkdownHeadingCollapsed": true
   },
   "source": [
    "### Girişimcilik Kulüpleri Tarzı Bir Kulübe Üye misiniz?"
   ]
  },
  {
   "cell_type": "code",
   "execution_count": 131,
   "id": "accb801d-71cb-43e7-b089-7ba4937e8ac0",
   "metadata": {},
   "outputs": [
    {
     "name": "stdout",
     "output_type": "stream",
     "text": [
      "Train Data Uniqueness\n",
      "['Evet' 'Hayır' nan]\n",
      "--------------------\n",
      "Test Data Uniqueness\n",
      "['Hayır' 'Evet']\n",
      "---------------------\n",
      "---------------------\n",
      "Train Data Isna()\n",
      "1828\n",
      "---------------------\n",
      "Test Data Isna()\n",
      "0\n"
     ]
    }
   ],
   "source": [
    "check_column_in_train_test(train_data,test_data,'Girisimcilik Kulupleri Tarzi Bir Kulube Uye misiniz?')"
   ]
  },
  {
   "cell_type": "code",
   "execution_count": 132,
   "id": "1df2244b-7d74-4f2c-9fac-be88255927b7",
   "metadata": {},
   "outputs": [],
   "source": [
    "lower_string_in_column(train_data,'Girisimcilik Kulupleri Tarzi Bir Kulube Uye misiniz?')\n",
    "lower_string_in_column(test_data,'Girisimcilik Kulupleri Tarzi Bir Kulube Uye misiniz?')\n",
    "fill_missing_value_in_columns_with_mode_value(train_data,'Girisimcilik Kulupleri Tarzi Bir Kulube Uye misiniz?')"
   ]
  },
  {
   "cell_type": "markdown",
   "id": "bdf80242-9dd9-4545-b960-89898fc5618b",
   "metadata": {},
   "source": [
    "### Uye Oldugunuz Kulubun Ismi"
   ]
  },
  {
   "cell_type": "code",
   "execution_count": 133,
   "id": "61a373ce-5586-4df0-b775-63b6e21729a5",
   "metadata": {},
   "outputs": [],
   "source": [
    "#check_column_in_train_test(train_data,test_data,'Uye Oldugunuz Kulubun Ismi')"
   ]
  },
  {
   "cell_type": "code",
   "execution_count": 134,
   "id": "78f60f8e-4522-4b13-91e6-d6858c5de235",
   "metadata": {},
   "outputs": [],
   "source": [
    "train_data,test_data=drop_columns_from_train_test(train_data,test_data,'Uye Oldugunuz Kulubun Ismi')"
   ]
  },
  {
   "cell_type": "markdown",
   "id": "41416f7d-ca16-43da-9f69-b6510c4b0969",
   "metadata": {},
   "source": [
    "### Profesyonel Bir Spor Daliyla Mesgul musunuz?"
   ]
  },
  {
   "cell_type": "code",
   "execution_count": 135,
   "id": "81bd24e6-f64f-4d8b-9179-e0d8fb108fd5",
   "metadata": {},
   "outputs": [
    {
     "name": "stdout",
     "output_type": "stream",
     "text": [
      "Train Data Uniqueness\n",
      "['Evet' 'Hayır' nan]\n",
      "--------------------\n",
      "Test Data Uniqueness\n",
      "['Evet' 'Hayır']\n",
      "---------------------\n",
      "---------------------\n",
      "Train Data Isna()\n",
      "1114\n",
      "---------------------\n",
      "Test Data Isna()\n",
      "0\n"
     ]
    }
   ],
   "source": [
    "check_column_in_train_test(train_data,test_data,'Profesyonel Bir Spor Daliyla Mesgul musunuz?')"
   ]
  },
  {
   "cell_type": "code",
   "execution_count": 136,
   "id": "e4fc572a-d61c-422b-aecd-0a83cbe02143",
   "metadata": {},
   "outputs": [],
   "source": [
    "lower_string_in_column(train_data,'Profesyonel Bir Spor Daliyla Mesgul musunuz?')\n",
    "lower_string_in_column(test_data,'Profesyonel Bir Spor Daliyla Mesgul musunuz?')\n",
    "fill_missing_value_in_columns_with_mode_value(train_data,'Profesyonel Bir Spor Daliyla Mesgul musunuz?')"
   ]
  },
  {
   "cell_type": "markdown",
   "id": "7e9d01f0-187a-4511-ae28-b41929b3a486",
   "metadata": {
    "jp-MarkdownHeadingCollapsed": true
   },
   "source": [
    "### Spor Dalındaki Rolünüz Nedir?"
   ]
  },
  {
   "cell_type": "code",
   "execution_count": 137,
   "id": "9c0e8bf2-556e-4fb6-bb33-632a49e6c38e",
   "metadata": {},
   "outputs": [
    {
     "name": "stdout",
     "output_type": "stream",
     "text": [
      "Train Data Uniqueness\n",
      "['Diğer' '0' nan 'Kaptan' 'KAPTAN / LİDER' 'DİĞER' 'Lider/Kaptan'\n",
      " 'Bireysel' 'Takım Oyuncusu' '-']\n",
      "--------------------\n",
      "Test Data Uniqueness\n",
      "['Takım Oyuncusu' 'Bireysel Spor' '-' 'Lider/Kaptan' 'Diğer']\n",
      "---------------------\n",
      "---------------------\n",
      "Train Data Isna()\n",
      "32245\n",
      "---------------------\n",
      "Test Data Isna()\n",
      "0\n"
     ]
    }
   ],
   "source": [
    "check_column_in_train_test(train_data,test_data,'Spor Dalindaki Rolunuz Nedir?')"
   ]
  },
  {
   "cell_type": "code",
   "execution_count": 138,
   "id": "1942d97f-ebce-43d1-a80d-eae5de43800a",
   "metadata": {},
   "outputs": [],
   "source": [
    "lower_string_in_column(train_data,'Spor Dalindaki Rolunuz Nedir?')\n",
    "lower_string_in_column(test_data,'Spor Dalindaki Rolunuz Nedir?')"
   ]
  },
  {
   "cell_type": "code",
   "execution_count": 139,
   "id": "8ecc589b-ce5e-4a22-b390-ea10e748ca3c",
   "metadata": {},
   "outputs": [],
   "source": [
    "spor_dalindaki_rolunuz_nedir_map={\n",
    "    '0': '-',\n",
    "    np.nan: '-',\n",
    "    'kaptan':'lider/kaptan',\n",
    "    'kaptan / li̇der':'lider/kaptan',\n",
    "    'diğer':'diğer',\n",
    "    'di̇ğer':'diğer',\n",
    "    'bireysel':'bireysel spor',\n",
    "    'takım oyuncusu':'takım oyuncusu'       \n",
    "}\n",
    "train_data['Spor Dalindaki Rolunuz Nedir?']=train_data['Spor Dalindaki Rolunuz Nedir?'].replace(spor_dalindaki_rolunuz_nedir_map)"
   ]
  },
  {
   "cell_type": "markdown",
   "id": "1b445a0c-84da-4c17-885e-9b915de9e711",
   "metadata": {
    "jp-MarkdownHeadingCollapsed": true
   },
   "source": [
    "### Aktif olarak bir STK üyesi misiniz?"
   ]
  },
  {
   "cell_type": "code",
   "execution_count": 140,
   "id": "822a577a-aaf6-439d-bc3e-41c69a252758",
   "metadata": {},
   "outputs": [
    {
     "name": "stdout",
     "output_type": "stream",
     "text": [
      "Train Data Uniqueness\n",
      "['Hayır' nan 'Evet']\n",
      "--------------------\n",
      "Test Data Uniqueness\n",
      "['Evet' 'Hayır']\n",
      "---------------------\n",
      "---------------------\n",
      "Train Data Isna()\n",
      "12841\n",
      "---------------------\n",
      "Test Data Isna()\n",
      "0\n"
     ]
    }
   ],
   "source": [
    "check_column_in_train_test(train_data,test_data,\n",
    "                           'Aktif olarak bir STK üyesi misiniz?')"
   ]
  },
  {
   "cell_type": "code",
   "execution_count": 141,
   "id": "7696123e-2162-4cd0-b89e-92578ad28c9e",
   "metadata": {},
   "outputs": [],
   "source": [
    "lower_string_in_column(train_data,'Aktif olarak bir STK üyesi misiniz?')\n",
    "lower_string_in_column(test_data,'Aktif olarak bir STK üyesi misiniz?')"
   ]
  },
  {
   "cell_type": "code",
   "execution_count": 142,
   "id": "e9ba6aa2-2310-4c64-a530-ecaec5b0d6f0",
   "metadata": {},
   "outputs": [],
   "source": [
    "fill_missing_value_in_columns_with_mode_value(train_data,'Aktif olarak bir STK üyesi misiniz?')"
   ]
  },
  {
   "cell_type": "markdown",
   "id": "2ddafd02-2ba0-49b6-b8e7-3e3c1272fd9a",
   "metadata": {
    "jp-MarkdownHeadingCollapsed": true
   },
   "source": [
    "### Hangi STK'nin Uyesisiniz?"
   ]
  },
  {
   "cell_type": "code",
   "execution_count": 143,
   "id": "2098cca8-08df-43d5-8218-f52f64676e3d",
   "metadata": {},
   "outputs": [
    {
     "name": "stdout",
     "output_type": "stream",
     "text": [
      "Train Data Uniqueness\n",
      "[nan 'Demokratikleşme çabaları' 'yüz yüze projesi' ...\n",
      " \"Düzenli bir şekilde Kızılay'a kan bağışı yapıyorum\"\n",
      " 'Gençlik merkezi ile beraber yapılan gönüllülük faaliyetinin bszilr'\n",
      " \"Genç Kızılay Topluluğu'nda 3 yıldır gönüllüyüm. 1 yıl boyunca topluluğun yönetim kurulunda üye ilişkileri birimi sorumlusuydum. Şu an gönüllü olarak toplulukta aktifim.\"]\n",
      "--------------------\n",
      "Test Data Uniqueness\n",
      "['Kızılay da gönüllü dağıtım' '-' 'Lise gezilerde liderlik yapıyordum' ...\n",
      " 'Hayvanlara yardım adı altında hayvanlara yardım edip mama taşımıştım.'\n",
      " 'Ağaç dikme, huzur evi ziyareti'\n",
      " \"YetGen, YGA vb. programlarda yer aldım. Hacettepe Endüstri ve Sistem Topluluğun 'da 2021 yılında aktif üye olarak yer alırken 2022 -2023 eğitim öğretim yılı boyunca organizasyon birimi koordinatörlüğü yaptım. 2023-2024 eğitim öğretim yılında da Denetim Kurulu Başkanlığı yürüteceğim. Ayrıca Kalite Derneği GençKal Ankara'da da aktif üye olarak görev almaktayım.\"]\n",
      "---------------------\n",
      "---------------------\n",
      "Train Data Isna()\n",
      "49431\n",
      "---------------------\n",
      "Test Data Isna()\n",
      "0\n"
     ]
    }
   ],
   "source": [
    "\n",
    "check_column_in_train_test(train_data,test_data,\n",
    "                           \"Hangi STK'nin Uyesisiniz?\")"
   ]
  },
  {
   "cell_type": "code",
   "execution_count": 144,
   "id": "1ac513c0-829f-460c-9160-ddb662d9accd",
   "metadata": {},
   "outputs": [],
   "source": [
    "lower_string_in_column(train_data, \"Hangi STK'nin Uyesisiniz?\")\n",
    "lower_string_in_column(test_data, \"Hangi STK'nin Uyesisiniz?\")"
   ]
  },
  {
   "cell_type": "code",
   "execution_count": 145,
   "id": "614bf93b-52ac-433f-8840-49256887bafe",
   "metadata": {},
   "outputs": [],
   "source": [
    "train_data[\"Hangi STK'nin Uyesisiniz?\"]=train_data[\"Hangi STK'nin Uyesisiniz?\"].fillna('-')"
   ]
  },
  {
   "cell_type": "markdown",
   "id": "ec59af49-2258-44eb-814e-600ab0095a81",
   "metadata": {},
   "source": [
    "### Stk Projesine Katildiniz Mi?"
   ]
  },
  {
   "cell_type": "code",
   "execution_count": 146,
   "id": "fa81ddaa-2655-4898-8532-93046da4e8bf",
   "metadata": {},
   "outputs": [
    {
     "name": "stdout",
     "output_type": "stream",
     "text": [
      "Train Data Uniqueness\n",
      "['Evet' 'Hayır' nan]\n",
      "--------------------\n",
      "Test Data Uniqueness\n",
      "[nan]\n",
      "---------------------\n",
      "---------------------\n",
      "Train Data Isna()\n",
      "28299\n",
      "---------------------\n",
      "Test Data Isna()\n",
      "11049\n"
     ]
    }
   ],
   "source": [
    "check_column_in_train_test(train_data,test_data,\n",
    "                           'Stk Projesine Katildiniz Mi?')"
   ]
  },
  {
   "cell_type": "code",
   "execution_count": 147,
   "id": "25f3fb99-9b4a-409c-a723-587e69017e39",
   "metadata": {},
   "outputs": [],
   "source": [
    "train_data, test_data=drop_columns_from_train_test(train_data,test_data, 'Stk Projesine Katildiniz Mi?')"
   ]
  },
  {
   "cell_type": "markdown",
   "id": "2cf21759-773d-460b-b648-5f014f02e105",
   "metadata": {},
   "source": [
    "### Girişimcilikle İlgili Deneyiminiz Var mı?"
   ]
  },
  {
   "cell_type": "code",
   "execution_count": 148,
   "id": "290810db-2a25-4c49-bca6-fff6c5b2a799",
   "metadata": {},
   "outputs": [
    {
     "name": "stdout",
     "output_type": "stream",
     "text": [
      "Train Data Uniqueness\n",
      "['Hayır' 'Evet' nan]\n",
      "--------------------\n",
      "Test Data Uniqueness\n",
      "['Hayır' 'Evet']\n",
      "---------------------\n",
      "---------------------\n",
      "Train Data Isna()\n",
      "12839\n",
      "---------------------\n",
      "Test Data Isna()\n",
      "0\n"
     ]
    }
   ],
   "source": [
    "check_column_in_train_test(train_data,test_data,\n",
    "                           'Girisimcilikle Ilgili Deneyiminiz Var Mi?')"
   ]
  },
  {
   "cell_type": "code",
   "execution_count": 149,
   "id": "96297598-3967-421a-953e-74578bcb4868",
   "metadata": {},
   "outputs": [],
   "source": [
    "lower_string_in_column(train_data,'Girisimcilikle Ilgili Deneyiminiz Var Mi?')\n",
    "lower_string_in_column(test_data,'Girisimcilikle Ilgili Deneyiminiz Var Mi?')"
   ]
  },
  {
   "cell_type": "code",
   "execution_count": 150,
   "id": "7e14028b-8074-4cdd-8c38-8f77eeac9218",
   "metadata": {},
   "outputs": [],
   "source": [
    "fill_missing_value_in_columns_with_mode_value(train_data,'Girisimcilikle Ilgili Deneyiminiz Var Mi?')"
   ]
  },
  {
   "cell_type": "markdown",
   "id": "787919eb-ec6a-44b7-8fdb-9a45d8c43f71",
   "metadata": {},
   "source": [
    "### Girişimcilikle İlgili Deneyiminizi Açıklayabilir misiniz?"
   ]
  },
  {
   "cell_type": "code",
   "execution_count": 151,
   "id": "4e477bb6-a9e9-4e80-9073-5c7dc8e25765",
   "metadata": {},
   "outputs": [],
   "source": [
    "#check_column_in_train_test(train_data,test_data,  'Girisimcilikle Ilgili Deneyiminizi Aciklayabilir misiniz?')"
   ]
  },
  {
   "cell_type": "code",
   "execution_count": 152,
   "id": "4758ad77-2bb0-4860-95f0-8b614846b74a",
   "metadata": {},
   "outputs": [],
   "source": [
    "train_data, test_data=drop_columns_from_train_test(train_data,test_data,'Girisimcilikle Ilgili Deneyiminizi Aciklayabilir misiniz?')"
   ]
  },
  {
   "cell_type": "markdown",
   "id": "65da36ea-45dc-4f7b-be72-bd6a54ac0523",
   "metadata": {},
   "source": [
    "### İngilizce Biliyor musunuz?"
   ]
  },
  {
   "cell_type": "code",
   "execution_count": 153,
   "id": "668ceeeb-703e-4959-9fad-80869b47f0d0",
   "metadata": {},
   "outputs": [
    {
     "name": "stdout",
     "output_type": "stream",
     "text": [
      "Train Data Uniqueness\n",
      "[nan 'Evet' 'Hayır']\n",
      "--------------------\n",
      "Test Data Uniqueness\n",
      "['Evet' 'Hayır']\n",
      "---------------------\n",
      "---------------------\n",
      "Train Data Isna()\n",
      "6444\n",
      "---------------------\n",
      "Test Data Isna()\n",
      "0\n"
     ]
    }
   ],
   "source": [
    "check_column_in_train_test(train_data,test_data,'Ingilizce Biliyor musunuz?')"
   ]
  },
  {
   "cell_type": "code",
   "execution_count": 154,
   "id": "76555e2a-1858-4836-82ea-dcf6af32819d",
   "metadata": {},
   "outputs": [],
   "source": [
    "lower_string_in_column(train_data,'Ingilizce Biliyor musunuz?')\n",
    "lower_string_in_column(test_data,'Ingilizce Biliyor musunuz?')"
   ]
  },
  {
   "cell_type": "code",
   "execution_count": 155,
   "id": "c7996e24-0f16-46f3-ad03-8a1cfbbe7277",
   "metadata": {},
   "outputs": [],
   "source": [
    "fill_missing_value_in_columns_with_mode_value(train_data,'Ingilizce Biliyor musunuz?')"
   ]
  },
  {
   "cell_type": "markdown",
   "id": "1d1ff82a-feda-418f-9d14-f2907963f036",
   "metadata": {},
   "source": [
    "### İngilizce Seviyeniz?"
   ]
  },
  {
   "cell_type": "code",
   "execution_count": 156,
   "id": "199a0d5a-45ab-4c9a-8d0c-508e151b5f1f",
   "metadata": {},
   "outputs": [
    {
     "name": "stdout",
     "output_type": "stream",
     "text": [
      "Train Data Uniqueness\n",
      "[nan 'İleri' 'Orta' '0' 'Başlangıç']\n",
      "--------------------\n",
      "Test Data Uniqueness\n",
      "[nan]\n",
      "---------------------\n",
      "---------------------\n",
      "Train Data Isna()\n",
      "36495\n",
      "---------------------\n",
      "Test Data Isna()\n",
      "11049\n"
     ]
    }
   ],
   "source": [
    "\n",
    "check_column_in_train_test(train_data,test_data,'Ingilizce Seviyeniz?')"
   ]
  },
  {
   "cell_type": "code",
   "execution_count": 157,
   "id": "5234179a-c8e2-4ddd-a6dd-fa54e4c9c14d",
   "metadata": {},
   "outputs": [],
   "source": [
    "train_data, test_data=drop_columns_from_train_test(train_data,test_data,'Ingilizce Seviyeniz?')"
   ]
  },
  {
   "cell_type": "markdown",
   "id": "86a2d5dd-7a0b-443b-84b5-657fcb26b5c4",
   "metadata": {},
   "source": [
    "### Daha Önceden Mezun Olunduysa, Mezun Olunan Üniversite"
   ]
  },
  {
   "cell_type": "code",
   "execution_count": 158,
   "id": "705066eb-4d73-4e75-ac13-970b836dcbc7",
   "metadata": {},
   "outputs": [],
   "source": [
    "\n",
    "#check_column_in_train_test(train_data,test_data,'Daha Önceden Mezun Olunduysa, Mezun Olunan Üniversite')"
   ]
  },
  {
   "cell_type": "code",
   "execution_count": 159,
   "id": "dd8fae77-877a-45ac-8369-c7cb1388c140",
   "metadata": {},
   "outputs": [],
   "source": [
    "train_data, test_data=drop_columns_from_train_test(train_data,test_data,'Daha Önceden Mezun Olunduysa, Mezun Olunan Üniversite')"
   ]
  },
  {
   "cell_type": "markdown",
   "id": "d5fe81dd-fe98-4736-b270-19441ca62104",
   "metadata": {
    "jp-MarkdownHeadingCollapsed": true
   },
   "source": [
    "# Data Encoding"
   ]
  },
  {
   "cell_type": "code",
   "execution_count": 160,
   "id": "4b4ef0b3-9b2e-459b-aade-4c2fe397724e",
   "metadata": {},
   "outputs": [],
   "source": [
    "one_hot_encoding_columns=[]\n",
    "frequency_encoding_columns=[]\n",
    "ordinal_encoding_columns=[]\n",
    "for col in train_data.select_dtypes(include=['object']).columns.tolist():\n",
    "    unique_count = train_data[col].nunique()   \n",
    "    \n",
    "    if unique_count<=5  and col!='Baska Kurumdan Aldigi Burs Miktari':\n",
    "        one_hot_encoding_columns.append(col)\n",
    "        continue \n",
    "    elif unique_count>10:\n",
    "        frequency_encoding_columns.append(col)\n",
    "        continue\n",
    "    else:\n",
    "        ordinal_encoding_columns.append(col)\n",
    "        \n",
    "    #print(f\"{col}: {unique_count} unique categories\")\n",
    "    \n",
    "  "
   ]
  },
  {
   "cell_type": "markdown",
   "id": "b54b30d6-55f5-4bfb-9c6c-b3c5fec92b88",
   "metadata": {},
   "source": [
    "### One hot Encoding"
   ]
  },
  {
   "cell_type": "code",
   "execution_count": 161,
   "id": "388de216-95f2-4315-b780-31a04a35aa77",
   "metadata": {},
   "outputs": [
    {
     "data": {
      "text/plain": [
       "['Cinsiyet',\n",
       " 'Universite Turu',\n",
       " 'Burs Aliyor mu?',\n",
       " 'Lise Turu',\n",
       " 'Lise Bolumu',\n",
       " 'Lise Mezuniyet Notu',\n",
       " 'Baska Bir Kurumdan Burs Aliyor mu?',\n",
       " 'Anne Calisma Durumu',\n",
       " 'Anne Sektor',\n",
       " 'Baba Calisma Durumu',\n",
       " 'Baba Sektor',\n",
       " 'Girisimcilik Kulupleri Tarzi Bir Kulube Uye misiniz?',\n",
       " 'Profesyonel Bir Spor Daliyla Mesgul musunuz?',\n",
       " 'Spor Dalindaki Rolunuz Nedir?',\n",
       " 'Aktif olarak bir STK üyesi misiniz?',\n",
       " 'Girisimcilikle Ilgili Deneyiminiz Var Mi?',\n",
       " 'Ingilizce Biliyor musunuz?']"
      ]
     },
     "execution_count": 161,
     "metadata": {},
     "output_type": "execute_result"
    }
   ],
   "source": [
    "one_hot_encoding_columns"
   ]
  },
  {
   "cell_type": "code",
   "execution_count": 162,
   "id": "e0e68ca9-4bee-4adf-a52b-a317c2f7df83",
   "metadata": {},
   "outputs": [
    {
     "name": "stdout",
     "output_type": "stream",
     "text": [
      "Cinsiyet\n",
      "['erkek' 'kadın' 'belirtmek istemiyorum']\n",
      "['kadın' 'erkek' 'belirtmek istemiyorum']\n",
      "Universite Turu\n",
      "['özel' 'devlet']\n",
      "['devlet' 'özel']\n",
      "Burs Aliyor mu?\n",
      "['evet' 'hayır']\n",
      "['hayır' 'evet']\n",
      "Lise Turu\n",
      "['devlet' 'özel']\n",
      "['devlet' 'özel']\n",
      "Lise Bolumu\n",
      "['sayısal' 'eşit ağırlık' 'sözel' 'dil']\n",
      "['eşit ağırlık' 'sözel' 'sayısal' 'dil']\n",
      "Lise Mezuniyet Notu\n",
      "['50 - 74' '75 - 100' '25 - 49']\n",
      "['50 - 74' '75 - 100' '25 - 49']\n",
      "Baska Bir Kurumdan Burs Aliyor mu?\n",
      "['hayır' 'evet']\n",
      "['hayır' 'evet']\n",
      "Anne Calisma Durumu\n",
      "['hayır' 'evet']\n",
      "['evet' 'hayır']\n",
      "Anne Sektor\n",
      "['-' 'kamu' 'özel sektör' 'diğer']\n",
      "['özel sektör' '-' 'kamu' 'diğer']\n",
      "Baba Calisma Durumu\n",
      "['hayır' 'evet']\n",
      "['evet' 'hayır']\n",
      "Baba Sektor\n",
      "['-' 'özel sektör' 'kamu' 'diğer']\n",
      "['diğer' 'özel sektör' '-' 'kamu']\n",
      "Girisimcilik Kulupleri Tarzi Bir Kulube Uye misiniz?\n",
      "['evet' 'hayır']\n",
      "['hayır' 'evet']\n",
      "Profesyonel Bir Spor Daliyla Mesgul musunuz?\n",
      "['evet' 'hayır']\n",
      "['evet' 'hayır']\n",
      "Spor Dalindaki Rolunuz Nedir?\n",
      "['diğer' '-' 'lider/kaptan' 'bireysel spor' 'takım oyuncusu']\n",
      "['takım oyuncusu' 'bireysel spor' '-' 'lider/kaptan' 'diğer']\n",
      "Aktif olarak bir STK üyesi misiniz?\n",
      "['hayır' 'evet']\n",
      "['evet' 'hayır']\n",
      "Girisimcilikle Ilgili Deneyiminiz Var Mi?\n",
      "['hayır' 'evet']\n",
      "['hayır' 'evet']\n",
      "Ingilizce Biliyor musunuz?\n",
      "['evet' 'hayır']\n",
      "['evet' 'hayır']\n"
     ]
    }
   ],
   "source": [
    "show_all_one_hot_encoding_categories_for_train_and_test(one_hot_encoding_columns)"
   ]
  },
  {
   "cell_type": "code",
   "execution_count": 163,
   "id": "7fc751c6-9358-4b16-a72f-6d63cb7b642e",
   "metadata": {},
   "outputs": [],
   "source": [
    "\n",
    "# It drops the first category in each one-hot encoded column. \n",
    "# This is often done to avoid multicollinearity in statistical models like linear regression.\n",
    "train_data= pd.get_dummies(train_data, columns=one_hot_encoding_columns, drop_first=True)\n",
    "test_data= pd.get_dummies(test_data, columns=one_hot_encoding_columns, drop_first=True)\n"
   ]
  },
  {
   "cell_type": "markdown",
   "id": "f368b01c-79f0-494c-b454-91aced95e634",
   "metadata": {},
   "source": [
    "### Ordinal Encoding"
   ]
  },
  {
   "cell_type": "code",
   "execution_count": 164,
   "id": "72d61e07-ee7f-40d3-8f3a-77fb809d6c56",
   "metadata": {},
   "outputs": [],
   "source": [
    "egitim_durumu_ordinal_mapping={\n",
    "    'eğitimi yok':0,\n",
    "    'i̇lkokul' :1,\n",
    "    'ortaokul':2,\n",
    "    'lise' :3,\n",
    "    'üniversite':4,\n",
    "    'yüksek lisans':5,\n",
    "    'doktora':6\n",
    "}"
   ]
  },
  {
   "cell_type": "code",
   "execution_count": 165,
   "id": "9afb9061-bddc-470f-b4dd-2c352f322500",
   "metadata": {},
   "outputs": [
    {
     "name": "stderr",
     "output_type": "stream",
     "text": [
      "C:\\Users\\Naz\\AppData\\Local\\Temp\\ipykernel_13624\\160239947.py:1: FutureWarning: Downcasting behavior in `replace` is deprecated and will be removed in a future version. To retain the old behavior, explicitly call `result.infer_objects(copy=False)`. To opt-in to the future behavior, set `pd.set_option('future.no_silent_downcasting', True)`\n",
      "  test_data['Anne Egitim Durumu']=test_data['Anne Egitim Durumu'].replace(egitim_durumu_ordinal_mapping)\n",
      "C:\\Users\\Naz\\AppData\\Local\\Temp\\ipykernel_13624\\160239947.py:2: FutureWarning: Downcasting behavior in `replace` is deprecated and will be removed in a future version. To retain the old behavior, explicitly call `result.infer_objects(copy=False)`. To opt-in to the future behavior, set `pd.set_option('future.no_silent_downcasting', True)`\n",
      "  train_data['Anne Egitim Durumu']= train_data['Anne Egitim Durumu'].replace(egitim_durumu_ordinal_mapping)\n"
     ]
    }
   ],
   "source": [
    "\n",
    "test_data['Anne Egitim Durumu']=test_data['Anne Egitim Durumu'].replace(egitim_durumu_ordinal_mapping)\n",
    "train_data['Anne Egitim Durumu']= train_data['Anne Egitim Durumu'].replace(egitim_durumu_ordinal_mapping)\n"
   ]
  },
  {
   "cell_type": "code",
   "execution_count": 166,
   "id": "ff30765a-a9e7-4787-9e46-659d1ea46aa3",
   "metadata": {},
   "outputs": [
    {
     "name": "stderr",
     "output_type": "stream",
     "text": [
      "C:\\Users\\Naz\\AppData\\Local\\Temp\\ipykernel_13624\\2537554478.py:1: FutureWarning: Downcasting behavior in `replace` is deprecated and will be removed in a future version. To retain the old behavior, explicitly call `result.infer_objects(copy=False)`. To opt-in to the future behavior, set `pd.set_option('future.no_silent_downcasting', True)`\n",
      "  test_data['Baba Egitim Durumu']=test_data['Baba Egitim Durumu'].replace(egitim_durumu_ordinal_mapping)\n",
      "C:\\Users\\Naz\\AppData\\Local\\Temp\\ipykernel_13624\\2537554478.py:2: FutureWarning: Downcasting behavior in `replace` is deprecated and will be removed in a future version. To retain the old behavior, explicitly call `result.infer_objects(copy=False)`. To opt-in to the future behavior, set `pd.set_option('future.no_silent_downcasting', True)`\n",
      "  train_data['Baba Egitim Durumu']= train_data['Baba Egitim Durumu'].replace(egitim_durumu_ordinal_mapping)\n"
     ]
    }
   ],
   "source": [
    "test_data['Baba Egitim Durumu']=test_data['Baba Egitim Durumu'].replace(egitim_durumu_ordinal_mapping)\n",
    "train_data['Baba Egitim Durumu']= train_data['Baba Egitim Durumu'].replace(egitim_durumu_ordinal_mapping)\n"
   ]
  },
  {
   "cell_type": "markdown",
   "id": "cb0db4a3-12e0-47e2-bbc3-c92dabab6874",
   "metadata": {},
   "source": [
    "### Frequency Encoding"
   ]
  },
  {
   "cell_type": "code",
   "execution_count": 167,
   "id": "dc72d846-afa7-41c2-b476-e20baf0bf05d",
   "metadata": {},
   "outputs": [
    {
     "data": {
      "text/plain": [
       "['Dogum Yeri',\n",
       " 'Ikametgah Sehri',\n",
       " 'Universite Adi',\n",
       " 'Bölüm',\n",
       " 'Lise Adi',\n",
       " 'Lise Sehir',\n",
       " 'Burs Aldigi Baska Kurum',\n",
       " \"Hangi STK'nin Uyesisiniz?\"]"
      ]
     },
     "execution_count": 167,
     "metadata": {},
     "output_type": "execute_result"
    }
   ],
   "source": [
    "frequency_encoding_columns"
   ]
  },
  {
   "cell_type": "code",
   "execution_count": 168,
   "id": "96014b75-e350-4900-9f3c-4416de049e3c",
   "metadata": {},
   "outputs": [],
   "source": [
    "train_data=frequency_encoding(train_data,frequency_encoding_columns)\n",
    "test_data=frequency_encoding(test_data,frequency_encoding_columns)"
   ]
  },
  {
   "cell_type": "markdown",
   "id": "8c356836-539b-4103-a005-9379f0dfb549",
   "metadata": {},
   "source": [
    "# Splitting Data"
   ]
  },
  {
   "cell_type": "code",
   "execution_count": 169,
   "id": "033dd753-2453-4af6-bf4d-74ac47b8e323",
   "metadata": {},
   "outputs": [],
   "source": [
    "# Define your models\n",
    "models = {\n",
    "    'Linear Regression': LinearRegression(),\n",
    "    'Ridge Regression': Ridge(),\n",
    "    'Lasso Regression': Lasso(),\n",
    "    'Elastic Net': ElasticNet(),\n",
    "    'Bayesian Ridge': BayesianRidge(),\n",
    "    'Least Angle Regression': Lars(),\n",
    "    'Lasso Least Angle Regression': LassoLars(),\n",
    "    'Gradient Boosting Regressor': GradientBoostingRegressor(),\n",
    "    'Random Forest Regressor': RandomForestRegressor(),\n",
    "    'Extra Trees Regressor': ExtraTreesRegressor(),\n",
    "    'AdaBoost Regressor': AdaBoostRegressor(),\n",
    "    'Decision Tree Regressor': DecisionTreeRegressor(),\n",
    "    'K Neighbors Regressor': KNeighborsRegressor(),\n",
    "    'Huber Regressor': HuberRegressor(),\n",
    "    'Orthogonal Matching Pursuit': OrthogonalMatchingPursuit(),\n",
    "    'Dummy Regressor': DummyRegressor(strategy='mean'),\n",
    "    'Extreme Gradient Boosting': xgb.XGBRegressor(),\n",
    "    'Light Gradient Boosting Machine': lgb.LGBMRegressor(),\n",
    "    'CatBoost Regressor': CatBoostRegressor(learning_rate=0.1, depth=6, iterations=500, verbose=0),\n",
    "    'Hist Gradient Boosting Regressor': HistGradientBoostingRegressor()\n",
    "}"
   ]
  },
  {
   "cell_type": "code",
   "execution_count": 170,
   "id": "7d714b89-75af-41d3-ae62-859e6c2e25ff",
   "metadata": {},
   "outputs": [],
   "source": [
    "\n",
    "# Define features and target\n",
    "X = train_data.drop(['Degerlendirme Puani'], axis=1)  # Features\n",
    "y = train_data['Degerlendirme Puani']  # Target\n",
    "\n",
    "# Ensure consistent columns in test data\n",
    "test_data = test_data[X.columns]\n",
    "\n",
    "# Split train data into training and validation sets\n",
    "X_train, X_val, y_train, y_val = train_test_split(X, y, test_size=0.2, random_state=42)\n"
   ]
  },
  {
   "cell_type": "code",
   "execution_count": 171,
   "id": "4cf16c9e-b0fe-4b90-ada8-1523ec705557",
   "metadata": {},
   "outputs": [],
   "source": [
    "# Initialize variables to track the best model\n",
    "best_model = None\n",
    "best_rmse = float('inf')\n",
    "\n",
    "# Initialize the submission DataFrame with 'id' column\n",
    "submission_df = pd.DataFrame()\n",
    "submission_df['id'] = test_data.index  # 'id' column is created from the test data index\n"
   ]
  },
  {
   "cell_type": "code",
   "execution_count": 174,
   "id": "85f3aec3-0c72-4a1f-a468-a436e9c94567",
   "metadata": {},
   "outputs": [
    {
     "name": "stdout",
     "output_type": "stream",
     "text": [
      "Training Linear Regression...\n",
      "Linear Regression RMSE: 10.138704591346238\n",
      "Training Ridge Regression...\n",
      "Ridge Regression RMSE: 10.138685104573234\n",
      "Training Lasso Regression...\n"
     ]
    },
    {
     "name": "stderr",
     "output_type": "stream",
     "text": [
      "C:\\Users\\Naz\\anaconda3\\Lib\\site-packages\\sklearn\\metrics\\_regression.py:483: FutureWarning: 'squared' is deprecated in version 1.4 and will be removed in 1.6. To calculate the root mean squared error, use the function'root_mean_squared_error'.\n",
      "  warnings.warn(\n",
      "C:\\Users\\Naz\\anaconda3\\Lib\\site-packages\\sklearn\\metrics\\_regression.py:483: FutureWarning: 'squared' is deprecated in version 1.4 and will be removed in 1.6. To calculate the root mean squared error, use the function'root_mean_squared_error'.\n",
      "  warnings.warn(\n",
      "C:\\Users\\Naz\\anaconda3\\Lib\\site-packages\\sklearn\\metrics\\_regression.py:483: FutureWarning: 'squared' is deprecated in version 1.4 and will be removed in 1.6. To calculate the root mean squared error, use the function'root_mean_squared_error'.\n",
      "  warnings.warn(\n"
     ]
    },
    {
     "name": "stdout",
     "output_type": "stream",
     "text": [
      "Lasso Regression RMSE: 11.504827354443693\n",
      "Training Elastic Net...\n",
      "Elastic Net RMSE: 12.929710307478922\n",
      "Training Bayesian Ridge...\n"
     ]
    },
    {
     "name": "stderr",
     "output_type": "stream",
     "text": [
      "C:\\Users\\Naz\\anaconda3\\Lib\\site-packages\\sklearn\\metrics\\_regression.py:483: FutureWarning: 'squared' is deprecated in version 1.4 and will be removed in 1.6. To calculate the root mean squared error, use the function'root_mean_squared_error'.\n",
      "  warnings.warn(\n",
      "C:\\Users\\Naz\\anaconda3\\Lib\\site-packages\\sklearn\\metrics\\_regression.py:483: FutureWarning: 'squared' is deprecated in version 1.4 and will be removed in 1.6. To calculate the root mean squared error, use the function'root_mean_squared_error'.\n",
      "  warnings.warn(\n",
      "C:\\Users\\Naz\\anaconda3\\Lib\\site-packages\\sklearn\\metrics\\_regression.py:483: FutureWarning: 'squared' is deprecated in version 1.4 and will be removed in 1.6. To calculate the root mean squared error, use the function'root_mean_squared_error'.\n",
      "  warnings.warn(\n"
     ]
    },
    {
     "name": "stdout",
     "output_type": "stream",
     "text": [
      "Bayesian Ridge RMSE: 10.138591230367698\n",
      "Training Least Angle Regression...\n",
      "Least Angle Regression RMSE: 10.239103873258932\n",
      "Training Lasso Least Angle Regression...\n",
      "Lasso Least Angle Regression RMSE: 11.504827401764786\n",
      "Training Gradient Boosting Regressor...\n"
     ]
    },
    {
     "name": "stderr",
     "output_type": "stream",
     "text": [
      "C:\\Users\\Naz\\anaconda3\\Lib\\site-packages\\sklearn\\metrics\\_regression.py:483: FutureWarning: 'squared' is deprecated in version 1.4 and will be removed in 1.6. To calculate the root mean squared error, use the function'root_mean_squared_error'.\n",
      "  warnings.warn(\n",
      "C:\\Users\\Naz\\anaconda3\\Lib\\site-packages\\sklearn\\metrics\\_regression.py:483: FutureWarning: 'squared' is deprecated in version 1.4 and will be removed in 1.6. To calculate the root mean squared error, use the function'root_mean_squared_error'.\n",
      "  warnings.warn(\n"
     ]
    },
    {
     "name": "stdout",
     "output_type": "stream",
     "text": [
      "Gradient Boosting Regressor RMSE: 6.955625906966575\n",
      "Training Random Forest Regressor...\n"
     ]
    },
    {
     "name": "stderr",
     "output_type": "stream",
     "text": [
      "C:\\Users\\Naz\\anaconda3\\Lib\\site-packages\\sklearn\\metrics\\_regression.py:483: FutureWarning: 'squared' is deprecated in version 1.4 and will be removed in 1.6. To calculate the root mean squared error, use the function'root_mean_squared_error'.\n",
      "  warnings.warn(\n"
     ]
    },
    {
     "name": "stdout",
     "output_type": "stream",
     "text": [
      "Random Forest Regressor RMSE: 6.195878974022037\n",
      "Training Extra Trees Regressor...\n"
     ]
    },
    {
     "name": "stderr",
     "output_type": "stream",
     "text": [
      "C:\\Users\\Naz\\anaconda3\\Lib\\site-packages\\sklearn\\metrics\\_regression.py:483: FutureWarning: 'squared' is deprecated in version 1.4 and will be removed in 1.6. To calculate the root mean squared error, use the function'root_mean_squared_error'.\n",
      "  warnings.warn(\n"
     ]
    },
    {
     "name": "stdout",
     "output_type": "stream",
     "text": [
      "Extra Trees Regressor RMSE: 6.443900495764935\n",
      "Training AdaBoost Regressor...\n"
     ]
    },
    {
     "name": "stderr",
     "output_type": "stream",
     "text": [
      "C:\\Users\\Naz\\anaconda3\\Lib\\site-packages\\sklearn\\metrics\\_regression.py:483: FutureWarning: 'squared' is deprecated in version 1.4 and will be removed in 1.6. To calculate the root mean squared error, use the function'root_mean_squared_error'.\n",
      "  warnings.warn(\n"
     ]
    },
    {
     "name": "stdout",
     "output_type": "stream",
     "text": [
      "AdaBoost Regressor RMSE: 10.611689380448032\n",
      "Training Decision Tree Regressor...\n"
     ]
    },
    {
     "name": "stderr",
     "output_type": "stream",
     "text": [
      "C:\\Users\\Naz\\anaconda3\\Lib\\site-packages\\sklearn\\metrics\\_regression.py:483: FutureWarning: 'squared' is deprecated in version 1.4 and will be removed in 1.6. To calculate the root mean squared error, use the function'root_mean_squared_error'.\n",
      "  warnings.warn(\n"
     ]
    },
    {
     "name": "stdout",
     "output_type": "stream",
     "text": [
      "Decision Tree Regressor RMSE: 8.818285480666082\n",
      "Training K Neighbors Regressor...\n"
     ]
    },
    {
     "name": "stderr",
     "output_type": "stream",
     "text": [
      "C:\\Users\\Naz\\anaconda3\\Lib\\site-packages\\sklearn\\metrics\\_regression.py:483: FutureWarning: 'squared' is deprecated in version 1.4 and will be removed in 1.6. To calculate the root mean squared error, use the function'root_mean_squared_error'.\n",
      "  warnings.warn(\n"
     ]
    },
    {
     "name": "stdout",
     "output_type": "stream",
     "text": [
      "K Neighbors Regressor RMSE: 12.868440774155083\n",
      "Training Huber Regressor...\n"
     ]
    },
    {
     "name": "stderr",
     "output_type": "stream",
     "text": [
      "C:\\Users\\Naz\\anaconda3\\Lib\\site-packages\\sklearn\\linear_model\\_huber.py:342: ConvergenceWarning: lbfgs failed to converge (status=1):\n",
      "STOP: TOTAL NO. of ITERATIONS REACHED LIMIT.\n",
      "\n",
      "Increase the number of iterations (max_iter) or scale the data as shown in:\n",
      "    https://scikit-learn.org/stable/modules/preprocessing.html\n",
      "  self.n_iter_ = _check_optimize_result(\"lbfgs\", opt_res, self.max_iter)\n",
      "C:\\Users\\Naz\\anaconda3\\Lib\\site-packages\\sklearn\\metrics\\_regression.py:483: FutureWarning: 'squared' is deprecated in version 1.4 and will be removed in 1.6. To calculate the root mean squared error, use the function'root_mean_squared_error'.\n",
      "  warnings.warn(\n",
      "C:\\Users\\Naz\\anaconda3\\Lib\\site-packages\\sklearn\\metrics\\_regression.py:483: FutureWarning: 'squared' is deprecated in version 1.4 and will be removed in 1.6. To calculate the root mean squared error, use the function'root_mean_squared_error'.\n",
      "  warnings.warn(\n",
      "C:\\Users\\Naz\\anaconda3\\Lib\\site-packages\\sklearn\\metrics\\_regression.py:483: FutureWarning: 'squared' is deprecated in version 1.4 and will be removed in 1.6. To calculate the root mean squared error, use the function'root_mean_squared_error'.\n",
      "  warnings.warn(\n"
     ]
    },
    {
     "name": "stdout",
     "output_type": "stream",
     "text": [
      "Huber Regressor RMSE: 15.543277228164962\n",
      "Training Orthogonal Matching Pursuit...\n",
      "Orthogonal Matching Pursuit RMSE: 15.599612864027065\n",
      "Training Dummy Regressor...\n",
      "Dummy Regressor RMSE: 17.723694862551927\n",
      "Training Extreme Gradient Boosting...\n"
     ]
    },
    {
     "name": "stderr",
     "output_type": "stream",
     "text": [
      "C:\\Users\\Naz\\anaconda3\\Lib\\site-packages\\sklearn\\metrics\\_regression.py:483: FutureWarning: 'squared' is deprecated in version 1.4 and will be removed in 1.6. To calculate the root mean squared error, use the function'root_mean_squared_error'.\n",
      "  warnings.warn(\n"
     ]
    },
    {
     "name": "stdout",
     "output_type": "stream",
     "text": [
      "Extreme Gradient Boosting RMSE: 6.138921268726029\n",
      "Training Light Gradient Boosting Machine...\n",
      "[LightGBM] [Warning] Found whitespace in feature_names, replace with underlines\n",
      "[LightGBM] [Info] Auto-choosing row-wise multi-threading, the overhead of testing was 0.006720 seconds.\n",
      "You can set `force_row_wise=true` to remove the overhead.\n",
      "And if memory is not enough, you can set `force_col_wise=true`.\n",
      "[LightGBM] [Info] Total Bins 1304\n",
      "[LightGBM] [Info] Number of data points in the train set: 51730, number of used features: 44\n",
      "[LightGBM] [Info] Start training from score 31.702068\n"
     ]
    },
    {
     "name": "stderr",
     "output_type": "stream",
     "text": [
      "C:\\Users\\Naz\\anaconda3\\Lib\\site-packages\\sklearn\\metrics\\_regression.py:483: FutureWarning: 'squared' is deprecated in version 1.4 and will be removed in 1.6. To calculate the root mean squared error, use the function'root_mean_squared_error'.\n",
      "  warnings.warn(\n"
     ]
    },
    {
     "name": "stdout",
     "output_type": "stream",
     "text": [
      "Light Gradient Boosting Machine RMSE: 6.186711059768367\n",
      "Training CatBoost Regressor...\n"
     ]
    },
    {
     "name": "stderr",
     "output_type": "stream",
     "text": [
      "C:\\Users\\Naz\\anaconda3\\Lib\\site-packages\\sklearn\\metrics\\_regression.py:483: FutureWarning: 'squared' is deprecated in version 1.4 and will be removed in 1.6. To calculate the root mean squared error, use the function'root_mean_squared_error'.\n",
      "  warnings.warn(\n"
     ]
    },
    {
     "name": "stdout",
     "output_type": "stream",
     "text": [
      "CatBoost Regressor RMSE: 5.992627768361157\n",
      "Training Hist Gradient Boosting Regressor...\n",
      "Hist Gradient Boosting Regressor RMSE: 6.200681577230813\n"
     ]
    },
    {
     "name": "stderr",
     "output_type": "stream",
     "text": [
      "C:\\Users\\Naz\\anaconda3\\Lib\\site-packages\\sklearn\\metrics\\_regression.py:483: FutureWarning: 'squared' is deprecated in version 1.4 and will be removed in 1.6. To calculate the root mean squared error, use the function'root_mean_squared_error'.\n",
      "  warnings.warn(\n"
     ]
    }
   ],
   "source": [
    "# Iterate over models\n",
    "for model_name, model in models.items():\n",
    "    print(f\"Training {model_name}...\")\n",
    "    model.fit(X_train, y_train)\n",
    "    \n",
    "    # Predict on validation set\n",
    "    val_predictions = model.predict(X_val)\n",
    "    val_rmse = mean_squared_error(y_val, val_predictions, squared=False)\n",
    "    print(f\"{model_name} RMSE: {val_rmse}\")\n",
    "    \n",
    "    # Track the best model\n",
    "    if val_rmse < best_rmse:\n",
    "        best_rmse = val_rmse\n",
    "        best_model = model"
   ]
  },
  {
   "cell_type": "code",
   "execution_count": 175,
   "id": "64882f47-434a-47f1-9dac-2dac3bb07240",
   "metadata": {},
   "outputs": [
    {
     "name": "stdout",
     "output_type": "stream",
     "text": [
      "Submission file created in the correct format.\n"
     ]
    }
   ],
   "source": [
    "# Predict on test data using the best model\n",
    "test_predictions = best_model.predict(test_data)\n",
    "\n",
    "# Add predictions to submission DataFrame\n",
    "submission_df['Degerlendirme Puani'] = test_predictions\n",
    "\n",
    "# Save to CSV with the required format\n",
    "submission_df[['id', 'Degerlendirme Puani']].to_csv('submission_predictions.csv', index=False)\n",
    "\n",
    "print(\"Submission file created in the correct format.\")\n"
   ]
  },
  {
   "cell_type": "code",
   "execution_count": null,
   "id": "11f21603-35d9-4d6c-a2fa-b9f378beef8c",
   "metadata": {},
   "outputs": [],
   "source": []
  }
 ],
 "metadata": {
  "kernelspec": {
   "display_name": "Python 3 (ipykernel)",
   "language": "python",
   "name": "python3"
  },
  "language_info": {
   "codemirror_mode": {
    "name": "ipython",
    "version": 3
   },
   "file_extension": ".py",
   "mimetype": "text/x-python",
   "name": "python",
   "nbconvert_exporter": "python",
   "pygments_lexer": "ipython3",
   "version": "3.12.4"
  }
 },
 "nbformat": 4,
 "nbformat_minor": 5
}
